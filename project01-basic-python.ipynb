{
 "cells": [
  {
   "cell_type": "markdown",
   "metadata": {
    "id": "E0vqbgi9ay0H"
   },
   "source": [
    "# Y.Music"
   ]
  },
  {
   "cell_type": "markdown",
   "metadata": {},
   "source": [
    "<div style=\"border:solid black 2px; padding: 20px\"><h1 style=\"color:green; margin-bottom:20px\">Reviewer's comment v1</h1>\n",
    "Halo Chulsum!\n",
    "\n",
    "Perkenalkan saya Naufal, disini saya akan mereview tugas Chulsum ya.\n",
    "\n",
    "Saya akan memberikan beberapa komen seperti dibawah ini, tolong jangan dipindah, dirubah, maupun dihapus ya.\n",
    "\n",
    "Komen yang saya berikan akan muncul dalam warna hijau, kuning, atau pun merah seperti ini:\n",
    "\n",
    "<div class=\"alert alert-success\">\n",
    "<b>Reviewer's comment</b> <a class=\"tocSkip\"></a>\n",
    "\n",
    "Bagus, semua berjalan lancar.\n",
    "\n",
    "</div>\n",
    "\n",
    "<div class=\"alert alert-warning\">\n",
    "<b>Reviewer's comment</b> <a class=\"tocSkip\"></a>\n",
    "\n",
    "Terdapat beberapa catatan.\n",
    "\n",
    "</div>\n",
    "\n",
    "<div class=\"alert alert-danger\">\n",
    "<b>Reviewer's comment</b> <a class=\"tocSkip\"></a>\n",
    "\n",
    "Perlu beberapa perbaikan\n",
    "\n",
    "</div>\n",
    "\n",
    "Dan tentu saja Chulsum dapat menjawab saya dengan menggunakan ini\n",
    "\n",
    "<div class=\"alert alert-block alert-info\">\n",
    "<b>Student answer.</b> <a class=\"tocSkip\"></a>\n",
    "</div>"
   ]
  },
  {
   "cell_type": "markdown",
   "metadata": {},
   "source": [
    "<div style=\"border:solid black 2px; padding: 20px\">\n",
    "<b>Reviewer's comment v1:</b>\n",
    "    \n",
    "<b>Overall Feedback</b> \n",
    "    \n",
    "- Secara keseluruhan ini adalah hasil yang sangat bagus! Beberapa poin bahkan sangat efisien pada penulisan kodenya.\n",
    "- Namun terdapat beberapa poin dimana perlu perbaikan namun saya rasa bukan lah hal yang sulit seperti terdapat beberapa pengulangan yang kurang efektif baik dalam perumusan fungsi maupun penulisan koding.\n",
    "    \n",
    "Untuk perbaikan nya ditunggu ya!\n",
    "</div>\n",
    "\n",
    "        "
   ]
  },
  {
   "cell_type": "markdown",
   "metadata": {},
   "source": [
    "<div style=\"border:solid black 2px; padding: 20px\">\n",
    "<b>Reviewer's comment v2:</b>\n",
    "    \n",
    "<b>Overall Feedback</b> \n",
    "    \n",
    "Selamat dengan perbaikan yang sangat bagus dan relatif sangat cepat maka project ini telah disetujui dan dapat melanjutkan ke tahap selanjutnya. Kerja yang bagus! tetap konsisten ya. Semoga berhasil.\n",
    "</div>\n",
    "\n",
    "        "
   ]
  },
  {
   "cell_type": "markdown",
   "metadata": {
    "id": "fhq_eyov_Zcs"
   },
   "source": [
    "# Konten <a id='back'></a>\n",
    "\n",
    "* [Pendahuluan](#intro)\n",
    "* [Tahap 1. Ikhtisar Data](#data_review)\n",
    "    * [Kesimpulan](#data_review_conclusions)\n",
    "* [Tahap 2. Pra-pemrosesan Data](#data_preprocessing)\n",
    "    * [2.1 Gaya penulisan judul](#header_style)\n",
    "    * [2.2 Nilai-nilai yang hilang](#missing_values)\n",
    "    * [2.3 Duplikat](#duplicates)\n",
    "    * [2.4 Kesimpulan](#data_preprocessing_conclusions)\n",
    "* [Tahap 3. Menguji Hipotesis](#hypotheses)\n",
    "    * [3.1 Hipotesis 1: aktivitas pengguna di dua kota](#activity)\n",
    "    * [3.2 Hipotesis 2: preferensi musik pada hari Senin dan Jumat](#week)\n",
    "    * [3.3 Hipotesis 3: preferensi genre di kota Springfield dan Shelbyville](#genre)\n",
    "* [Temuan](#end)"
   ]
  },
  {
   "cell_type": "markdown",
   "metadata": {
    "id": "VUC88oWjTJw2"
   },
   "source": [
    "## Pendahuluan <a id='intro'></a>\n",
    "Setiap kali kita melakukan penelitian, kita perlu merumuskan hipotesis yang kemudian dapat kita uji. Terkadang kita menerima hipotesis ini; tetapi terkadang kita juga menolaknya. Untuk membuat keputusan yang tepat, sebuah bisnis harus dapat memahami apakah asumsi yang dibuatnya benar atau tidak.\n",
    "\n",
    "Dalam proyek kali ini, Anda akan membandingkan preferensi musik kota Springfield dan Shelbyville. Anda akan mempelajari data Y.Music yang sebenarnya untuk menguji hipotesis di bawah ini dan membandingkan perilaku pengguna di kedua kota ini.\n",
    "\n",
    "### Tujuan: \n",
    "Menguji tiga hipotesis:\n",
    "1. Aktivitas pengguna berbeda-beda tergantung pada hari dan kotanya.\n",
    "2. Pada senin pagi, penduduk Springfield dan Shelbyville mendengarkan genre yang berbeda. Hal ini juga ini juga berlaku untuk Jumat malam.\n",
    "3. Pendengar di Springfield dan Shelbyville memiliki preferensi yang berbeda. Di Springfield, mereka lebih suka musik pop, sementara Shelbyville, musik rap memiliki lebih banyak penggemar.\n",
    "\n",
    "### Tahapan\n",
    "Data tentang perilaku pengguna disimpan dalam berkas `/datasets/music_project_en.csv`. Tidak ada informasi tentang kualitas data, jadi Anda perlu memeriksanya lebih dahulu sebelum menguji hipotesis.\n",
    "\n",
    "Pertama, Anda akan mengevaluasi kualitas data dan melihat apakah masalahnya signifikan. Kemudian, selama pra-pemrosesan data, Anda akan mencoba memperhitungkan masalah yang paling serius.\n",
    " \n",
    "Proyek ini akan terdiri dari tiga tahap:\n",
    " 1. Ikhtisar Data\n",
    " 2. Pra-pemrosesan Data\n",
    " 3. Menguji Hipotesis\n",
    "\n",
    " \n",
    "[Kembali ke Daftar Isi](#back)"
   ]
  },
  {
   "cell_type": "markdown",
   "metadata": {
    "id": "Ml1hmfXC_Zcs"
   },
   "source": [
    "## Tahap 1. Ikhtisar Data <a id='data_review'></a>\n",
    "\n",
    "Buka data di Y.Music lalu jelajahi data yang ada di sana."
   ]
  },
  {
   "cell_type": "markdown",
   "metadata": {
    "id": "57eAOGIz_Zcs"
   },
   "source": [
    "Anda akan membutuhkan `Pandas`, jadi Anda harus mengimpornya."
   ]
  },
  {
   "cell_type": "code",
   "execution_count": 1,
   "metadata": {
    "id": "AXN7PHPN_Zcs"
   },
   "outputs": [],
   "source": [
    "# mengimpor Pandas\n",
    "\n",
    "import pandas as pd"
   ]
  },
  {
   "cell_type": "markdown",
   "metadata": {},
   "source": [
    "<div class=\"alert alert-success\">\n",
    "<b>Reviewer's comment v1</b> <a class=\"tocSkip\"></a>\n",
    "\n",
    "Bagus! `pandas` terimpor dengan benar, bahkan beserta singkatan yang umum dipakai.\n",
    "\n",
    "</div>"
   ]
  },
  {
   "cell_type": "markdown",
   "metadata": {
    "id": "SG23P8tt_Zcs"
   },
   "source": [
    "Baca file `music_project_en.csv` dari folder `/datasets/` lalu simpan di variabel `df`:"
   ]
  },
  {
   "cell_type": "code",
   "execution_count": 2,
   "metadata": {
    "id": "fFVu7vqh_Zct"
   },
   "outputs": [
    {
     "data": {
      "text/html": [
       "<div>\n",
       "<style scoped>\n",
       "    .dataframe tbody tr th:only-of-type {\n",
       "        vertical-align: middle;\n",
       "    }\n",
       "\n",
       "    .dataframe tbody tr th {\n",
       "        vertical-align: top;\n",
       "    }\n",
       "\n",
       "    .dataframe thead th {\n",
       "        text-align: right;\n",
       "    }\n",
       "</style>\n",
       "<table border=\"1\" class=\"dataframe\">\n",
       "  <thead>\n",
       "    <tr style=\"text-align: right;\">\n",
       "      <th></th>\n",
       "      <th>userID</th>\n",
       "      <th>Track</th>\n",
       "      <th>artist</th>\n",
       "      <th>genre</th>\n",
       "      <th>City</th>\n",
       "      <th>time</th>\n",
       "      <th>Day</th>\n",
       "    </tr>\n",
       "  </thead>\n",
       "  <tbody>\n",
       "    <tr>\n",
       "      <th>count</th>\n",
       "      <td>65079</td>\n",
       "      <td>63736</td>\n",
       "      <td>57512</td>\n",
       "      <td>63881</td>\n",
       "      <td>65079</td>\n",
       "      <td>65079</td>\n",
       "      <td>65079</td>\n",
       "    </tr>\n",
       "    <tr>\n",
       "      <th>unique</th>\n",
       "      <td>41748</td>\n",
       "      <td>39666</td>\n",
       "      <td>37806</td>\n",
       "      <td>268</td>\n",
       "      <td>2</td>\n",
       "      <td>20392</td>\n",
       "      <td>3</td>\n",
       "    </tr>\n",
       "    <tr>\n",
       "      <th>top</th>\n",
       "      <td>A8AE9169</td>\n",
       "      <td>Brand</td>\n",
       "      <td>Kartvelli</td>\n",
       "      <td>pop</td>\n",
       "      <td>Springfield</td>\n",
       "      <td>08:14:07</td>\n",
       "      <td>Friday</td>\n",
       "    </tr>\n",
       "    <tr>\n",
       "      <th>freq</th>\n",
       "      <td>76</td>\n",
       "      <td>136</td>\n",
       "      <td>136</td>\n",
       "      <td>8850</td>\n",
       "      <td>45360</td>\n",
       "      <td>14</td>\n",
       "      <td>23149</td>\n",
       "    </tr>\n",
       "  </tbody>\n",
       "</table>\n",
       "</div>"
      ],
      "text/plain": [
       "          userID  Track     artist  genre       City        time     Day\n",
       "count      65079  63736      57512  63881        65079     65079   65079\n",
       "unique     41748  39666      37806    268            2     20392       3\n",
       "top     A8AE9169  Brand  Kartvelli    pop  Springfield  08:14:07  Friday\n",
       "freq          76    136        136   8850        45360        14   23149"
      ]
     },
     "execution_count": 2,
     "metadata": {},
     "output_type": "execute_result"
    }
   ],
   "source": [
    "# membaca berkas dan menyimpannya ke df\n",
    "\n",
    "df = pd.read_csv('/datasets/music_project_en.csv')\n",
    "df.describe()"
   ]
  },
  {
   "cell_type": "markdown",
   "metadata": {},
   "source": [
    "<div class=\"alert alert-success\">\n",
    "<b>Reviewer's comment v1</b> <a class=\"tocSkip\"></a>\n",
    "\n",
    "Penulisan direktori sudah benar dengan mencantumkan folder `/datasets/` serta penggunaan `describe()` untuk melihan informasi data secara cepat.\n",
    "\n",
    "</div>"
   ]
  },
  {
   "cell_type": "markdown",
   "metadata": {
    "id": "rDoOMd3uTqnZ"
   },
   "source": [
    "Tampilkan 10 baris tabel pertama:"
   ]
  },
  {
   "cell_type": "code",
   "execution_count": 3,
   "metadata": {
    "id": "oWTVX3gW_Zct",
    "scrolled": true
   },
   "outputs": [
    {
     "data": {
      "text/html": [
       "<div>\n",
       "<style scoped>\n",
       "    .dataframe tbody tr th:only-of-type {\n",
       "        vertical-align: middle;\n",
       "    }\n",
       "\n",
       "    .dataframe tbody tr th {\n",
       "        vertical-align: top;\n",
       "    }\n",
       "\n",
       "    .dataframe thead th {\n",
       "        text-align: right;\n",
       "    }\n",
       "</style>\n",
       "<table border=\"1\" class=\"dataframe\">\n",
       "  <thead>\n",
       "    <tr style=\"text-align: right;\">\n",
       "      <th></th>\n",
       "      <th>userID</th>\n",
       "      <th>Track</th>\n",
       "      <th>artist</th>\n",
       "      <th>genre</th>\n",
       "      <th>City</th>\n",
       "      <th>time</th>\n",
       "      <th>Day</th>\n",
       "    </tr>\n",
       "  </thead>\n",
       "  <tbody>\n",
       "    <tr>\n",
       "      <th>0</th>\n",
       "      <td>FFB692EC</td>\n",
       "      <td>Kamigata To Boots</td>\n",
       "      <td>The Mass Missile</td>\n",
       "      <td>rock</td>\n",
       "      <td>Shelbyville</td>\n",
       "      <td>20:28:33</td>\n",
       "      <td>Wednesday</td>\n",
       "    </tr>\n",
       "    <tr>\n",
       "      <th>1</th>\n",
       "      <td>55204538</td>\n",
       "      <td>Delayed Because of Accident</td>\n",
       "      <td>Andreas Rönnberg</td>\n",
       "      <td>rock</td>\n",
       "      <td>Springfield</td>\n",
       "      <td>14:07:09</td>\n",
       "      <td>Friday</td>\n",
       "    </tr>\n",
       "    <tr>\n",
       "      <th>2</th>\n",
       "      <td>20EC38</td>\n",
       "      <td>Funiculì funiculà</td>\n",
       "      <td>Mario Lanza</td>\n",
       "      <td>pop</td>\n",
       "      <td>Shelbyville</td>\n",
       "      <td>20:58:07</td>\n",
       "      <td>Wednesday</td>\n",
       "    </tr>\n",
       "    <tr>\n",
       "      <th>3</th>\n",
       "      <td>A3DD03C9</td>\n",
       "      <td>Dragons in the Sunset</td>\n",
       "      <td>Fire + Ice</td>\n",
       "      <td>folk</td>\n",
       "      <td>Shelbyville</td>\n",
       "      <td>08:37:09</td>\n",
       "      <td>Monday</td>\n",
       "    </tr>\n",
       "    <tr>\n",
       "      <th>4</th>\n",
       "      <td>E2DC1FAE</td>\n",
       "      <td>Soul People</td>\n",
       "      <td>Space Echo</td>\n",
       "      <td>dance</td>\n",
       "      <td>Springfield</td>\n",
       "      <td>08:34:34</td>\n",
       "      <td>Monday</td>\n",
       "    </tr>\n",
       "    <tr>\n",
       "      <th>5</th>\n",
       "      <td>842029A1</td>\n",
       "      <td>Chains</td>\n",
       "      <td>Obladaet</td>\n",
       "      <td>rusrap</td>\n",
       "      <td>Shelbyville</td>\n",
       "      <td>13:09:41</td>\n",
       "      <td>Friday</td>\n",
       "    </tr>\n",
       "    <tr>\n",
       "      <th>6</th>\n",
       "      <td>4CB90AA5</td>\n",
       "      <td>True</td>\n",
       "      <td>Roman Messer</td>\n",
       "      <td>dance</td>\n",
       "      <td>Springfield</td>\n",
       "      <td>13:00:07</td>\n",
       "      <td>Wednesday</td>\n",
       "    </tr>\n",
       "    <tr>\n",
       "      <th>7</th>\n",
       "      <td>F03E1C1F</td>\n",
       "      <td>Feeling This Way</td>\n",
       "      <td>Polina Griffith</td>\n",
       "      <td>dance</td>\n",
       "      <td>Springfield</td>\n",
       "      <td>20:47:49</td>\n",
       "      <td>Wednesday</td>\n",
       "    </tr>\n",
       "    <tr>\n",
       "      <th>8</th>\n",
       "      <td>8FA1D3BE</td>\n",
       "      <td>L’estate</td>\n",
       "      <td>Julia Dalia</td>\n",
       "      <td>ruspop</td>\n",
       "      <td>Springfield</td>\n",
       "      <td>09:17:40</td>\n",
       "      <td>Friday</td>\n",
       "    </tr>\n",
       "    <tr>\n",
       "      <th>9</th>\n",
       "      <td>E772D5C0</td>\n",
       "      <td>Pessimist</td>\n",
       "      <td>NaN</td>\n",
       "      <td>dance</td>\n",
       "      <td>Shelbyville</td>\n",
       "      <td>21:20:49</td>\n",
       "      <td>Wednesday</td>\n",
       "    </tr>\n",
       "  </tbody>\n",
       "</table>\n",
       "</div>"
      ],
      "text/plain": [
       "     userID                        Track            artist   genre  \\\n",
       "0  FFB692EC            Kamigata To Boots  The Mass Missile    rock   \n",
       "1  55204538  Delayed Because of Accident  Andreas Rönnberg    rock   \n",
       "2    20EC38            Funiculì funiculà       Mario Lanza     pop   \n",
       "3  A3DD03C9        Dragons in the Sunset        Fire + Ice    folk   \n",
       "4  E2DC1FAE                  Soul People        Space Echo   dance   \n",
       "5  842029A1                       Chains          Obladaet  rusrap   \n",
       "6  4CB90AA5                         True      Roman Messer   dance   \n",
       "7  F03E1C1F             Feeling This Way   Polina Griffith   dance   \n",
       "8  8FA1D3BE                     L’estate       Julia Dalia  ruspop   \n",
       "9  E772D5C0                    Pessimist               NaN   dance   \n",
       "\n",
       "        City        time        Day  \n",
       "0  Shelbyville  20:28:33  Wednesday  \n",
       "1  Springfield  14:07:09     Friday  \n",
       "2  Shelbyville  20:58:07  Wednesday  \n",
       "3  Shelbyville  08:37:09     Monday  \n",
       "4  Springfield  08:34:34     Monday  \n",
       "5  Shelbyville  13:09:41     Friday  \n",
       "6  Springfield  13:00:07  Wednesday  \n",
       "7  Springfield  20:47:49  Wednesday  \n",
       "8  Springfield  09:17:40     Friday  \n",
       "9  Shelbyville  21:20:49  Wednesday  "
      ]
     },
     "execution_count": 3,
     "metadata": {},
     "output_type": "execute_result"
    }
   ],
   "source": [
    "# memperoleh 10 baris pertama dari tabel df\n",
    "\n",
    "df.head(10)"
   ]
  },
  {
   "cell_type": "markdown",
   "metadata": {},
   "source": [
    "<div class=\"alert alert-success\">\n",
    "<b>Reviewer's comment v1</b> <a class=\"tocSkip\"></a>\n",
    "\n",
    "Penggunaan fungsi `head()` sudah benar untuk `n` baris pertama dari dataframe dan juga terdapat fungsi lain yang merupakan lawan dari `head()` yaitu `tail()` yang menampilkan `n` baris terkahir dari dataframe.\n",
    "\n",
    "</div>"
   ]
  },
  {
   "cell_type": "markdown",
   "metadata": {
    "id": "EO73Kwic_Zct"
   },
   "source": [
    "Memperoleh informasi umum tentang tabel dengan satu perintah:"
   ]
  },
  {
   "cell_type": "code",
   "execution_count": 4,
   "metadata": {
    "id": "DSf2kIb-_Zct"
   },
   "outputs": [
    {
     "name": "stdout",
     "output_type": "stream",
     "text": [
      "<class 'pandas.core.frame.DataFrame'>\n",
      "RangeIndex: 65079 entries, 0 to 65078\n",
      "Data columns (total 7 columns):\n",
      " #   Column    Non-Null Count  Dtype \n",
      "---  ------    --------------  ----- \n",
      " 0     userID  65079 non-null  object\n",
      " 1   Track     63736 non-null  object\n",
      " 2   artist    57512 non-null  object\n",
      " 3   genre     63881 non-null  object\n",
      " 4     City    65079 non-null  object\n",
      " 5   time      65079 non-null  object\n",
      " 6   Day       65079 non-null  object\n",
      "dtypes: object(7)\n",
      "memory usage: 3.5+ MB\n"
     ]
    }
   ],
   "source": [
    "# memperoleh informasi umum tentang data di df\n",
    "\n",
    "df.info()"
   ]
  },
  {
   "cell_type": "markdown",
   "metadata": {},
   "source": [
    "<div class=\"alert alert-success\">\n",
    "<b>Reviewer's comment v1</b> <a class=\"tocSkip\"></a>\n",
    "\n",
    "Pilihan yang tepat menggunakan `info()` untuk menampilkan banyak informasi dari dataframe dengan efisien.\n",
    "\n",
    "</div>"
   ]
  },
  {
   "cell_type": "markdown",
   "metadata": {
    "id": "TaQ2Iwbr_Zct"
   },
   "source": [
    "Tabel ini berisi tujuh kolom. Semuanya menyimpan tipe data yang sama, yaitu: `objek`.\n",
    "\n",
    "Berdasarkan dokumentasi:\n",
    "- `'userID'` — pengenal pengguna\n",
    "- `'Track'` — judul trek\n",
    "- `'artist'` — nama artis\n",
    "- `'genre'`\n",
    "- `'City'` — kota tempat pengguna berada\n",
    "- `'time'` — lama waktu lagu tersebut dimainkan\n",
    "- `'Day'` — nama hari\n",
    "\n",
    "Kita dapat melihat tiga masalah dengan gaya penulisan nama kolom:\n",
    "1. Beberapa nama huruf besar, beberapa huruf kecil.\n",
    "2. Ada penggunaan spasi pada beberapa nama.\n",
    "3. `tidak menggunakan gaya penulisan snake case ?`.\n",
    "\n",
    "Jumlah nilai kolom berbeda. Ini berarti data mengandung nilai yang hilang.\n"
   ]
  },
  {
   "cell_type": "markdown",
   "metadata": {},
   "source": [
    "<div class=\"alert alert-danger\">\n",
    "<b>Reviewer's comment v1</b> <a class=\"tocSkip\"></a>\n",
    "\n",
    "Poin ketiga terkait masalah pada gaya penulisan nama kolom belum dijawab.\n",
    "\n",
    "</div>"
   ]
  },
  {
   "cell_type": "markdown",
   "metadata": {},
   "source": [
    "<div class=\"alert alert-success\">\n",
    "<b>Reviewer's comment v2</b> <a class=\"tocSkip\"></a>\n",
    "\n",
    "Tepat!\n",
    "\n",
    "</div>"
   ]
  },
  {
   "cell_type": "markdown",
   "metadata": {
    "id": "MCB6-dXG_Zct"
   },
   "source": [
    "### Kesimpulan <a id='data_review_conclusions'></a> \n",
    "\n",
    "Setiap baris dalam tabel menyimpan data pada lagu yang dimainkan. Beberapa kolom menggambarkan lagu itu sendiri: judul, artis, dan genre. Sisanya menyampaikan informasi tentang pengguna: kota asal mereka, waktu mereka memutar lagu.\n",
    "\n",
    "Jelas bahwa data tersebut cukup untuk menguji hipotesis. Namun, ada nilai-nilai yang hilang.\n",
    "\n",
    "Selanjutnya, kita perlu melakukan pra-pemrosesan data terlebih dahulu."
   ]
  },
  {
   "cell_type": "markdown",
   "metadata": {
    "id": "3eL__vcwViOi"
   },
   "source": [
    "[Kembali ke Daftar Isi](#back)"
   ]
  },
  {
   "cell_type": "markdown",
   "metadata": {
    "id": "SjYF6Ub9_Zct"
   },
   "source": [
    "## Tahap 2. Pra-pemrosesan Data <a id='data_preprocessing'></a>\n",
    "Perbaiki format pada judul kolom dan atasi nilai yang hilang. Kemudian, periksa apakah ada duplikat dalam data."
   ]
  },
  {
   "cell_type": "markdown",
   "metadata": {
    "id": "dIaKXr29_Zct"
   },
   "source": [
    "### Gaya Penulisan Judul <a id='header_style'></a>\n",
    "Tampilkan judul kolom:\n"
   ]
  },
  {
   "cell_type": "code",
   "execution_count": 5,
   "metadata": {
    "id": "oKOTdF_Q_Zct"
   },
   "outputs": [
    {
     "data": {
      "text/plain": [
       "Index(['  userID', 'Track', 'artist', 'genre', '  City  ', 'time', 'Day'], dtype='object')"
      ]
     },
     "execution_count": 5,
     "metadata": {},
     "output_type": "execute_result"
    }
   ],
   "source": [
    "# daftar nama kolom di tabel df\n",
    "\n",
    "df.columns"
   ]
  },
  {
   "cell_type": "markdown",
   "metadata": {},
   "source": [
    "<div class=\"alert alert-success\">\n",
    "<b>Reviewer's comment v1</b> <a class=\"tocSkip\"></a>\n",
    "\n",
    "Sudah bagus tidak menggunakan fungsi `print()` dalam menampilkan output karena sudah menjadi baris terakhir di dalam sel.\n",
    "\n",
    "</div>"
   ]
  },
  {
   "cell_type": "markdown",
   "metadata": {
    "id": "zj5534cv_Zct"
   },
   "source": [
    "Ubah nama kolom sesuai dengan aturan gaya penulisan yang baik:\n",
    "* Jika nama memiliki beberapa kata, gunakan snake_case\n",
    "* Semua karakter harus menggunakan huruf kecil\n",
    "* Hapus spasi"
   ]
  },
  {
   "cell_type": "code",
   "execution_count": 6,
   "metadata": {
    "id": "ISlFqs5y_Zct"
   },
   "outputs": [],
   "source": [
    "# mengganti nama kolom\n",
    "\n",
    "df = df.rename(\n",
    "    columns = {\n",
    "        '  userID': 'user_id',\n",
    "        'Track': 'track',\n",
    "        '  City  ': 'city',\n",
    "        'Day': 'day'\n",
    "    }\n",
    ")"
   ]
  },
  {
   "cell_type": "markdown",
   "metadata": {},
   "source": [
    "<div class=\"alert alert-success\">\n",
    "<b>Reviewer's comment v1</b> <a class=\"tocSkip\"></a>\n",
    "\n",
    "Penggunaan `rename()` yang sudah efisien dan optimal dengan melakukan rename hanya pada kolom-kolom yang diperlukan.\n",
    "\n",
    "</div>"
   ]
  },
  {
   "cell_type": "markdown",
   "metadata": {
    "id": "1dqbh00J_Zct"
   },
   "source": [
    "Periksa hasilnya. Tampilkan nama kolom sekali lagi:"
   ]
  },
  {
   "cell_type": "code",
   "execution_count": 7,
   "metadata": {
    "id": "d4NOAmTW_Zct"
   },
   "outputs": [
    {
     "data": {
      "text/plain": [
       "Index(['user_id', 'track', 'artist', 'genre', 'city', 'time', 'day'], dtype='object')"
      ]
     },
     "execution_count": 7,
     "metadata": {},
     "output_type": "execute_result"
    }
   ],
   "source": [
    "# hasil pengecekan: daftar nama kolom\n",
    "\n",
    "df.columns"
   ]
  },
  {
   "cell_type": "markdown",
   "metadata": {
    "id": "xYJk6ksJVpOl"
   },
   "source": [
    "[Kembali ke Daftar Isi](#back)"
   ]
  },
  {
   "cell_type": "markdown",
   "metadata": {
    "id": "5ISfbcfY_Zct"
   },
   "source": [
    "### Nilai-Nilai yang Hilang <a id='missing_values'></a>\n",
    "Pertama, temukan jumlah nilai yang hilang dalam tabel. Untuk melakukannya, gunakan dua metode `Pandas`:"
   ]
  },
  {
   "cell_type": "code",
   "execution_count": 8,
   "metadata": {
    "id": "RskX29qr_Zct",
    "scrolled": true
   },
   "outputs": [
    {
     "name": "stdout",
     "output_type": "stream",
     "text": [
      "user_id       0\n",
      "track      1343\n",
      "artist     7567\n",
      "genre      1198\n",
      "city          0\n",
      "time          0\n",
      "day           0\n",
      "dtype: int64\n"
     ]
    }
   ],
   "source": [
    "# menghitung nilai yang hilang\n",
    "\n",
    "print(df.isna().sum())"
   ]
  },
  {
   "cell_type": "markdown",
   "metadata": {},
   "source": [
    "<div class=\"alert alert-success\">\n",
    "<b>Reviewer's comment v1</b> <a class=\"tocSkip\"></a>\n",
    "\n",
    "Penggunaan dua metode `isnull` dan `isna` sudah bagus namun dalam sel sebelumnya hanya menampilkan baris terakhir saja yaitu `isna` yang merupakan metode paling umum digunakan.\n",
    "\n",
    "</div>"
   ]
  },
  {
   "cell_type": "markdown",
   "metadata": {
    "id": "qubhgnlO_Zct"
   },
   "source": [
    "Tidak semua nilai yang hilang berpengaruh terhadap penelitian. Misalnya, nilai yang hilang dalam `track` dan `artist` tidak begitu penting. Anda cukup menggantinya dengan tanda yang jelas.\n",
    "\n",
    "Namun nilai yang hilang dalam `'genre'` dapat memengaruhi perbandingan preferensi musik di Springfield dan Shelbyville. Dalam kehidupan nyata, ini akan berguna untuk mempelajari alasan mengapa data tersebut hilang dan mencoba memperbaikinya. Tetapi kita tidak memiliki kesempatan itu dalam proyek ini. Jadi Anda harus:\n",
    "* Isi nilai yang hilang ini dengan sebuah tanda\n",
    "* Evaluasi seberapa besar nilai yang hilang dapat memengaruhi perhitungan Anda"
   ]
  },
  {
   "cell_type": "markdown",
   "metadata": {
    "id": "fSv2laPA_Zct"
   },
   "source": [
    "Ganti nilai yang hilang pada `'track'`, `'artist'`, dan `'genre'` dengan string `'unknown'`. Untuk melakukannya, buat list `columns_to_replace`, lakukan *loop* dengan `for`, dan ganti nilai yang hilang di setiap kolom:"
   ]
  },
  {
   "cell_type": "code",
   "execution_count": 50,
   "metadata": {
    "id": "KplB5qWs_Zct"
   },
   "outputs": [],
   "source": [
    "# loop nama kolom dan ganti nilai yang hilang dengan 'unknown'\n",
    "\n",
    "missing_val_col = ['track', 'artist', 'genre']\n",
    "\n",
    "for column in missing_val_col:\n",
    "    df[column] = df[column].fillna('unknown') \n",
    "#     df.loc[df[column].isna(), column] = 'unknown'"
   ]
  },
  {
   "cell_type": "markdown",
   "metadata": {},
   "source": [
    "<div class=\"alert alert-danger\">\n",
    "<b>Reviewer's comment v1</b> <a class=\"tocSkip\"></a>\n",
    "\n",
    "Penggunaan looping sudah tepat untuk mengganti nilai yang hilang namun lebih baik menggunakan `fillna()` agar lebih efisien.\n",
    "\n",
    "</div>"
   ]
  },
  {
   "cell_type": "markdown",
   "metadata": {},
   "source": [
    "<div class=\"alert alert-success\">\n",
    "<b>Reviewer's comment v2</b> <a class=\"tocSkip\"></a>\n",
    "\n",
    "Kerja bagus!\n",
    "</div>"
   ]
  },
  {
   "cell_type": "markdown",
   "metadata": {
    "id": "Ilsm-MZo_Zct"
   },
   "source": [
    "Pastikan tidak ada tabel lagi yang berisi nilai yang hilang. Hitung kembali nilai yang hilang."
   ]
  },
  {
   "cell_type": "code",
   "execution_count": 10,
   "metadata": {
    "id": "Tq4nYRX4_Zct"
   },
   "outputs": [
    {
     "data": {
      "text/plain": [
       "user_id    0\n",
       "track      0\n",
       "artist     0\n",
       "genre      0\n",
       "city       0\n",
       "time       0\n",
       "day        0\n",
       "dtype: int64"
      ]
     },
     "execution_count": 10,
     "metadata": {},
     "output_type": "execute_result"
    }
   ],
   "source": [
    "# menghitung nilai yang hilang\n",
    "\n",
    "df.isna().sum()"
   ]
  },
  {
   "cell_type": "markdown",
   "metadata": {
    "id": "74ZIBmq9VrsK"
   },
   "source": [
    "[Kembali ke Daftar Isi](#back)"
   ]
  },
  {
   "cell_type": "markdown",
   "metadata": {
    "id": "BWKRtBJ3_Zct"
   },
   "source": [
    "### Duplikat <a id='duplicates'></a>\n",
    "Temukan jumlah duplikat yang jelas dalam tabel menggunakan satu perintah:"
   ]
  },
  {
   "cell_type": "code",
   "execution_count": 11,
   "metadata": {
    "id": "36eES_S0_Zct"
   },
   "outputs": [
    {
     "data": {
      "text/plain": [
       "3826"
      ]
     },
     "execution_count": 11,
     "metadata": {},
     "output_type": "execute_result"
    }
   ],
   "source": [
    "# menghitung duplikat yang jelas\n",
    "\n",
    "df.duplicated().sum()"
   ]
  },
  {
   "cell_type": "markdown",
   "metadata": {},
   "source": [
    "<div class=\"alert alert-success\">\n",
    "<b>Reviewer's comment v1</b> <a class=\"tocSkip\"></a>\n",
    "\n",
    "Perhitungan duplikat sudah dilakukan secara benar dan efisien.\n",
    "\n",
    "</div>"
   ]
  },
  {
   "cell_type": "markdown",
   "metadata": {
    "id": "Ot25h6XR_Zct"
   },
   "source": [
    "Panggil metode `Pandas` untuk menghapus duplikat yang jelas:"
   ]
  },
  {
   "cell_type": "code",
   "execution_count": 48,
   "metadata": {
    "id": "exFHq6tt_Zct"
   },
   "outputs": [
    {
     "data": {
      "text/html": [
       "<div>\n",
       "<style scoped>\n",
       "    .dataframe tbody tr th:only-of-type {\n",
       "        vertical-align: middle;\n",
       "    }\n",
       "\n",
       "    .dataframe tbody tr th {\n",
       "        vertical-align: top;\n",
       "    }\n",
       "\n",
       "    .dataframe thead th {\n",
       "        text-align: right;\n",
       "    }\n",
       "</style>\n",
       "<table border=\"1\" class=\"dataframe\">\n",
       "  <thead>\n",
       "    <tr style=\"text-align: right;\">\n",
       "      <th></th>\n",
       "      <th>user_id</th>\n",
       "      <th>track</th>\n",
       "      <th>artist</th>\n",
       "      <th>genre</th>\n",
       "      <th>city</th>\n",
       "      <th>time</th>\n",
       "      <th>day</th>\n",
       "    </tr>\n",
       "  </thead>\n",
       "  <tbody>\n",
       "    <tr>\n",
       "      <th>0</th>\n",
       "      <td>FFB692EC</td>\n",
       "      <td>Kamigata To Boots</td>\n",
       "      <td>The Mass Missile</td>\n",
       "      <td>rock</td>\n",
       "      <td>Shelbyville</td>\n",
       "      <td>20:28:33</td>\n",
       "      <td>Wednesday</td>\n",
       "    </tr>\n",
       "    <tr>\n",
       "      <th>1</th>\n",
       "      <td>55204538</td>\n",
       "      <td>Delayed Because of Accident</td>\n",
       "      <td>Andreas Rönnberg</td>\n",
       "      <td>rock</td>\n",
       "      <td>Springfield</td>\n",
       "      <td>14:07:09</td>\n",
       "      <td>Friday</td>\n",
       "    </tr>\n",
       "    <tr>\n",
       "      <th>2</th>\n",
       "      <td>20EC38</td>\n",
       "      <td>Funiculì funiculà</td>\n",
       "      <td>Mario Lanza</td>\n",
       "      <td>pop</td>\n",
       "      <td>Shelbyville</td>\n",
       "      <td>20:58:07</td>\n",
       "      <td>Wednesday</td>\n",
       "    </tr>\n",
       "    <tr>\n",
       "      <th>3</th>\n",
       "      <td>A3DD03C9</td>\n",
       "      <td>Dragons in the Sunset</td>\n",
       "      <td>Fire + Ice</td>\n",
       "      <td>folk</td>\n",
       "      <td>Shelbyville</td>\n",
       "      <td>08:37:09</td>\n",
       "      <td>Monday</td>\n",
       "    </tr>\n",
       "    <tr>\n",
       "      <th>4</th>\n",
       "      <td>E2DC1FAE</td>\n",
       "      <td>Soul People</td>\n",
       "      <td>Space Echo</td>\n",
       "      <td>dance</td>\n",
       "      <td>Springfield</td>\n",
       "      <td>08:34:34</td>\n",
       "      <td>Monday</td>\n",
       "    </tr>\n",
       "    <tr>\n",
       "      <th>...</th>\n",
       "      <td>...</td>\n",
       "      <td>...</td>\n",
       "      <td>...</td>\n",
       "      <td>...</td>\n",
       "      <td>...</td>\n",
       "      <td>...</td>\n",
       "      <td>...</td>\n",
       "    </tr>\n",
       "    <tr>\n",
       "      <th>65074</th>\n",
       "      <td>729CBB09</td>\n",
       "      <td>My Name</td>\n",
       "      <td>McLean</td>\n",
       "      <td>rnb</td>\n",
       "      <td>Springfield</td>\n",
       "      <td>13:32:28</td>\n",
       "      <td>Wednesday</td>\n",
       "    </tr>\n",
       "    <tr>\n",
       "      <th>65075</th>\n",
       "      <td>D08D4A55</td>\n",
       "      <td>Maybe One Day (feat. Black Spade)</td>\n",
       "      <td>Blu &amp; Exile</td>\n",
       "      <td>hiphop</td>\n",
       "      <td>Shelbyville</td>\n",
       "      <td>10:00:00</td>\n",
       "      <td>Monday</td>\n",
       "    </tr>\n",
       "    <tr>\n",
       "      <th>65076</th>\n",
       "      <td>C5E3A0D5</td>\n",
       "      <td>Jalopiina</td>\n",
       "      <td>unknown</td>\n",
       "      <td>industrial</td>\n",
       "      <td>Springfield</td>\n",
       "      <td>20:09:26</td>\n",
       "      <td>Friday</td>\n",
       "    </tr>\n",
       "    <tr>\n",
       "      <th>65077</th>\n",
       "      <td>321D0506</td>\n",
       "      <td>Freight Train</td>\n",
       "      <td>Chas McDevitt</td>\n",
       "      <td>rock</td>\n",
       "      <td>Springfield</td>\n",
       "      <td>21:43:59</td>\n",
       "      <td>Friday</td>\n",
       "    </tr>\n",
       "    <tr>\n",
       "      <th>65078</th>\n",
       "      <td>3A64EF84</td>\n",
       "      <td>Tell Me Sweet Little Lies</td>\n",
       "      <td>Monica Lopez</td>\n",
       "      <td>country</td>\n",
       "      <td>Springfield</td>\n",
       "      <td>21:59:46</td>\n",
       "      <td>Friday</td>\n",
       "    </tr>\n",
       "  </tbody>\n",
       "</table>\n",
       "<p>61253 rows × 7 columns</p>\n",
       "</div>"
      ],
      "text/plain": [
       "        user_id                              track            artist  \\\n",
       "0      FFB692EC                  Kamigata To Boots  The Mass Missile   \n",
       "1      55204538        Delayed Because of Accident  Andreas Rönnberg   \n",
       "2        20EC38                  Funiculì funiculà       Mario Lanza   \n",
       "3      A3DD03C9              Dragons in the Sunset        Fire + Ice   \n",
       "4      E2DC1FAE                        Soul People        Space Echo   \n",
       "...         ...                                ...               ...   \n",
       "65074  729CBB09                            My Name            McLean   \n",
       "65075  D08D4A55  Maybe One Day (feat. Black Spade)       Blu & Exile   \n",
       "65076  C5E3A0D5                          Jalopiina           unknown   \n",
       "65077  321D0506                      Freight Train     Chas McDevitt   \n",
       "65078  3A64EF84          Tell Me Sweet Little Lies      Monica Lopez   \n",
       "\n",
       "            genre         city      time        day  \n",
       "0            rock  Shelbyville  20:28:33  Wednesday  \n",
       "1            rock  Springfield  14:07:09     Friday  \n",
       "2             pop  Shelbyville  20:58:07  Wednesday  \n",
       "3            folk  Shelbyville  08:37:09     Monday  \n",
       "4           dance  Springfield  08:34:34     Monday  \n",
       "...           ...          ...       ...        ...  \n",
       "65074         rnb  Springfield  13:32:28  Wednesday  \n",
       "65075      hiphop  Shelbyville  10:00:00     Monday  \n",
       "65076  industrial  Springfield  20:09:26     Friday  \n",
       "65077        rock  Springfield  21:43:59     Friday  \n",
       "65078     country  Springfield  21:59:46     Friday  \n",
       "\n",
       "[61253 rows x 7 columns]"
      ]
     },
     "execution_count": 48,
     "metadata": {},
     "output_type": "execute_result"
    }
   ],
   "source": [
    "# menghapus duplikat yang jelas\n",
    "\n",
    "# df.drop_duplicates(inplace=True) \n",
    "df.drop_duplicates().reset_index(drop=True)\n",
    "df"
   ]
  },
  {
   "cell_type": "markdown",
   "metadata": {},
   "source": [
    "<div class=\"alert alert-danger\">\n",
    "<b>Reviewer's comment v1</b> <a class=\"tocSkip\"></a>\n",
    "\n",
    "Penggunaan `drop_duplicates()` sudah tepat namun diperlukan tambahan `reset_index()` untuk melakukan reset ulang index baru yang terbentuk.\n",
    "\n",
    "</div>"
   ]
  },
  {
   "cell_type": "markdown",
   "metadata": {},
   "source": [
    "<div class=\"alert alert-success\">\n",
    "<b>Reviewer's comment v2</b> <a class=\"tocSkip\"></a>\n",
    "\n",
    "Penambahan `drop=True` sangat diperlukan disini untuk memastikan tidak muncul kolom index yang tidak diperlukan.\n",
    "\n",
    "</div>"
   ]
  },
  {
   "cell_type": "markdown",
   "metadata": {
    "id": "Im2YwBEG_Zct"
   },
   "source": [
    "Hitung duplikat yang jelas sekali lagi untuk memastikan Anda telah menghapus semuanya:"
   ]
  },
  {
   "cell_type": "code",
   "execution_count": 13,
   "metadata": {
    "id": "-8PuNWQ0_Zct"
   },
   "outputs": [
    {
     "data": {
      "text/plain": [
       "3826"
      ]
     },
     "execution_count": 13,
     "metadata": {},
     "output_type": "execute_result"
    }
   ],
   "source": [
    "# memeriksa duplikat\n",
    "\n",
    "df.duplicated().sum()"
   ]
  },
  {
   "cell_type": "markdown",
   "metadata": {
    "id": "QlFBsxAr_Zct"
   },
   "source": [
    "Sekarang hapus duplikat implisit di kolom `genre`. Misalnya, nama genre dapat ditulis dengan cara yang berbeda. Kesalahan seperti ini juga akan memengaruhi hasil."
   ]
  },
  {
   "cell_type": "markdown",
   "metadata": {
    "id": "eSjWwsOh_Zct"
   },
   "source": [
    "Tampilkan daftar nama genre yang unik, urutkan berdasarkan abjad. Untuk melakukannya:\n",
    "* Ambil kolom DataFrame yang dimaksud\n",
    "* Terapkan metode pengurutan untuk itu\n",
    "* Untuk kolom yang diurutkan, panggil metode yang akan menghasilkan semua nilai kolom yang unik"
   ]
  },
  {
   "cell_type": "code",
   "execution_count": 43,
   "metadata": {
    "id": "JIUcqzZN_Zct",
    "scrolled": true
   },
   "outputs": [
    {
     "data": {
      "text/plain": [
       "['acid',\n",
       " 'acoustic',\n",
       " 'action',\n",
       " 'adult',\n",
       " 'africa',\n",
       " 'afrikaans',\n",
       " 'alternative',\n",
       " 'ambient',\n",
       " 'americana',\n",
       " 'animated',\n",
       " 'anime',\n",
       " 'arabesk',\n",
       " 'arabic',\n",
       " 'arena',\n",
       " 'argentinetango',\n",
       " 'art',\n",
       " 'audiobook',\n",
       " 'avantgarde',\n",
       " 'axé',\n",
       " 'baile',\n",
       " 'balkan',\n",
       " 'beats',\n",
       " 'bigroom',\n",
       " 'black',\n",
       " 'bluegrass',\n",
       " 'blues',\n",
       " 'bollywood',\n",
       " 'bossa',\n",
       " 'brazilian',\n",
       " 'breakbeat',\n",
       " 'breaks',\n",
       " 'broadway',\n",
       " 'cantautori',\n",
       " 'cantopop',\n",
       " 'canzone',\n",
       " 'caribbean',\n",
       " 'caucasian',\n",
       " 'celtic',\n",
       " 'chamber',\n",
       " 'children',\n",
       " 'chill',\n",
       " 'chinese',\n",
       " 'choral',\n",
       " 'christian',\n",
       " 'christmas',\n",
       " 'classical',\n",
       " 'classicmetal',\n",
       " 'club',\n",
       " 'colombian',\n",
       " 'comedy',\n",
       " 'conjazz',\n",
       " 'contemporary',\n",
       " 'country',\n",
       " 'cuban',\n",
       " 'dance',\n",
       " 'dancehall',\n",
       " 'dancepop',\n",
       " 'dark',\n",
       " 'death',\n",
       " 'deep',\n",
       " 'deutschrock',\n",
       " 'deutschspr',\n",
       " 'dirty',\n",
       " 'disco',\n",
       " 'dnb',\n",
       " 'documentary',\n",
       " 'downbeat',\n",
       " 'downtempo',\n",
       " 'drum',\n",
       " 'dub',\n",
       " 'dubstep',\n",
       " 'eastern',\n",
       " 'easy',\n",
       " 'electronic',\n",
       " 'electropop',\n",
       " 'emo',\n",
       " 'entehno',\n",
       " 'epicmetal',\n",
       " 'estrada',\n",
       " 'ethnic',\n",
       " 'eurofolk',\n",
       " 'european',\n",
       " 'experimental',\n",
       " 'extrememetal',\n",
       " 'fado',\n",
       " 'film',\n",
       " 'fitness',\n",
       " 'flamenco',\n",
       " 'folk',\n",
       " 'folklore',\n",
       " 'folkmetal',\n",
       " 'folkrock',\n",
       " 'folktronica',\n",
       " 'forró',\n",
       " 'frankreich',\n",
       " 'französisch',\n",
       " 'french',\n",
       " 'funk',\n",
       " 'future',\n",
       " 'gangsta',\n",
       " 'garage',\n",
       " 'german',\n",
       " 'ghazal',\n",
       " 'gitarre',\n",
       " 'glitch',\n",
       " 'gospel',\n",
       " 'gothic',\n",
       " 'grime',\n",
       " 'grunge',\n",
       " 'gypsy',\n",
       " 'handsup',\n",
       " \"hard'n'heavy\",\n",
       " 'hardcore',\n",
       " 'hardstyle',\n",
       " 'hardtechno',\n",
       " 'hiphop',\n",
       " 'historisch',\n",
       " 'holiday',\n",
       " 'horror',\n",
       " 'house',\n",
       " 'idm',\n",
       " 'independent',\n",
       " 'indian',\n",
       " 'indie',\n",
       " 'indipop',\n",
       " 'industrial',\n",
       " 'inspirational',\n",
       " 'instrumental',\n",
       " 'international',\n",
       " 'irish',\n",
       " 'jam',\n",
       " 'japanese',\n",
       " 'jazz',\n",
       " 'jewish',\n",
       " 'jpop',\n",
       " 'jungle',\n",
       " 'k-pop',\n",
       " 'karadeniz',\n",
       " 'karaoke',\n",
       " 'kayokyoku',\n",
       " 'korean',\n",
       " 'laiko',\n",
       " 'latin',\n",
       " 'latino',\n",
       " 'leftfield',\n",
       " 'local',\n",
       " 'lounge',\n",
       " 'loungeelectronic',\n",
       " 'lovers',\n",
       " 'malaysian',\n",
       " 'mandopop',\n",
       " 'marschmusik',\n",
       " 'meditative',\n",
       " 'mediterranean',\n",
       " 'melodic',\n",
       " 'metal',\n",
       " 'metalcore',\n",
       " 'mexican',\n",
       " 'middle',\n",
       " 'minimal',\n",
       " 'miscellaneous',\n",
       " 'modern',\n",
       " 'mood',\n",
       " 'mpb',\n",
       " 'muslim',\n",
       " 'native',\n",
       " 'neoklassik',\n",
       " 'neue',\n",
       " 'new',\n",
       " 'newage',\n",
       " 'newwave',\n",
       " 'nu',\n",
       " 'nujazz',\n",
       " 'numetal',\n",
       " 'oceania',\n",
       " 'old',\n",
       " 'opera',\n",
       " 'orchestral',\n",
       " 'other',\n",
       " 'piano',\n",
       " 'pop',\n",
       " 'popelectronic',\n",
       " 'popeurodance',\n",
       " 'post',\n",
       " 'posthardcore',\n",
       " 'postrock',\n",
       " 'power',\n",
       " 'progmetal',\n",
       " 'progressive',\n",
       " 'psychedelic',\n",
       " 'punjabi',\n",
       " 'punk',\n",
       " 'quebecois',\n",
       " 'ragga',\n",
       " 'ram',\n",
       " 'rancheras',\n",
       " 'rap',\n",
       " 'rave',\n",
       " 'reggae',\n",
       " 'reggaeton',\n",
       " 'regional',\n",
       " 'relax',\n",
       " 'religious',\n",
       " 'retro',\n",
       " 'rhythm',\n",
       " 'rnb',\n",
       " 'rnr',\n",
       " 'rock',\n",
       " 'rockabilly',\n",
       " 'romance',\n",
       " 'roots',\n",
       " 'ruspop',\n",
       " 'rusrap',\n",
       " 'rusrock',\n",
       " 'salsa',\n",
       " 'samba',\n",
       " 'schlager',\n",
       " 'self',\n",
       " 'sertanejo',\n",
       " 'shoegazing',\n",
       " 'showtunes',\n",
       " 'singer',\n",
       " 'ska',\n",
       " 'slow',\n",
       " 'smooth',\n",
       " 'soul',\n",
       " 'soulful',\n",
       " 'sound',\n",
       " 'soundtrack',\n",
       " 'southern',\n",
       " 'specialty',\n",
       " 'speech',\n",
       " 'spiritual',\n",
       " 'sport',\n",
       " 'stonerrock',\n",
       " 'surf',\n",
       " 'swing',\n",
       " 'synthpop',\n",
       " 'sängerportrait',\n",
       " 'tango',\n",
       " 'tanzorchester',\n",
       " 'taraftar',\n",
       " 'tech',\n",
       " 'techno',\n",
       " 'thrash',\n",
       " 'top',\n",
       " 'traditional',\n",
       " 'tradjazz',\n",
       " 'trance',\n",
       " 'tribal',\n",
       " 'trip',\n",
       " 'triphop',\n",
       " 'tropical',\n",
       " 'türk',\n",
       " 'türkçe',\n",
       " 'unknown',\n",
       " 'urban',\n",
       " 'uzbek',\n",
       " 'variété',\n",
       " 'vi',\n",
       " 'videogame',\n",
       " 'vocal',\n",
       " 'western',\n",
       " 'world',\n",
       " 'worldbeat',\n",
       " 'ïîï']"
      ]
     },
     "execution_count": 43,
     "metadata": {},
     "output_type": "execute_result"
    }
   ],
   "source": [
    "# melihat nama genre yang unik\n",
    "\n",
    "# print(df['genre'].unique())\n",
    "sorted(df['genre'].unique())"
   ]
  },
  {
   "cell_type": "markdown",
   "metadata": {},
   "source": [
    "<div class=\"alert alert-warning\">\n",
    "<b>Reviewer's comment v1</b> <a class=\"tocSkip\"></a>\n",
    "\n",
    "`print()` sudah tidak diperlukan karena merupakan baris terakhir pada kode.\n",
    "\n",
    "</div>"
   ]
  },
  {
   "cell_type": "markdown",
   "metadata": {
    "id": "qej-Qmuo_Zct"
   },
   "source": [
    "Lihat melalui *list* untuk menemukan duplikat implisit dari genre `hiphop`. Ini bisa berupa nama yang ditulis secara salah atau nama alternatif dari genre yang sama.\n",
    "\n",
    "Anda akan melihat duplikat implisit berikut:\n",
    "* `hip`\n",
    "* `hop`\n",
    "* `hip-hop`\n",
    "\n",
    "Untuk menghapusnya, gunakan fungsi `replace_wrong_genres()` dengan dua parameter:\n",
    "* `wrong_genres=` — daftar duplikat\n",
    "* `correct_genre=` — string dengan nilai yang benar\n",
    "\n",
    "Fungsi harus mengoreksi nama dalam kolom `'genre'` dari tabel `df`, yaitu mengganti setiap nilai dari daftar `wrong_genres` dengan nilai dalam `correct_genre`."
   ]
  },
  {
   "cell_type": "code",
   "execution_count": 15,
   "metadata": {
    "id": "ErNDkmns_Zct"
   },
   "outputs": [],
   "source": [
    "# fungsi untuk mengganti duplikat implisit\n",
    "\n",
    "def replace_wrong_genres(wrong_genres, correct_genre):\n",
    "    for wrong_val in wrong_vals:\n",
    "        df['genre'] = df['genre'].replace(wrong_genres, correct_genre)"
   ]
  },
  {
   "cell_type": "markdown",
   "metadata": {},
   "source": [
    "<div class=\"alert alert-success\">\n",
    "<b>Reviewer's comment v1</b> <a class=\"tocSkip\"></a>\n",
    "\n",
    "Fungsi terdefinisi dengan benar.\n",
    "\n",
    "</div>"
   ]
  },
  {
   "cell_type": "markdown",
   "metadata": {
    "id": "aDoBJxbA_Zct"
   },
   "source": [
    "Panggil `replace_wrong_genres()` dan berikan argumennya sehingga menghapus duplikat implisit (`hip`, `hop`, dan `hip-hop`) dan menggantinya dengan `hiphop`:"
   ]
  },
  {
   "cell_type": "code",
   "execution_count": 16,
   "metadata": {
    "id": "YN5i2hpmSo09"
   },
   "outputs": [],
   "source": [
    "# menghapus duplikat implisit\n",
    "\n",
    "wrong_vals = ['hip', 'hop', 'hip-hop']\n",
    "replace_wrong_genres(wrong_vals, 'hiphop')"
   ]
  },
  {
   "cell_type": "markdown",
   "metadata": {},
   "source": [
    "<div class=\"alert alert-success\">\n",
    "<b>Reviewer's comment v1</b> <a class=\"tocSkip\"></a>\n",
    "\n",
    "OK!\n",
    "</div>"
   ]
  },
  {
   "cell_type": "markdown",
   "metadata": {
    "id": "zQKF16_RG15m"
   },
   "source": [
    "Pastikan nama duplikat telah dihapus. Tampilkan daftar nilai unik dari kolom `'genre'`:"
   ]
  },
  {
   "cell_type": "code",
   "execution_count": 51,
   "metadata": {
    "id": "wvixALnFG15m",
    "scrolled": true
   },
   "outputs": [
    {
     "data": {
      "text/plain": [
       "['acid',\n",
       " 'acoustic',\n",
       " 'action',\n",
       " 'adult',\n",
       " 'africa',\n",
       " 'afrikaans',\n",
       " 'alternative',\n",
       " 'ambient',\n",
       " 'americana',\n",
       " 'animated',\n",
       " 'anime',\n",
       " 'arabesk',\n",
       " 'arabic',\n",
       " 'arena',\n",
       " 'argentinetango',\n",
       " 'art',\n",
       " 'audiobook',\n",
       " 'avantgarde',\n",
       " 'axé',\n",
       " 'baile',\n",
       " 'balkan',\n",
       " 'beats',\n",
       " 'bigroom',\n",
       " 'black',\n",
       " 'bluegrass',\n",
       " 'blues',\n",
       " 'bollywood',\n",
       " 'bossa',\n",
       " 'brazilian',\n",
       " 'breakbeat',\n",
       " 'breaks',\n",
       " 'broadway',\n",
       " 'cantautori',\n",
       " 'cantopop',\n",
       " 'canzone',\n",
       " 'caribbean',\n",
       " 'caucasian',\n",
       " 'celtic',\n",
       " 'chamber',\n",
       " 'children',\n",
       " 'chill',\n",
       " 'chinese',\n",
       " 'choral',\n",
       " 'christian',\n",
       " 'christmas',\n",
       " 'classical',\n",
       " 'classicmetal',\n",
       " 'club',\n",
       " 'colombian',\n",
       " 'comedy',\n",
       " 'conjazz',\n",
       " 'contemporary',\n",
       " 'country',\n",
       " 'cuban',\n",
       " 'dance',\n",
       " 'dancehall',\n",
       " 'dancepop',\n",
       " 'dark',\n",
       " 'death',\n",
       " 'deep',\n",
       " 'deutschrock',\n",
       " 'deutschspr',\n",
       " 'dirty',\n",
       " 'disco',\n",
       " 'dnb',\n",
       " 'documentary',\n",
       " 'downbeat',\n",
       " 'downtempo',\n",
       " 'drum',\n",
       " 'dub',\n",
       " 'dubstep',\n",
       " 'eastern',\n",
       " 'easy',\n",
       " 'electronic',\n",
       " 'electropop',\n",
       " 'emo',\n",
       " 'entehno',\n",
       " 'epicmetal',\n",
       " 'estrada',\n",
       " 'ethnic',\n",
       " 'eurofolk',\n",
       " 'european',\n",
       " 'experimental',\n",
       " 'extrememetal',\n",
       " 'fado',\n",
       " 'film',\n",
       " 'fitness',\n",
       " 'flamenco',\n",
       " 'folk',\n",
       " 'folklore',\n",
       " 'folkmetal',\n",
       " 'folkrock',\n",
       " 'folktronica',\n",
       " 'forró',\n",
       " 'frankreich',\n",
       " 'französisch',\n",
       " 'french',\n",
       " 'funk',\n",
       " 'future',\n",
       " 'gangsta',\n",
       " 'garage',\n",
       " 'german',\n",
       " 'ghazal',\n",
       " 'gitarre',\n",
       " 'glitch',\n",
       " 'gospel',\n",
       " 'gothic',\n",
       " 'grime',\n",
       " 'grunge',\n",
       " 'gypsy',\n",
       " 'handsup',\n",
       " \"hard'n'heavy\",\n",
       " 'hardcore',\n",
       " 'hardstyle',\n",
       " 'hardtechno',\n",
       " 'hiphop',\n",
       " 'historisch',\n",
       " 'holiday',\n",
       " 'horror',\n",
       " 'house',\n",
       " 'idm',\n",
       " 'independent',\n",
       " 'indian',\n",
       " 'indie',\n",
       " 'indipop',\n",
       " 'industrial',\n",
       " 'inspirational',\n",
       " 'instrumental',\n",
       " 'international',\n",
       " 'irish',\n",
       " 'jam',\n",
       " 'japanese',\n",
       " 'jazz',\n",
       " 'jewish',\n",
       " 'jpop',\n",
       " 'jungle',\n",
       " 'k-pop',\n",
       " 'karadeniz',\n",
       " 'karaoke',\n",
       " 'kayokyoku',\n",
       " 'korean',\n",
       " 'laiko',\n",
       " 'latin',\n",
       " 'latino',\n",
       " 'leftfield',\n",
       " 'local',\n",
       " 'lounge',\n",
       " 'loungeelectronic',\n",
       " 'lovers',\n",
       " 'malaysian',\n",
       " 'mandopop',\n",
       " 'marschmusik',\n",
       " 'meditative',\n",
       " 'mediterranean',\n",
       " 'melodic',\n",
       " 'metal',\n",
       " 'metalcore',\n",
       " 'mexican',\n",
       " 'middle',\n",
       " 'minimal',\n",
       " 'miscellaneous',\n",
       " 'modern',\n",
       " 'mood',\n",
       " 'mpb',\n",
       " 'muslim',\n",
       " 'native',\n",
       " 'neoklassik',\n",
       " 'neue',\n",
       " 'new',\n",
       " 'newage',\n",
       " 'newwave',\n",
       " 'nu',\n",
       " 'nujazz',\n",
       " 'numetal',\n",
       " 'oceania',\n",
       " 'old',\n",
       " 'opera',\n",
       " 'orchestral',\n",
       " 'other',\n",
       " 'piano',\n",
       " 'pop',\n",
       " 'popelectronic',\n",
       " 'popeurodance',\n",
       " 'post',\n",
       " 'posthardcore',\n",
       " 'postrock',\n",
       " 'power',\n",
       " 'progmetal',\n",
       " 'progressive',\n",
       " 'psychedelic',\n",
       " 'punjabi',\n",
       " 'punk',\n",
       " 'quebecois',\n",
       " 'ragga',\n",
       " 'ram',\n",
       " 'rancheras',\n",
       " 'rap',\n",
       " 'rave',\n",
       " 'reggae',\n",
       " 'reggaeton',\n",
       " 'regional',\n",
       " 'relax',\n",
       " 'religious',\n",
       " 'retro',\n",
       " 'rhythm',\n",
       " 'rnb',\n",
       " 'rnr',\n",
       " 'rock',\n",
       " 'rockabilly',\n",
       " 'romance',\n",
       " 'roots',\n",
       " 'ruspop',\n",
       " 'rusrap',\n",
       " 'rusrock',\n",
       " 'salsa',\n",
       " 'samba',\n",
       " 'schlager',\n",
       " 'self',\n",
       " 'sertanejo',\n",
       " 'shoegazing',\n",
       " 'showtunes',\n",
       " 'singer',\n",
       " 'ska',\n",
       " 'slow',\n",
       " 'smooth',\n",
       " 'soul',\n",
       " 'soulful',\n",
       " 'sound',\n",
       " 'soundtrack',\n",
       " 'southern',\n",
       " 'specialty',\n",
       " 'speech',\n",
       " 'spiritual',\n",
       " 'sport',\n",
       " 'stonerrock',\n",
       " 'surf',\n",
       " 'swing',\n",
       " 'synthpop',\n",
       " 'sängerportrait',\n",
       " 'tango',\n",
       " 'tanzorchester',\n",
       " 'taraftar',\n",
       " 'tech',\n",
       " 'techno',\n",
       " 'thrash',\n",
       " 'top',\n",
       " 'traditional',\n",
       " 'tradjazz',\n",
       " 'trance',\n",
       " 'tribal',\n",
       " 'trip',\n",
       " 'triphop',\n",
       " 'tropical',\n",
       " 'türk',\n",
       " 'türkçe',\n",
       " 'unknown',\n",
       " 'urban',\n",
       " 'uzbek',\n",
       " 'variété',\n",
       " 'vi',\n",
       " 'videogame',\n",
       " 'vocal',\n",
       " 'western',\n",
       " 'world',\n",
       " 'worldbeat',\n",
       " 'ïîï']"
      ]
     },
     "execution_count": 51,
     "metadata": {},
     "output_type": "execute_result"
    }
   ],
   "source": [
    "# memeriksa duplikat implisit\n",
    "\n",
    "sorted(df['genre'].unique())"
   ]
  },
  {
   "cell_type": "markdown",
   "metadata": {},
   "source": [
    "<div class=\"alert alert-warning\">\n",
    "<b>Reviewer's comment v1</b> <a class=\"tocSkip\"></a>\n",
    "\n",
    "Sama dengan sebelumnya bahwa `print()` sudah tidak diperlukan karena merupakan baris terakhir pada kode dan akan lebih baik apabila output ditampilkan secara berurutan agar memudahkan dalam pengecekan duplikat implisit.\n",
    "\n",
    "</div>"
   ]
  },
  {
   "cell_type": "markdown",
   "metadata": {
    "id": "ALgNbvF3VtPA"
   },
   "source": [
    "[Kembali ke Daftar Isi](#back)"
   ]
  },
  {
   "cell_type": "markdown",
   "metadata": {
    "id": "jz6a9-7HQUDd"
   },
   "source": [
    "### Kesimpulan <a id='data_preprocessing_conclusions'></a>\n",
    "Kita mendeteksi tiga masalah dengan data:\n",
    "\n",
    "- Gaya penulisan judul yang salah\n",
    "- Nilai-nilai yang hilang\n",
    "- Duplikat yang jelas dan implisit\n",
    "\n",
    "Judul telah dibersihkan untuk mempermudah pemrosesan tabel.\n",
    "\n",
    "Semua nilai yang hilang telah diganti dengan `'unknown'`. Tapi kita masih harus melihat apakah nilai yang hilang dalam `'genre'` akan memengaruhi perhitungan kita.\n",
    "\n",
    "Tidak adanya duplikat akan membuat hasil lebih tepat dan lebih mudah dipahami.\n",
    "\n",
    "Sekarang kita dapat melanjutkan ke pengujian hipotesis."
   ]
  },
  {
   "cell_type": "markdown",
   "metadata": {
    "id": "eK1es74rVujj"
   },
   "source": [
    "[Kembali ke Daftar Isi](#back)"
   ]
  },
  {
   "cell_type": "markdown",
   "metadata": {
    "id": "WttZHXH0SqKk"
   },
   "source": [
    "## Tahap 3. Menguji Hipotesis <a id='hypotheses'></a>"
   ]
  },
  {
   "cell_type": "markdown",
   "metadata": {
    "id": "Im936VVi_Zcu"
   },
   "source": [
    "### Hipotesis 1: Membandingkan Perilaku Pengguna di Dua Kota <a id='activity'></a>"
   ]
  },
  {
   "cell_type": "markdown",
   "metadata": {
    "id": "nwt_MuaL_Zcu"
   },
   "source": [
    "Menurut hipotesis pertama, pengguna dari Springfield dan Shelbyville memiliki perbedaan dalam mendengarkan musik. Pengujian ini menggunakan data pada hari: Senin, Rabu, dan Jumat.\n",
    "\n",
    "* Pisahkan pengguna ke dalam kelompok berdasarkan kota.\n",
    "* Bandingkan berapa banyak lagu yang dimainkan setiap kelompok pada hari Senin, Rabu, dan Jumat."
   ]
  },
  {
   "cell_type": "markdown",
   "metadata": {
    "id": "8Dw_YMmT_Zcu"
   },
   "source": [
    "Untuk latihan, lakukan setiap perhitungan secara terpisah.\n",
    "\n",
    "Evaluasi aktivitas pengguna di setiap kota. Kelompokkan data berdasarkan kota dan temukan jumlah lagu yang diputar di setiap kelompok.\n",
    "\n"
   ]
  },
  {
   "cell_type": "code",
   "execution_count": 58,
   "metadata": {
    "id": "0_Qs96oh_Zcu",
    "scrolled": true
   },
   "outputs": [
    {
     "data": {
      "text/plain": [
       "city\n",
       "Shelbyville    18512\n",
       "Springfield    42741\n",
       "Name: track, dtype: int64"
      ]
     },
     "execution_count": 58,
     "metadata": {},
     "output_type": "execute_result"
    }
   ],
   "source": [
    "# Menghitung lagu yang diputar di setiap kota\n",
    "\n",
    "df.groupby('city')['track'].count()"
   ]
  },
  {
   "cell_type": "markdown",
   "metadata": {},
   "source": [
    "<div class=\"alert alert-success\">\n",
    "<b>Reviewer's comment v1</b> <a class=\"tocSkip\"></a>\n",
    "\n",
    "Kerja bagus!\n",
    "</div>"
   ]
  },
  {
   "cell_type": "markdown",
   "metadata": {
    "id": "dzli3w8o_Zcu"
   },
   "source": [
    "Springfield memiliki lebih banyak lagu yang dimainkan daripada Shelbyville. Namun bukan berarti warga Springfield lebih sering mendengarkan musik. Kota ini lebih besar, dan memiliki lebih banyak pengguna.\n",
    "\n",
    "Sekarang kelompokkan data menurut hari dan temukan jumlah lagu yang diputar pada hari Senin, Rabu, dan Jumat."
   ]
  },
  {
   "cell_type": "code",
   "execution_count": 59,
   "metadata": {
    "id": "uZMKjiJz_Zcu"
   },
   "outputs": [
    {
     "data": {
      "text/plain": [
       "day\n",
       "Friday       21840\n",
       "Monday       21354\n",
       "Wednesday    18059\n",
       "Name: day, dtype: int64"
      ]
     },
     "execution_count": 59,
     "metadata": {},
     "output_type": "execute_result"
    }
   ],
   "source": [
    "# Menghitung trek yang diputar pada masing-masing hari\n",
    "\n",
    "df.groupby('day')['day'].count()"
   ]
  },
  {
   "cell_type": "markdown",
   "metadata": {},
   "source": [
    "<div class=\"alert alert-danger\">\n",
    "<b>Reviewer's comment v1</b> <a class=\"tocSkip\"></a>\n",
    "\n",
    "Masih terdapat pengulangan nilai pada beberapa kolom, diperlukan pemilihan kolom setelah pengelompokan berdasarkan `day`.\n",
    "</div>"
   ]
  },
  {
   "cell_type": "markdown",
   "metadata": {},
   "source": [
    "<div class=\"alert alert-success\">\n",
    "<b>Reviewer's comment v2</b> <a class=\"tocSkip\"></a>\n",
    "\n",
    "OK!\n",
    "\n",
    "</div>"
   ]
  },
  {
   "cell_type": "markdown",
   "metadata": {
    "id": "cC2tNrlL_Zcu"
   },
   "source": [
    "Rabu adalah hari paling tenang secara keseluruhan. Tetapi jika kita mempertimbangkan kedua kota secara terpisah, kita mungkin akan memiliki kesimpulan yang berbeda."
   ]
  },
  {
   "cell_type": "markdown",
   "metadata": {
    "id": "POzs8bGa_Zcu"
   },
   "source": [
    "Anda telah melihat cara kerja pengelompokan berdasarkan kota atau hari. Sekarang tulis fungsi yang akan dikelompokkan berdasarkan keduanya.\n",
    "\n",
    "Buat fungsi `number_tracks()` untuk menghitung jumlah lagu yang diputar untuk hari dan kota tertentu. Ini akan membutuhkan dua parameter:\n",
    "* nama hari\n",
    "* nama kota\n",
    "\n",
    "Dalam fungsi, gunakan variabel untuk menyimpan baris dari tabel asli, di mana:\n",
    "  *  Nilai kolom `'day'` sama dengan parameter `day`\n",
    "  * Nilai kolom `'city'` sama dengan parameter `city`\n",
    "\n",
    "Terapkan pemfilteran berurutan dengan pengindeksan logis.\n",
    "\n",
    "Kemudian hitung nilai kolom `'user_id'` pada tabel yang dihasilkan. Simpan hasilnya ke variabel baru. Kembalikan variabel ini dari fungsi."
   ]
  },
  {
   "cell_type": "code",
   "execution_count": 49,
   "metadata": {
    "id": "Nz3GdQB1_Zcu"
   },
   "outputs": [],
   "source": [
    "# <membuat fungsi number_tracks()>\n",
    "\n",
    "# ========== HOW TO BUILD ==========\n",
    "# 1. Kita akan mendeklarasikan sebuah fungsi dengan dua parameter: day=, city=.\n",
    "# 2. Biarkan variabel track_list menyimpan baris df di mana\n",
    "# nilai di kolom 'day' sama dengan parameter day= dan, pada saat yang sama,\n",
    "# nilai pada kolom 'city' sama dengan parameter city= (terapkan pemfilteran berurutan\n",
    "# dengan pengindeksan logis).\n",
    "# 3. Biarkan variabel track_list_count menyimpan jumlah nilai kolom 'user_id' pada track_list\n",
    "# (temukan dengan metode count()).\n",
    "# 4. Biarkan fungsi menghasilkan jumlah: nilai track_list_count.\n",
    "\n",
    "# ========== PENJELASAN ==========\n",
    "# Fungsi menghitung lagu yang diputar untuk kota dan hari tertentu.\n",
    "# Pertama-tama ini akan mengambil baris dengan hari yang diinginkan dari tabel,\n",
    "# kemudian memfilter baris hasilnya dengan kota yang dimaksud,\n",
    "# kemudian temukan jumlah nilai 'user_id' pada tabel yang difilter,\n",
    "# kemudian menghasilkan jumlah tersebut.\n",
    "# Untuk melihat apa yang dihasilkan, kemas pemanggilan fungsi pada print().\n",
    "\n",
    "def number_tracks(day, city):\n",
    "    track_list = df.loc[(df['day'] == day) & (df['city'] == city)]\n",
    "    track_list_count = track_list['user_id'].count()\n",
    "    return track_list_count"
   ]
  },
  {
   "cell_type": "markdown",
   "metadata": {},
   "source": [
    "<div class=\"alert alert-success\">\n",
    "<b>Reviewer's comment v1</b> <a class=\"tocSkip\"></a>\n",
    "\n",
    "Sempurna!\n",
    "</div>"
   ]
  },
  {
   "cell_type": "markdown",
   "metadata": {},
   "source": [
    "<div class=\"alert alert-warning\">\n",
    "<b>Reviewer's comment v1</b> <a class=\"tocSkip\"></a>\n",
    "\n",
    "Untuk selanjutnya sebaiknya penulisan kode dilakukan setelah baris komen.\n",
    "</div>"
   ]
  },
  {
   "cell_type": "markdown",
   "metadata": {
    "id": "ytf7xFrFJQ2r"
   },
   "source": [
    "Panggil `number_tracks()` enam kali dan ubahlah nilai parameternya, sehingga Anda bisa mengambil data di kedua kota untuk masing-masing hari tersebut."
   ]
  },
  {
   "cell_type": "code",
   "execution_count": 21,
   "metadata": {
    "id": "rJcRATNQ_Zcu"
   },
   "outputs": [
    {
     "data": {
      "text/plain": [
       "16715"
      ]
     },
     "execution_count": 21,
     "metadata": {},
     "output_type": "execute_result"
    }
   ],
   "source": [
    "# jumlah lagu yang diputar di Springfield pada hari Senin\n",
    "sp_mo = number_tracks('Monday', 'Springfield')\n",
    "sp_mo"
   ]
  },
  {
   "cell_type": "code",
   "execution_count": 22,
   "metadata": {
    "id": "hq_ncZ5T_Zcu"
   },
   "outputs": [
    {
     "data": {
      "text/plain": [
       "5982"
      ]
     },
     "execution_count": 22,
     "metadata": {},
     "output_type": "execute_result"
    }
   ],
   "source": [
    "# jumlah lagu yang diputar di Shelbyville pada hari Senin\n",
    "she_mo = number_tracks('Monday', 'Shelbyville')\n",
    "she_mo"
   ]
  },
  {
   "cell_type": "code",
   "execution_count": 23,
   "metadata": {
    "id": "_NTy2VPU_Zcu"
   },
   "outputs": [
    {
     "data": {
      "text/plain": [
       "11755"
      ]
     },
     "execution_count": 23,
     "metadata": {},
     "output_type": "execute_result"
    }
   ],
   "source": [
    "#  jumlah lagu yang diputar di Springfield pada hari Rabu\n",
    "sp_wed = number_tracks('Wednesday', 'Springfield')\n",
    "sp_wed"
   ]
  },
  {
   "cell_type": "code",
   "execution_count": 24,
   "metadata": {
    "id": "j2y3TAwo_Zcu"
   },
   "outputs": [
    {
     "data": {
      "text/plain": [
       "7478"
      ]
     },
     "execution_count": 24,
     "metadata": {},
     "output_type": "execute_result"
    }
   ],
   "source": [
    "#  jumlah lagu yang diputar di Shelbyville pada hari Rabu\n",
    "she_wed = number_tracks('Wednesday', 'Shelbyville')\n",
    "she_wed"
   ]
  },
  {
   "cell_type": "code",
   "execution_count": 25,
   "metadata": {
    "id": "vYDw5u_K_Zcu"
   },
   "outputs": [
    {
     "data": {
      "text/plain": [
       "16890"
      ]
     },
     "execution_count": 25,
     "metadata": {},
     "output_type": "execute_result"
    }
   ],
   "source": [
    "# jumlah lagu yang diputar di Springfield pada hari Jumat\n",
    "sp_fri = number_tracks('Friday', 'Springfield')\n",
    "sp_fri"
   ]
  },
  {
   "cell_type": "code",
   "execution_count": 26,
   "metadata": {
    "id": "8_yzFtW3_Zcu"
   },
   "outputs": [
    {
     "data": {
      "text/plain": [
       "6259"
      ]
     },
     "execution_count": 26,
     "metadata": {},
     "output_type": "execute_result"
    }
   ],
   "source": [
    "# jumlah lagu yang diputar di Shelbyville pada hari Jumat\n",
    "she_fri = number_tracks('Friday', 'Shelbyville')\n",
    "she_fri"
   ]
  },
  {
   "cell_type": "markdown",
   "metadata": {},
   "source": [
    "<div class=\"alert alert-warning\">\n",
    "<b>Reviewer's comment v1</b> <a class=\"tocSkip\"></a>\n",
    "\n",
    "Sebaiknya ketika menggunakan fungsi yang dibuat dan dideklarasikan pada suatu variabel, untuk menampilkan output tersebut dapat dilakukan sangat mudah dengan memanggil variabel tersebut di baris selanjutnya, misal:\n",
    "   \n",
    "    she_fri = number_tracks('Friday', 'Shelbyville')\n",
    "    she_fri\n",
    "</div>"
   ]
  },
  {
   "cell_type": "markdown",
   "metadata": {
    "id": "7QXffbO-_Zcu"
   },
   "source": [
    "Gunakan `pd.DataFrame` untuk membuat tabel, di mana\n",
    "* Nama kolom adalah: `['city', 'monday', 'wednesday', 'friday']`\n",
    "* Data adalah hasil yang Anda dapatkan dari `number_tracks()`"
   ]
  },
  {
   "cell_type": "code",
   "execution_count": 27,
   "metadata": {
    "id": "APAcLpOr_Zcu"
   },
   "outputs": [
    {
     "data": {
      "text/html": [
       "<div>\n",
       "<style scoped>\n",
       "    .dataframe tbody tr th:only-of-type {\n",
       "        vertical-align: middle;\n",
       "    }\n",
       "\n",
       "    .dataframe tbody tr th {\n",
       "        vertical-align: top;\n",
       "    }\n",
       "\n",
       "    .dataframe thead th {\n",
       "        text-align: right;\n",
       "    }\n",
       "</style>\n",
       "<table border=\"1\" class=\"dataframe\">\n",
       "  <thead>\n",
       "    <tr style=\"text-align: right;\">\n",
       "      <th></th>\n",
       "      <th>city</th>\n",
       "      <th>monday</th>\n",
       "      <th>wednesday</th>\n",
       "      <th>friday</th>\n",
       "    </tr>\n",
       "  </thead>\n",
       "  <tbody>\n",
       "    <tr>\n",
       "      <th>0</th>\n",
       "      <td>Springfield</td>\n",
       "      <td>16715</td>\n",
       "      <td>11755</td>\n",
       "      <td>16890</td>\n",
       "    </tr>\n",
       "    <tr>\n",
       "      <th>1</th>\n",
       "      <td>Shelbyville</td>\n",
       "      <td>5982</td>\n",
       "      <td>7478</td>\n",
       "      <td>6259</td>\n",
       "    </tr>\n",
       "  </tbody>\n",
       "</table>\n",
       "</div>"
      ],
      "text/plain": [
       "          city  monday  wednesday  friday\n",
       "0  Springfield   16715      11755   16890\n",
       "1  Shelbyville    5982       7478    6259"
      ]
     },
     "execution_count": 27,
     "metadata": {},
     "output_type": "execute_result"
    }
   ],
   "source": [
    "# tabel dengan hasil\n",
    "\n",
    "col = ['city', 'monday', 'wednesday', 'friday']\n",
    "\n",
    "tracks = [\n",
    "    ['Springfield', sp_mo, sp_wed, sp_fri],\n",
    "    ['Shelbyville', she_mo, she_wed, she_fri]\n",
    "]\n",
    "\n",
    "numb_tracks = pd.DataFrame(data = tracks, columns = col)\n",
    "numb_tracks"
   ]
  },
  {
   "cell_type": "markdown",
   "metadata": {},
   "source": [
    "<div class=\"alert alert-success\">\n",
    "<b>Reviewer's comment v1</b> <a class=\"tocSkip\"></a>\n",
    "\n",
    "Oke!\n",
    "</div>"
   ]
  },
  {
   "cell_type": "markdown",
   "metadata": {
    "id": "-EgPIHYu_Zcu"
   },
   "source": [
    "**Kesimpulan**\n",
    "\n",
    "Data mengungkapkan perbedaan perilaku pengguna:\n",
    "\n",
    "- Pada Springfield, jumlah lagu yang diputar mencapai puncaknya pada hari Senin dan Jumat, sedangkan pada hari Rabu terjadi penurunan aktivitas.\n",
    "- Di Shelbyville, sebaliknya, pengguna lebih banyak mendengarkan musik pada hari Rabu.\n",
    "\n",
    "Aktivitas pengguna pada hari Senin dan Jumat lebih sedikit."
   ]
  },
  {
   "cell_type": "markdown",
   "metadata": {
    "id": "p7nFQajCVw5B"
   },
   "source": [
    "[Kembali ke Daftar Isi](#back)"
   ]
  },
  {
   "cell_type": "markdown",
   "metadata": {
    "id": "atZAxtq4_Zcu"
   },
   "source": [
    "### Hipotesis 2: Musik di Awal dan Akhir Minggu <a id='week'></a>"
   ]
  },
  {
   "cell_type": "markdown",
   "metadata": {
    "id": "eXrQqXFH_Zcu"
   },
   "source": [
    "Menurut hipotesis kedua, pada Senin pagi dan Jumat malam, warga Springfield mendengarkan genre yang berbeda dari yang dinikmati warga Shelbyville."
   ]
  },
  {
   "cell_type": "markdown",
   "metadata": {
    "id": "S8UcW6Hw_Zcu"
   },
   "source": [
    "Dapatkan tabel (pastikan nama tabel gabungan Anda cocok dengan DataFrame yang diberikan dalam dua blok kode di bawah):\n",
    "* Untuk Springfield — `spr_general`\n",
    "* Untuk Shelbyville — `shel_general`"
   ]
  },
  {
   "cell_type": "code",
   "execution_count": 28,
   "metadata": {
    "id": "qeaFfM_P_Zcu"
   },
   "outputs": [],
   "source": [
    "# mendapatkan tabel spr_general dari baris df,\n",
    "# dimana nilai dari kolom 'city' adalah 'Springfield'\n",
    "\n",
    "spr_general = df.loc[df['city'] == 'Springfield'] "
   ]
  },
  {
   "cell_type": "code",
   "execution_count": 29,
   "metadata": {
    "id": "ORaVRKto_Zcu"
   },
   "outputs": [],
   "source": [
    "# mendapatkan shel_general dari baris df,\n",
    "# dimana nilai dari kolom 'city' adalah 'Shelbyville'\n",
    "\n",
    "shel_general = df.loc[df['city'] == 'Shelbyville'] "
   ]
  },
  {
   "cell_type": "markdown",
   "metadata": {},
   "source": [
    "<div class=\"alert alert-success\">\n",
    "<b>Reviewer's comment v1</b> <a class=\"tocSkip\"></a>\n",
    "\n",
    "Semua berjalan dengan lancar.\n",
    "\n",
    "</div>"
   ]
  },
  {
   "cell_type": "markdown",
   "metadata": {
    "id": "MEJV-CX2_Zcu"
   },
   "source": [
    "Tulis fungsi `genre_weekday()` dengan empat parameter:\n",
    "* Sebuah tabel untuk data\n",
    "* Nama hari\n",
    "* Tanda waktu pertama, dalam format 'hh:mm'\n",
    "* Tanda waktu terakhir, dalam format 'hh: mm'\n",
    "\n",
    "Fungsi tersebut harus menghasilkan info tentang 15 genre paling populer pada hari tertentu dalam periode diantara dua tanda waktu."
   ]
  },
  {
   "cell_type": "code",
   "execution_count": 30,
   "metadata": {
    "id": "laJT9BYl_Zcu"
   },
   "outputs": [],
   "source": [
    "# Mendeklarasikan fungsi genre_weekday() dengan parameter day=, time1=, dan time2=. Itu harus\n",
    "# memberikan informasi tentang genre paling populer pada hari dan waktu tertentu:\n",
    "\n",
    "# 1) Biarkan variabel genre_df menyimpan baris yang memenuhi beberapa ketentuan:\n",
    "#    - nilai pada kolom 'day' sama dengan nilai argumen hari=\n",
    "#    - nilai pada kolom 'time' lebih besar dari nilai argumen time1=\n",
    "#    - nilai pada kolom 'time' lebih kecil dari nilai argumen time2=\n",
    "#    Gunakan pemfilteran berurutan dengan pengindeksan logis.\n",
    "\n",
    "# 2) Kelompokkan genre_df berdasarkan kolom 'genre', lalu ambil salah satu kolomnya,\n",
    "#    dan gunakan metode count() untuk menemukan jumlah entri untuk masing-masing\n",
    "#    genre yang diwakili; simpan Series yang dihasilkan ke\n",
    "#    variabel genre_df_count\n",
    "\n",
    "# 3) Urutkan genre_df_count dalam urutan menurun dan simpan hasilnya\n",
    "#    ke variabel genre_df_sorted\n",
    "\n",
    "# 4) Menghasilkan objek Series dengan nilai 15 genre_df_sorted pertama - 15 genre paling\n",
    "#    populer (pada hari tertentu, dalam jangka waktu tertentu)\n",
    "\n",
    "\n",
    "# tulis fungsi Anda di sini\n",
    "def genre_weekday(data, day, time1, time2):\n",
    "    # pemfilteran berturut-turut\n",
    "    # genre_df hanya akan menyimpan baris df di mana day sama dengan day=\n",
    "    genre_df = data[data['day'] == day]\n",
    "\n",
    "    # genre_df hanya akan menyimpan baris df di mana time lebih kecil dari time2=\n",
    "    genre_df = genre_df[genre_df['time'] < time2]\n",
    "\n",
    "    # genre_df hanya akan menyimpan baris df di mana time lebih besar dari time1=\n",
    "    genre_df = genre_df[genre_df['time'] > time1]\n",
    "\n",
    "    # kelompokkan DataFrame yang difilter berdasarkan kolom dengan nama genre, ambil kolom genre, dan temukan jumlah baris untuk setiap genre dengan metode count()\n",
    "    genre_df_grouped = genre_df.groupby('genre')['genre'].count() \n",
    "    \n",
    "    # kita akan mengurutkan hasilnya dalam urutan menurun (sehingga genre paling populer didahulukan pada objek Series\n",
    "    genre_df_sorted = genre_df_grouped.sort_values(ascending = False)\n",
    "    \n",
    "    # kita akan menghasilkan objek Series yang menyimpan 15 genre paling populer pada hari tertentu dalam jangka waktu tertentu\n",
    "    return genre_df_sorted[:15]"
   ]
  },
  {
   "cell_type": "markdown",
   "metadata": {},
   "source": [
    "<div class=\"alert alert-success\">\n",
    "<b>Reviewer's comment v1</b> <a class=\"tocSkip\"></a>\n",
    "\n",
    "Fungsi telah terdefinisi dengan baik.\n",
    "</div>"
   ]
  },
  {
   "cell_type": "markdown",
   "metadata": {
    "id": "la2s2_PF_Zcu"
   },
   "source": [
    "Bandingkan hasil fungsi `genre_weekday()` untuk Springfield dan Shelbyville pada Senin pagi (dari pukul 07.00 hingga 11.00) dan pada Jumat malam (dari pukul 17:00 hingga 23:00):"
   ]
  },
  {
   "cell_type": "code",
   "execution_count": 31,
   "metadata": {
    "id": "yz7itPUQ_Zcu"
   },
   "outputs": [
    {
     "data": {
      "text/plain": [
       "genre\n",
       "pop            830\n",
       "dance          589\n",
       "rock           511\n",
       "electronic     501\n",
       "hiphop         311\n",
       "ruspop         203\n",
       "world          190\n",
       "rusrap         188\n",
       "alternative    175\n",
       "unknown        172\n",
       "classical      167\n",
       "metal          126\n",
       "jazz           109\n",
       "folk           107\n",
       "soundtrack      97\n",
       "Name: genre, dtype: int64"
      ]
     },
     "execution_count": 31,
     "metadata": {},
     "output_type": "execute_result"
    }
   ],
   "source": [
    "# memanggil fungsi untuk Senin pagi di Springfield (gunakan spr_general alih-alih tabel df)\n",
    "\n",
    "genre_weekday(spr_general, 'Monday', '07.00', '11.00')"
   ]
  },
  {
   "cell_type": "code",
   "execution_count": 32,
   "metadata": {
    "id": "kwUcHPdy_Zcu"
   },
   "outputs": [
    {
     "data": {
      "text/plain": [
       "genre\n",
       "pop            282\n",
       "rock           226\n",
       "electronic     201\n",
       "dance          199\n",
       "hiphop         117\n",
       "alternative     80\n",
       "classical       73\n",
       "jazz            61\n",
       "world           58\n",
       "ruspop          57\n",
       "rusrap          56\n",
       "unknown         55\n",
       "metal           44\n",
       "folk            44\n",
       "soundtrack      38\n",
       "Name: genre, dtype: int64"
      ]
     },
     "execution_count": 32,
     "metadata": {},
     "output_type": "execute_result"
    }
   ],
   "source": [
    "# memanggil fungsi untuk Senin pagi di Shelbyville (gunakan shel_general alih-alih tabel df)\n",
    "\n",
    "genre_weekday(shel_general, 'Monday', '17.00', '23.00')"
   ]
  },
  {
   "cell_type": "code",
   "execution_count": 33,
   "metadata": {
    "id": "EzXVRE1o_Zcu"
   },
   "outputs": [
    {
     "data": {
      "text/plain": [
       "genre\n",
       "pop            838\n",
       "dance          614\n",
       "rock           537\n",
       "electronic     533\n",
       "hiphop         291\n",
       "ruspop         217\n",
       "classical      211\n",
       "world          182\n",
       "alternative    181\n",
       "rusrap         158\n",
       "metal          135\n",
       "soundtrack     113\n",
       "jazz           111\n",
       "unknown         92\n",
       "latin           90\n",
       "Name: genre, dtype: int64"
      ]
     },
     "execution_count": 33,
     "metadata": {},
     "output_type": "execute_result"
    }
   ],
   "source": [
    "# memanggil fungsi untuk Jumat malam di Springfield\n",
    "\n",
    "genre_weekday(spr_general, 'Friday', '07.00', '11.00')"
   ]
  },
  {
   "cell_type": "code",
   "execution_count": 34,
   "metadata": {
    "id": "JZaEKu5v_Zcu",
    "scrolled": true
   },
   "outputs": [
    {
     "data": {
      "text/plain": [
       "genre\n",
       "pop            279\n",
       "rock           230\n",
       "electronic     227\n",
       "dance          221\n",
       "hiphop         103\n",
       "alternative     67\n",
       "rusrap          66\n",
       "jazz            66\n",
       "classical       64\n",
       "world           60\n",
       "unknown         49\n",
       "ruspop          49\n",
       "soundtrack      40\n",
       "rap             39\n",
       "metal           39\n",
       "Name: genre, dtype: int64"
      ]
     },
     "execution_count": 34,
     "metadata": {},
     "output_type": "execute_result"
    }
   ],
   "source": [
    "# memanggil fungsi untuk Jumat malam di Shelbyville\n",
    "\n",
    "genre_weekday(shel_general, 'Friday', '17.00', '23.00')"
   ]
  },
  {
   "cell_type": "markdown",
   "metadata": {},
   "source": [
    "<div class=\"alert alert-success\">\n",
    "<b>Reviewer's comment v1</b> <a class=\"tocSkip\"></a>\n",
    "\n",
    "Output yang sudah sesuai.\n",
    "</div>"
   ]
  },
  {
   "cell_type": "markdown",
   "metadata": {
    "id": "wrCe4MNX_Zcu"
   },
   "source": [
    "**Kesimpulan**\n",
    "\n",
    "Setelah membandingkan 15 genre teratas pada Senin pagi, kita dapat menarik kesimpulan berikut:\n",
    "\n",
    "1. Pengguna dari Springfield dan Shelbyville mendengarkan musik dengan genre yang sama. Lima genre teratas sama, hanya rock dan elektronik yang bertukar tempat.\n",
    "\n",
    "2. Di Springfield, jumlah nilai yang hilang ternyata sangat besar sehingga nilai `'unknown'` berada di urutan ke-10. Ini berarti bahwa nilai-nilai yang hilang memiliki jumlah data yang cukup besar, yang mungkin menjadi dasar untuk mempertanyakan ketepatan kesimpulan kita.\n",
    "\n",
    "Untuk Jumat malam, situasinya serupa. Genre individu agak bervariasi, tetapi secara keseluruhan, 15 besar genre untuk kedua kota sama.\n",
    "\n",
    "Dengan demikian, hipotesis kedua sebagian terbukti benar:\n",
    "* Pengguna mendengarkan musik yang sama di awal dan akhir minggu.\n",
    "* Tidak ada perbedaan yang mencolok antara Springfield dan Shelbyville. Pada kedua kota tersebut, pop adalah genre yang paling populer.\n",
    "\n",
    "Namun, jumlah nilai yang hilang membuat hasil ini dipertanyakan. Di Springfield, ada begitu banyak yang memengaruhi 15 teratas kita. Jika kita tidak mengabaikan nilai-nilai ini, hasilnya mungkin akan berbeda."
   ]
  },
  {
   "cell_type": "markdown",
   "metadata": {
    "id": "jLmXgdanVyhP"
   },
   "source": [
    "[Kembali ke Daftar Isi](#back)"
   ]
  },
  {
   "cell_type": "markdown",
   "metadata": {
    "id": "JolODAqr_Zcu"
   },
   "source": [
    "### Hipotesis 3: Preferensi Genre di Springfield dan Shelbyville <a id='genre'></a>\n",
    "\n",
    "Hipotesis: Shelbyville menyukai musik rap. Warga Springfield lebih menyukai pop."
   ]
  },
  {
   "cell_type": "markdown",
   "metadata": {
    "id": "DlegSvaT_Zcu"
   },
   "source": [
    "Kelompokkan tabel `spr_general` berdasarkan genre dan temukan jumlah lagu yang dimainkan untuk setiap genre dengan metode `count()`. Kemudian urutkan hasilnya dalam urutan menurun dan simpan ke `spr_genres`."
   ]
  },
  {
   "cell_type": "code",
   "execution_count": 35,
   "metadata": {
    "id": "r19lIPke_Zcu"
   },
   "outputs": [],
   "source": [
    "# pada satu baris: kelompokkan tabel spr_general berdasarkan kolom 'genre',\n",
    "# hitung nilai 'genre' dengan count() dalam pengelompokan,\n",
    "# urutkan Series yang dihasilkan dalam urutan menurun, lalu simpan ke spr_genres\n",
    "\n",
    "spr_genres = spr_general.groupby('genre')['genre'].count().sort_values(ascending = False)"
   ]
  },
  {
   "cell_type": "markdown",
   "metadata": {
    "id": "6kMuomxTiIr8"
   },
   "source": [
    "Tampilkan 10 baris pertama dari `spr_genres`:"
   ]
  },
  {
   "cell_type": "code",
   "execution_count": 36,
   "metadata": {
    "id": "WhCSooF8_Zcv",
    "scrolled": true
   },
   "outputs": [
    {
     "data": {
      "text/plain": [
       "genre\n",
       "pop            6253\n",
       "dance          4707\n",
       "rock           4188\n",
       "electronic     4010\n",
       "hiphop         2215\n",
       "classical      1712\n",
       "world          1516\n",
       "alternative    1466\n",
       "ruspop         1453\n",
       "rusrap         1239\n",
       "Name: genre, dtype: int64"
      ]
     },
     "execution_count": 36,
     "metadata": {},
     "output_type": "execute_result"
    }
   ],
   "source": [
    "# menampilkan 10 baris pertama dari spr_genres\n",
    "spr_genres.head(10)"
   ]
  },
  {
   "cell_type": "markdown",
   "metadata": {
    "id": "cnPG2vnN_Zcv"
   },
   "source": [
    "Sekarang lakukan hal yang sama pada data di Shelbyville.\n",
    "\n",
    "Kelompokkan tabel `shel_general` berdasarkan genre dan temukan jumlah lagu yang dimainkan untuk setiap genre. Kemudian urutkan hasilnya dalam urutan menurun dan simpan ke tabel `shel_genres`:"
   ]
  },
  {
   "cell_type": "code",
   "execution_count": 37,
   "metadata": {
    "id": "gluLIpE7_Zcv"
   },
   "outputs": [],
   "source": [
    "# pada satu baris: kelompokkan tabel shel_general menurut kolom 'genre',\n",
    "# hitung nilai 'genre' dalam pengelompokan menggunakan count(),\n",
    "# urutkan Series yang dihasilkan dalam urutan menurun dan simpan ke shel_genres\n",
    "\n",
    "shel_genres = shel_general.groupby('genre')['genre'].count().sort_values(ascending = False)"
   ]
  },
  {
   "cell_type": "markdown",
   "metadata": {
    "id": "5Doha_ODgyQ8"
   },
   "source": [
    "Tampilkan 10 baris pertama dari `shel_genres`:"
   ]
  },
  {
   "cell_type": "code",
   "execution_count": 38,
   "metadata": {
    "id": "uaGJHjVU_Zcv",
    "scrolled": true
   },
   "outputs": [
    {
     "data": {
      "text/plain": [
       "genre\n",
       "pop            2597\n",
       "dance          2054\n",
       "rock           2004\n",
       "electronic     1842\n",
       "hiphop         1020\n",
       "alternative     700\n",
       "classical       684\n",
       "rusrap          604\n",
       "ruspop          565\n",
       "world           553\n",
       "Name: genre, dtype: int64"
      ]
     },
     "execution_count": 38,
     "metadata": {},
     "output_type": "execute_result"
    }
   ],
   "source": [
    "# menampilkan 10 baris pertama dari shel_genres\n",
    "shel_genres.head(10)"
   ]
  },
  {
   "cell_type": "markdown",
   "metadata": {},
   "source": [
    "<div class=\"alert alert-success\">\n",
    "<b>Reviewer's comment v1</b> <a class=\"tocSkip\"></a>\n",
    "\n",
    "Kerja bagus!\n",
    "</div>"
   ]
  },
  {
   "cell_type": "markdown",
   "metadata": {
    "id": "RY51YJYu_Zcv"
   },
   "source": [
    "**Kesimpulan**"
   ]
  },
  {
   "cell_type": "markdown",
   "metadata": {
    "id": "nVhnJEm__Zcv"
   },
   "source": [
    "Hipotesis terbukti benar sebagian:\n",
    "* Musik pop adalah genre paling populer di Springfield, seperti yang diharapkan.\n",
    "* Namun, musik pop ternyata sama populernya baik di Springfield maupun di Shelbyville, dan musik rap tidak berada di 5 besar untuk kedua kota tersebut.\n"
   ]
  },
  {
   "cell_type": "markdown",
   "metadata": {
    "id": "Byr0RfpPVz14"
   },
   "source": [
    "[Kembali ke Daftar Isi](#back)"
   ]
  },
  {
   "cell_type": "markdown",
   "metadata": {
    "id": "ykKQ0N65_Zcv"
   },
   "source": [
    "# Temuan <a id='end'></a>"
   ]
  },
  {
   "cell_type": "markdown",
   "metadata": {
    "id": "tjUwbHb3_Zcv"
   },
   "source": [
    "Kita telah menguji tiga hipotesis berikut:\n",
    "\n",
    "1. Aktivitas pengguna berbeda-beda tergantung pada hari dan kotanya.\n",
    "2. Pada senin pagi, penduduk Springfield dan Shelbyville mendengarkan genre yang berbeda. Hal ini juga ini juga berlaku untuk Jumat malam.\n",
    "3. Pendengar di Springfield dan Shelbyville memiliki preferensi yang berbeda. Baik Springfield maupun di Shelbyville, mereka lebih suka musik pop.\n",
    "\n",
    "Setelah menganalisis data, kita dapat menyimpulkan:\n",
    "\n",
    "1. Aktivitas pengguna di Springfield dan Shelbyville bergantung pada harinya, walaupun kotanya berbeda.\n",
    "\n",
    "Hipotesis pertama dapat diterima sepenuhnya.\n",
    "\n",
    "2. Preferensi musik tidak terlalu berbeda selama seminggu di Springfield dan Shelbyville. Kita dapat melihat perbedaan kecil dalam urutan pada hari Senin, tetapi:\n",
    "* Baik di Springfield maupun di Shelbyville, orang paling banyak mendengarkan musik pop.\n",
    "\n",
    "Jadi hipotesis ini tidak dapat kita terima. Kita juga harus ingat bahwa hasilnya bisa berbeda jika bukan karena nilai yang hilang.\n",
    "\n",
    "3. Ternyata preferensi musik pengguna dari Springfield dan Shelbyville sangat mirip.\n",
    "\n",
    "Hipotesis ketiga ditolak. Jika ada perbedaan preferensi, tidak dapat dilihat dari data ini.\n",
    "\n",
    "### Catatan\n",
    "Dalam proyek sesungguhnya, penelitian melibatkan pengujian hipotesis statistik, yang lebih tepat dan lebih kuantitatif. Perhatikan juga bahwa Anda tidak dapat selalu menarik kesimpulan tentang seluruh kota berdasarkan data dari satu sumber saja.\n",
    "\n",
    "Anda akan mempelajari pengujian hipotesis dalam sprint analisis data statistik."
   ]
  },
  {
   "cell_type": "markdown",
   "metadata": {},
   "source": [
    "<div class=\"alert alert-success\">\n",
    "<b>Reviewer's comment v1</b> <a class=\"tocSkip\"></a>\n",
    "    \n",
    "Secara keseluruhan ini adalah hasil yang sangat bagus namun terdapat beberapa catatan yang perlu diperbaiki.\n",
    "\n",
    "</div>"
   ]
  },
  {
   "cell_type": "markdown",
   "metadata": {},
   "source": [
    "<div class=\"alert alert-success\">\n",
    "<b>Reviewer's comment v2</b> <a class=\"tocSkip\"></a>\n",
    "    \n",
    "Perbaikan yang sangat bagus dan efisien. Maka project ini bisa diakhiri dan melanjutkan ke tahapan selanjutnya. Kerja bagus!\n",
    "\n",
    "</div>"
   ]
  },
  {
   "cell_type": "markdown",
   "metadata": {
    "id": "Ju4AHDSgV1FE"
   },
   "source": [
    "[Kembali ke Daftar Isi](#back)"
   ]
  }
 ],
 "metadata": {
  "ExecuteTimeLog": [
   {
    "duration": 43,
    "start_time": "2022-08-01T07:23:31.971Z"
   },
   {
    "duration": 374,
    "start_time": "2022-08-01T07:23:39.925Z"
   },
   {
    "duration": 78,
    "start_time": "2022-08-01T07:24:42.268Z"
   },
   {
    "duration": 23,
    "start_time": "2022-08-01T07:25:50.326Z"
   },
   {
    "duration": 565,
    "start_time": "2022-08-01T07:26:35.926Z"
   },
   {
    "duration": 2,
    "start_time": "2022-08-01T07:26:48.520Z"
   },
   {
    "duration": 232,
    "start_time": "2022-08-01T07:26:50.453Z"
   },
   {
    "duration": 9,
    "start_time": "2022-08-01T07:27:01.061Z"
   },
   {
    "duration": 9,
    "start_time": "2022-08-01T07:27:12.377Z"
   },
   {
    "duration": 25,
    "start_time": "2022-08-01T07:29:33.159Z"
   },
   {
    "duration": 48,
    "start_time": "2022-08-03T21:16:23.533Z"
   },
   {
    "duration": 408,
    "start_time": "2022-08-03T21:17:11.859Z"
   },
   {
    "duration": 348,
    "start_time": "2022-08-03T21:17:14.835Z"
   },
   {
    "duration": 16,
    "start_time": "2022-08-03T21:17:17.537Z"
   },
   {
    "duration": 17,
    "start_time": "2022-08-03T21:17:19.752Z"
   },
   {
    "duration": 31,
    "start_time": "2022-08-03T21:17:21.435Z"
   },
   {
    "duration": 4,
    "start_time": "2022-08-03T21:17:25.056Z"
   },
   {
    "duration": 4,
    "start_time": "2022-08-03T21:22:41.643Z"
   },
   {
    "duration": 11,
    "start_time": "2022-08-03T21:27:22.247Z"
   },
   {
    "duration": 5,
    "start_time": "2022-08-03T21:27:35.686Z"
   },
   {
    "duration": 24,
    "start_time": "2022-08-03T22:53:06.996Z"
   },
   {
    "duration": 363,
    "start_time": "2022-08-06T00:13:49.100Z"
   },
   {
    "duration": 335,
    "start_time": "2022-08-06T00:13:49.465Z"
   },
   {
    "duration": 9,
    "start_time": "2022-08-06T00:13:49.801Z"
   },
   {
    "duration": 34,
    "start_time": "2022-08-06T00:13:49.812Z"
   },
   {
    "duration": 4,
    "start_time": "2022-08-06T00:13:49.848Z"
   },
   {
    "duration": 12,
    "start_time": "2022-08-06T00:13:49.853Z"
   },
   {
    "duration": 6,
    "start_time": "2022-08-06T00:13:49.867Z"
   },
   {
    "duration": 25,
    "start_time": "2022-08-06T00:13:49.875Z"
   },
   {
    "duration": 851,
    "start_time": "2022-08-06T00:13:49.902Z"
   },
   {
    "duration": 0,
    "start_time": "2022-08-06T00:13:50.755Z"
   },
   {
    "duration": 0,
    "start_time": "2022-08-06T00:13:50.756Z"
   },
   {
    "duration": 0,
    "start_time": "2022-08-06T00:13:50.758Z"
   },
   {
    "duration": 0,
    "start_time": "2022-08-06T00:13:50.759Z"
   },
   {
    "duration": 0,
    "start_time": "2022-08-06T00:13:50.761Z"
   },
   {
    "duration": 0,
    "start_time": "2022-08-06T00:13:50.762Z"
   },
   {
    "duration": 0,
    "start_time": "2022-08-06T00:13:50.763Z"
   },
   {
    "duration": 0,
    "start_time": "2022-08-06T00:13:50.763Z"
   },
   {
    "duration": 0,
    "start_time": "2022-08-06T00:13:50.764Z"
   },
   {
    "duration": 0,
    "start_time": "2022-08-06T00:13:50.766Z"
   },
   {
    "duration": 0,
    "start_time": "2022-08-06T00:13:50.767Z"
   },
   {
    "duration": 0,
    "start_time": "2022-08-06T00:13:50.768Z"
   },
   {
    "duration": 0,
    "start_time": "2022-08-06T00:13:50.769Z"
   },
   {
    "duration": 0,
    "start_time": "2022-08-06T00:13:50.770Z"
   },
   {
    "duration": 0,
    "start_time": "2022-08-06T00:13:50.771Z"
   },
   {
    "duration": 0,
    "start_time": "2022-08-06T00:13:50.773Z"
   },
   {
    "duration": 0,
    "start_time": "2022-08-06T00:13:50.774Z"
   },
   {
    "duration": 0,
    "start_time": "2022-08-06T00:13:50.775Z"
   },
   {
    "duration": 0,
    "start_time": "2022-08-06T00:13:50.776Z"
   },
   {
    "duration": 0,
    "start_time": "2022-08-06T00:13:50.777Z"
   },
   {
    "duration": 0,
    "start_time": "2022-08-06T00:13:50.778Z"
   },
   {
    "duration": 0,
    "start_time": "2022-08-06T00:13:50.778Z"
   },
   {
    "duration": 0,
    "start_time": "2022-08-06T00:13:50.779Z"
   },
   {
    "duration": 0,
    "start_time": "2022-08-06T00:13:50.780Z"
   },
   {
    "duration": 0,
    "start_time": "2022-08-06T00:13:50.781Z"
   },
   {
    "duration": 0,
    "start_time": "2022-08-06T00:13:50.783Z"
   },
   {
    "duration": 0,
    "start_time": "2022-08-06T00:13:50.784Z"
   },
   {
    "duration": 0,
    "start_time": "2022-08-06T00:13:50.784Z"
   },
   {
    "duration": 0,
    "start_time": "2022-08-06T00:13:50.785Z"
   },
   {
    "duration": 5,
    "start_time": "2022-08-06T00:19:39.958Z"
   },
   {
    "duration": 472,
    "start_time": "2022-08-07T08:30:00.860Z"
   },
   {
    "duration": 693,
    "start_time": "2022-08-07T08:30:01.338Z"
   },
   {
    "duration": 18,
    "start_time": "2022-08-07T08:30:02.033Z"
   },
   {
    "duration": 63,
    "start_time": "2022-08-07T08:30:02.053Z"
   },
   {
    "duration": 12,
    "start_time": "2022-08-07T08:30:02.119Z"
   },
   {
    "duration": 32,
    "start_time": "2022-08-07T08:30:02.133Z"
   },
   {
    "duration": 17,
    "start_time": "2022-08-07T08:30:02.167Z"
   },
   {
    "duration": 35,
    "start_time": "2022-08-07T08:30:02.187Z"
   },
   {
    "duration": 56,
    "start_time": "2022-08-07T08:30:02.224Z"
   },
   {
    "duration": 35,
    "start_time": "2022-08-07T08:30:02.284Z"
   },
   {
    "duration": 83,
    "start_time": "2022-08-07T08:30:02.321Z"
   },
   {
    "duration": 107,
    "start_time": "2022-08-07T08:30:02.406Z"
   },
   {
    "duration": 96,
    "start_time": "2022-08-07T08:30:02.516Z"
   },
   {
    "duration": 158,
    "start_time": "2022-08-07T08:30:02.614Z"
   },
   {
    "duration": 0,
    "start_time": "2022-08-07T08:30:02.773Z"
   },
   {
    "duration": 0,
    "start_time": "2022-08-07T08:30:02.775Z"
   },
   {
    "duration": 0,
    "start_time": "2022-08-07T08:30:02.777Z"
   },
   {
    "duration": 0,
    "start_time": "2022-08-07T08:30:02.778Z"
   },
   {
    "duration": 0,
    "start_time": "2022-08-07T08:30:02.779Z"
   },
   {
    "duration": 0,
    "start_time": "2022-08-07T08:30:02.780Z"
   },
   {
    "duration": 0,
    "start_time": "2022-08-07T08:30:02.782Z"
   },
   {
    "duration": 0,
    "start_time": "2022-08-07T08:30:02.783Z"
   },
   {
    "duration": 0,
    "start_time": "2022-08-07T08:30:02.784Z"
   },
   {
    "duration": 0,
    "start_time": "2022-08-07T08:30:02.785Z"
   },
   {
    "duration": 0,
    "start_time": "2022-08-07T08:30:02.786Z"
   },
   {
    "duration": 0,
    "start_time": "2022-08-07T08:30:02.787Z"
   },
   {
    "duration": 0,
    "start_time": "2022-08-07T08:30:02.787Z"
   },
   {
    "duration": 0,
    "start_time": "2022-08-07T08:30:02.789Z"
   },
   {
    "duration": 0,
    "start_time": "2022-08-07T08:30:02.791Z"
   },
   {
    "duration": 0,
    "start_time": "2022-08-07T08:30:02.792Z"
   },
   {
    "duration": 0,
    "start_time": "2022-08-07T08:30:02.794Z"
   },
   {
    "duration": 0,
    "start_time": "2022-08-07T08:30:02.795Z"
   },
   {
    "duration": 0,
    "start_time": "2022-08-07T08:30:02.796Z"
   },
   {
    "duration": 0,
    "start_time": "2022-08-07T08:30:02.797Z"
   },
   {
    "duration": 0,
    "start_time": "2022-08-07T08:30:02.798Z"
   },
   {
    "duration": 0,
    "start_time": "2022-08-07T08:30:02.800Z"
   },
   {
    "duration": 0,
    "start_time": "2022-08-07T08:30:02.801Z"
   },
   {
    "duration": 0,
    "start_time": "2022-08-07T08:30:02.802Z"
   },
   {
    "duration": 75,
    "start_time": "2022-08-07T08:31:06.268Z"
   },
   {
    "duration": 4,
    "start_time": "2022-08-07T08:32:44.294Z"
   },
   {
    "duration": 96,
    "start_time": "2022-08-07T08:33:34.219Z"
   },
   {
    "duration": 106,
    "start_time": "2022-08-07T08:33:40.282Z"
   },
   {
    "duration": 1269,
    "start_time": "2022-08-07T08:33:46.870Z"
   },
   {
    "duration": 1318,
    "start_time": "2022-08-07T08:33:57.590Z"
   },
   {
    "duration": 12,
    "start_time": "2022-08-07T08:35:02.260Z"
   },
   {
    "duration": 12,
    "start_time": "2022-08-07T08:35:09.614Z"
   },
   {
    "duration": 13,
    "start_time": "2022-08-07T08:35:14.337Z"
   },
   {
    "duration": 7,
    "start_time": "2022-08-07T08:35:48.927Z"
   },
   {
    "duration": 379,
    "start_time": "2022-08-07T08:42:08.326Z"
   },
   {
    "duration": 275,
    "start_time": "2022-08-07T08:42:08.707Z"
   },
   {
    "duration": 10,
    "start_time": "2022-08-07T08:42:08.983Z"
   },
   {
    "duration": 29,
    "start_time": "2022-08-07T08:42:08.995Z"
   },
   {
    "duration": 4,
    "start_time": "2022-08-07T08:42:09.026Z"
   },
   {
    "duration": 16,
    "start_time": "2022-08-07T08:42:09.031Z"
   },
   {
    "duration": 4,
    "start_time": "2022-08-07T08:42:09.068Z"
   },
   {
    "duration": 23,
    "start_time": "2022-08-07T08:42:09.073Z"
   },
   {
    "duration": 13,
    "start_time": "2022-08-07T08:42:09.098Z"
   },
   {
    "duration": 24,
    "start_time": "2022-08-07T08:42:09.113Z"
   },
   {
    "duration": 83,
    "start_time": "2022-08-07T08:42:09.138Z"
   },
   {
    "duration": 76,
    "start_time": "2022-08-07T08:42:09.222Z"
   },
   {
    "duration": 0,
    "start_time": "2022-08-07T08:42:09.300Z"
   },
   {
    "duration": 0,
    "start_time": "2022-08-07T08:42:09.301Z"
   },
   {
    "duration": 0,
    "start_time": "2022-08-07T08:42:09.302Z"
   },
   {
    "duration": 0,
    "start_time": "2022-08-07T08:42:09.303Z"
   },
   {
    "duration": 0,
    "start_time": "2022-08-07T08:42:09.304Z"
   },
   {
    "duration": 0,
    "start_time": "2022-08-07T08:42:09.305Z"
   },
   {
    "duration": 0,
    "start_time": "2022-08-07T08:42:09.306Z"
   },
   {
    "duration": 0,
    "start_time": "2022-08-07T08:42:09.307Z"
   },
   {
    "duration": 0,
    "start_time": "2022-08-07T08:42:09.308Z"
   },
   {
    "duration": 0,
    "start_time": "2022-08-07T08:42:09.309Z"
   },
   {
    "duration": 0,
    "start_time": "2022-08-07T08:42:09.310Z"
   },
   {
    "duration": 0,
    "start_time": "2022-08-07T08:42:09.311Z"
   },
   {
    "duration": 0,
    "start_time": "2022-08-07T08:42:09.312Z"
   },
   {
    "duration": 0,
    "start_time": "2022-08-07T08:42:09.313Z"
   },
   {
    "duration": 0,
    "start_time": "2022-08-07T08:42:09.314Z"
   },
   {
    "duration": 0,
    "start_time": "2022-08-07T08:42:09.315Z"
   },
   {
    "duration": 0,
    "start_time": "2022-08-07T08:42:09.317Z"
   },
   {
    "duration": 0,
    "start_time": "2022-08-07T08:42:09.318Z"
   },
   {
    "duration": 0,
    "start_time": "2022-08-07T08:42:09.319Z"
   },
   {
    "duration": 0,
    "start_time": "2022-08-07T08:42:09.320Z"
   },
   {
    "duration": 0,
    "start_time": "2022-08-07T08:42:09.321Z"
   },
   {
    "duration": 0,
    "start_time": "2022-08-07T08:42:09.322Z"
   },
   {
    "duration": 0,
    "start_time": "2022-08-07T08:42:09.323Z"
   },
   {
    "duration": 0,
    "start_time": "2022-08-07T08:42:09.324Z"
   },
   {
    "duration": 0,
    "start_time": "2022-08-07T08:42:09.324Z"
   },
   {
    "duration": 0,
    "start_time": "2022-08-07T08:42:09.325Z"
   },
   {
    "duration": 66,
    "start_time": "2022-08-07T08:42:43.367Z"
   },
   {
    "duration": 66,
    "start_time": "2022-08-07T08:43:38.418Z"
   },
   {
    "duration": 60,
    "start_time": "2022-08-07T08:43:40.252Z"
   },
   {
    "duration": 85,
    "start_time": "2022-08-07T08:48:50.539Z"
   },
   {
    "duration": 6,
    "start_time": "2022-08-07T08:49:05.728Z"
   },
   {
    "duration": 7,
    "start_time": "2022-08-07T08:49:34.809Z"
   },
   {
    "duration": 11,
    "start_time": "2022-08-07T08:49:59.740Z"
   },
   {
    "duration": 7,
    "start_time": "2022-08-07T08:50:29.866Z"
   },
   {
    "duration": 7,
    "start_time": "2022-08-07T08:50:40.989Z"
   },
   {
    "duration": 6,
    "start_time": "2022-08-07T08:50:47.844Z"
   },
   {
    "duration": 78,
    "start_time": "2022-08-07T09:00:21.738Z"
   },
   {
    "duration": 75,
    "start_time": "2022-08-07T09:08:07.553Z"
   },
   {
    "duration": 3,
    "start_time": "2022-08-07T09:08:47.400Z"
   },
   {
    "duration": 2,
    "start_time": "2022-08-07T09:09:18.441Z"
   },
   {
    "duration": 17,
    "start_time": "2022-08-07T09:11:14.017Z"
   },
   {
    "duration": 22,
    "start_time": "2022-08-07T09:11:36.812Z"
   },
   {
    "duration": 7,
    "start_time": "2022-08-07T09:12:19.026Z"
   },
   {
    "duration": 5,
    "start_time": "2022-08-07T09:19:40.859Z"
   },
   {
    "duration": 3,
    "start_time": "2022-08-07T09:19:58.602Z"
   },
   {
    "duration": 5,
    "start_time": "2022-08-07T09:20:18.386Z"
   },
   {
    "duration": 4843,
    "start_time": "2022-08-07T09:20:21.679Z"
   },
   {
    "duration": 32,
    "start_time": "2022-08-07T09:20:58.022Z"
   },
   {
    "duration": 9,
    "start_time": "2022-08-07T09:21:44.560Z"
   },
   {
    "duration": 9,
    "start_time": "2022-08-07T09:21:54.514Z"
   },
   {
    "duration": 921,
    "start_time": "2022-08-07T09:22:05.316Z"
   },
   {
    "duration": 37,
    "start_time": "2022-08-07T09:22:26.545Z"
   },
   {
    "duration": 29,
    "start_time": "2022-08-07T09:23:06.978Z"
   },
   {
    "duration": 30,
    "start_time": "2022-08-07T09:24:44.851Z"
   },
   {
    "duration": 94,
    "start_time": "2022-08-07T14:10:45.744Z"
   },
   {
    "duration": 70,
    "start_time": "2022-08-07T14:11:27.760Z"
   },
   {
    "duration": 3,
    "start_time": "2022-08-07T14:12:35.250Z"
   },
   {
    "duration": 5,
    "start_time": "2022-08-07T14:13:11.614Z"
   },
   {
    "duration": 4,
    "start_time": "2022-08-07T14:16:00.459Z"
   },
   {
    "duration": 4,
    "start_time": "2022-08-07T14:24:06.834Z"
   },
   {
    "duration": 16,
    "start_time": "2022-08-07T14:24:09.748Z"
   },
   {
    "duration": 15,
    "start_time": "2022-08-07T14:24:12.126Z"
   },
   {
    "duration": 22,
    "start_time": "2022-08-07T14:24:14.309Z"
   },
   {
    "duration": 15,
    "start_time": "2022-08-07T14:24:16.135Z"
   },
   {
    "duration": 19,
    "start_time": "2022-08-07T14:24:18.008Z"
   },
   {
    "duration": 15,
    "start_time": "2022-08-07T14:24:19.752Z"
   },
   {
    "duration": 3,
    "start_time": "2022-08-07T14:26:42.037Z"
   },
   {
    "duration": 445,
    "start_time": "2022-08-07T16:31:17.966Z"
   },
   {
    "duration": 575,
    "start_time": "2022-08-07T16:31:18.413Z"
   },
   {
    "duration": 11,
    "start_time": "2022-08-07T16:31:18.989Z"
   },
   {
    "duration": 34,
    "start_time": "2022-08-07T16:31:19.002Z"
   },
   {
    "duration": 4,
    "start_time": "2022-08-07T16:31:19.038Z"
   },
   {
    "duration": 39,
    "start_time": "2022-08-07T16:31:19.043Z"
   },
   {
    "duration": 9,
    "start_time": "2022-08-07T16:31:19.084Z"
   },
   {
    "duration": 34,
    "start_time": "2022-08-07T16:31:19.094Z"
   },
   {
    "duration": 13,
    "start_time": "2022-08-07T16:31:19.130Z"
   },
   {
    "duration": 43,
    "start_time": "2022-08-07T16:31:19.147Z"
   },
   {
    "duration": 77,
    "start_time": "2022-08-07T16:31:19.192Z"
   },
   {
    "duration": 72,
    "start_time": "2022-08-07T16:31:19.271Z"
   },
   {
    "duration": 75,
    "start_time": "2022-08-07T16:31:19.345Z"
   },
   {
    "duration": 7,
    "start_time": "2022-08-07T16:31:19.422Z"
   },
   {
    "duration": 5,
    "start_time": "2022-08-07T16:31:19.430Z"
   },
   {
    "duration": 99,
    "start_time": "2022-08-07T16:31:19.437Z"
   },
   {
    "duration": 0,
    "start_time": "2022-08-07T16:31:19.538Z"
   },
   {
    "duration": 0,
    "start_time": "2022-08-07T16:31:19.540Z"
   },
   {
    "duration": 0,
    "start_time": "2022-08-07T16:31:19.542Z"
   },
   {
    "duration": 0,
    "start_time": "2022-08-07T16:31:19.543Z"
   },
   {
    "duration": 0,
    "start_time": "2022-08-07T16:31:19.545Z"
   },
   {
    "duration": 0,
    "start_time": "2022-08-07T16:31:19.546Z"
   },
   {
    "duration": 0,
    "start_time": "2022-08-07T16:31:19.568Z"
   },
   {
    "duration": 0,
    "start_time": "2022-08-07T16:31:19.570Z"
   },
   {
    "duration": 0,
    "start_time": "2022-08-07T16:31:19.571Z"
   },
   {
    "duration": 0,
    "start_time": "2022-08-07T16:31:19.573Z"
   },
   {
    "duration": 0,
    "start_time": "2022-08-07T16:31:19.574Z"
   },
   {
    "duration": 0,
    "start_time": "2022-08-07T16:31:19.576Z"
   },
   {
    "duration": 0,
    "start_time": "2022-08-07T16:31:19.577Z"
   },
   {
    "duration": 1,
    "start_time": "2022-08-07T16:31:19.578Z"
   },
   {
    "duration": 0,
    "start_time": "2022-08-07T16:31:19.580Z"
   },
   {
    "duration": 0,
    "start_time": "2022-08-07T16:31:19.582Z"
   },
   {
    "duration": 0,
    "start_time": "2022-08-07T16:31:19.583Z"
   },
   {
    "duration": 0,
    "start_time": "2022-08-07T16:31:19.584Z"
   },
   {
    "duration": 0,
    "start_time": "2022-08-07T16:31:19.586Z"
   },
   {
    "duration": 0,
    "start_time": "2022-08-07T16:31:19.587Z"
   },
   {
    "duration": 0,
    "start_time": "2022-08-07T16:31:19.589Z"
   },
   {
    "duration": 0,
    "start_time": "2022-08-07T16:31:19.590Z"
   },
   {
    "duration": 7,
    "start_time": "2022-08-07T16:31:48.414Z"
   },
   {
    "duration": 9,
    "start_time": "2022-08-07T16:31:55.189Z"
   },
   {
    "duration": 8,
    "start_time": "2022-08-07T16:32:01.618Z"
   },
   {
    "duration": 10,
    "start_time": "2022-08-07T16:32:03.320Z"
   },
   {
    "duration": 7,
    "start_time": "2022-08-07T16:32:05.248Z"
   },
   {
    "duration": 368,
    "start_time": "2022-08-07T16:32:10.514Z"
   },
   {
    "duration": 306,
    "start_time": "2022-08-07T16:32:10.884Z"
   },
   {
    "duration": 10,
    "start_time": "2022-08-07T16:32:11.192Z"
   },
   {
    "duration": 33,
    "start_time": "2022-08-07T16:32:11.204Z"
   },
   {
    "duration": 4,
    "start_time": "2022-08-07T16:32:11.239Z"
   },
   {
    "duration": 13,
    "start_time": "2022-08-07T16:32:11.268Z"
   },
   {
    "duration": 8,
    "start_time": "2022-08-07T16:32:11.283Z"
   },
   {
    "duration": 28,
    "start_time": "2022-08-07T16:32:11.293Z"
   },
   {
    "duration": 50,
    "start_time": "2022-08-07T16:32:11.323Z"
   },
   {
    "duration": 27,
    "start_time": "2022-08-07T16:32:11.376Z"
   },
   {
    "duration": 105,
    "start_time": "2022-08-07T16:32:11.404Z"
   },
   {
    "duration": 97,
    "start_time": "2022-08-07T16:32:11.511Z"
   },
   {
    "duration": 69,
    "start_time": "2022-08-07T16:32:11.610Z"
   },
   {
    "duration": 6,
    "start_time": "2022-08-07T16:32:11.681Z"
   },
   {
    "duration": 59,
    "start_time": "2022-08-07T16:32:11.689Z"
   },
   {
    "duration": 0,
    "start_time": "2022-08-07T16:32:11.863Z"
   },
   {
    "duration": 0,
    "start_time": "2022-08-07T16:32:11.864Z"
   },
   {
    "duration": 0,
    "start_time": "2022-08-07T16:32:11.865Z"
   },
   {
    "duration": 0,
    "start_time": "2022-08-07T16:32:11.867Z"
   },
   {
    "duration": 0,
    "start_time": "2022-08-07T16:32:11.869Z"
   },
   {
    "duration": 0,
    "start_time": "2022-08-07T16:32:11.870Z"
   },
   {
    "duration": 0,
    "start_time": "2022-08-07T16:32:11.871Z"
   },
   {
    "duration": 0,
    "start_time": "2022-08-07T16:32:11.873Z"
   },
   {
    "duration": 0,
    "start_time": "2022-08-07T16:32:11.874Z"
   },
   {
    "duration": 0,
    "start_time": "2022-08-07T16:32:11.875Z"
   },
   {
    "duration": 0,
    "start_time": "2022-08-07T16:32:11.876Z"
   },
   {
    "duration": 0,
    "start_time": "2022-08-07T16:32:11.878Z"
   },
   {
    "duration": 0,
    "start_time": "2022-08-07T16:32:11.879Z"
   },
   {
    "duration": 0,
    "start_time": "2022-08-07T16:32:11.881Z"
   },
   {
    "duration": 0,
    "start_time": "2022-08-07T16:32:11.882Z"
   },
   {
    "duration": 0,
    "start_time": "2022-08-07T16:32:11.884Z"
   },
   {
    "duration": 0,
    "start_time": "2022-08-07T16:32:11.885Z"
   },
   {
    "duration": 0,
    "start_time": "2022-08-07T16:32:11.887Z"
   },
   {
    "duration": 0,
    "start_time": "2022-08-07T16:32:11.888Z"
   },
   {
    "duration": 0,
    "start_time": "2022-08-07T16:32:11.890Z"
   },
   {
    "duration": 0,
    "start_time": "2022-08-07T16:32:11.891Z"
   },
   {
    "duration": 439,
    "start_time": "2022-08-07T16:33:07.873Z"
   },
   {
    "duration": 304,
    "start_time": "2022-08-07T16:33:08.314Z"
   },
   {
    "duration": 13,
    "start_time": "2022-08-07T16:33:08.619Z"
   },
   {
    "duration": 45,
    "start_time": "2022-08-07T16:33:08.635Z"
   },
   {
    "duration": 22,
    "start_time": "2022-08-07T16:33:08.682Z"
   },
   {
    "duration": 18,
    "start_time": "2022-08-07T16:33:08.706Z"
   },
   {
    "duration": 16,
    "start_time": "2022-08-07T16:33:08.726Z"
   },
   {
    "duration": 28,
    "start_time": "2022-08-07T16:33:08.744Z"
   },
   {
    "duration": 18,
    "start_time": "2022-08-07T16:33:08.774Z"
   },
   {
    "duration": 28,
    "start_time": "2022-08-07T16:33:08.795Z"
   },
   {
    "duration": 86,
    "start_time": "2022-08-07T16:33:08.825Z"
   },
   {
    "duration": 87,
    "start_time": "2022-08-07T16:33:08.912Z"
   },
   {
    "duration": 69,
    "start_time": "2022-08-07T16:33:09.001Z"
   },
   {
    "duration": 6,
    "start_time": "2022-08-07T16:33:09.072Z"
   },
   {
    "duration": 5,
    "start_time": "2022-08-07T16:33:09.080Z"
   },
   {
    "duration": 92,
    "start_time": "2022-08-07T16:33:09.087Z"
   },
   {
    "duration": 0,
    "start_time": "2022-08-07T16:33:09.181Z"
   },
   {
    "duration": 0,
    "start_time": "2022-08-07T16:33:09.183Z"
   },
   {
    "duration": 0,
    "start_time": "2022-08-07T16:33:09.185Z"
   },
   {
    "duration": 0,
    "start_time": "2022-08-07T16:33:09.186Z"
   },
   {
    "duration": 0,
    "start_time": "2022-08-07T16:33:09.187Z"
   },
   {
    "duration": 0,
    "start_time": "2022-08-07T16:33:09.189Z"
   },
   {
    "duration": 0,
    "start_time": "2022-08-07T16:33:09.190Z"
   },
   {
    "duration": 0,
    "start_time": "2022-08-07T16:33:09.192Z"
   },
   {
    "duration": 0,
    "start_time": "2022-08-07T16:33:09.193Z"
   },
   {
    "duration": 0,
    "start_time": "2022-08-07T16:33:09.195Z"
   },
   {
    "duration": 0,
    "start_time": "2022-08-07T16:33:09.196Z"
   },
   {
    "duration": 0,
    "start_time": "2022-08-07T16:33:09.198Z"
   },
   {
    "duration": 0,
    "start_time": "2022-08-07T16:33:09.199Z"
   },
   {
    "duration": 0,
    "start_time": "2022-08-07T16:33:09.201Z"
   },
   {
    "duration": 0,
    "start_time": "2022-08-07T16:33:09.202Z"
   },
   {
    "duration": 0,
    "start_time": "2022-08-07T16:33:09.203Z"
   },
   {
    "duration": 0,
    "start_time": "2022-08-07T16:33:09.204Z"
   },
   {
    "duration": 0,
    "start_time": "2022-08-07T16:33:09.205Z"
   },
   {
    "duration": 0,
    "start_time": "2022-08-07T16:33:09.206Z"
   },
   {
    "duration": 0,
    "start_time": "2022-08-07T16:33:09.207Z"
   },
   {
    "duration": 0,
    "start_time": "2022-08-07T16:33:09.208Z"
   },
   {
    "duration": 0,
    "start_time": "2022-08-07T16:33:09.209Z"
   },
   {
    "duration": 22,
    "start_time": "2022-08-07T16:34:00.126Z"
   },
   {
    "duration": 456,
    "start_time": "2022-08-07T16:34:06.284Z"
   },
   {
    "duration": 283,
    "start_time": "2022-08-07T16:34:06.742Z"
   },
   {
    "duration": 12,
    "start_time": "2022-08-07T16:34:07.027Z"
   },
   {
    "duration": 43,
    "start_time": "2022-08-07T16:34:07.040Z"
   },
   {
    "duration": 7,
    "start_time": "2022-08-07T16:34:07.085Z"
   },
   {
    "duration": 12,
    "start_time": "2022-08-07T16:34:07.094Z"
   },
   {
    "duration": 15,
    "start_time": "2022-08-07T16:34:07.108Z"
   },
   {
    "duration": 34,
    "start_time": "2022-08-07T16:34:07.124Z"
   },
   {
    "duration": 15,
    "start_time": "2022-08-07T16:34:07.167Z"
   },
   {
    "duration": 37,
    "start_time": "2022-08-07T16:34:07.183Z"
   },
   {
    "duration": 63,
    "start_time": "2022-08-07T16:34:07.221Z"
   },
   {
    "duration": 65,
    "start_time": "2022-08-07T16:34:07.285Z"
   },
   {
    "duration": 52,
    "start_time": "2022-08-07T16:34:07.367Z"
   },
   {
    "duration": 6,
    "start_time": "2022-08-07T16:34:07.422Z"
   },
   {
    "duration": 7,
    "start_time": "2022-08-07T16:34:07.429Z"
   },
   {
    "duration": 41,
    "start_time": "2022-08-07T16:34:07.438Z"
   },
   {
    "duration": 6,
    "start_time": "2022-08-07T16:34:07.481Z"
   },
   {
    "duration": 37,
    "start_time": "2022-08-07T16:34:07.489Z"
   },
   {
    "duration": 56,
    "start_time": "2022-08-07T16:34:07.528Z"
   },
   {
    "duration": 4,
    "start_time": "2022-08-07T16:34:07.585Z"
   },
   {
    "duration": 19,
    "start_time": "2022-08-07T16:34:07.590Z"
   },
   {
    "duration": 14,
    "start_time": "2022-08-07T16:34:07.611Z"
   },
   {
    "duration": 42,
    "start_time": "2022-08-07T16:34:07.627Z"
   },
   {
    "duration": 15,
    "start_time": "2022-08-07T16:34:07.671Z"
   },
   {
    "duration": 16,
    "start_time": "2022-08-07T16:34:07.687Z"
   },
   {
    "duration": 15,
    "start_time": "2022-08-07T16:34:07.704Z"
   },
   {
    "duration": 101,
    "start_time": "2022-08-07T16:34:07.720Z"
   },
   {
    "duration": 0,
    "start_time": "2022-08-07T16:34:07.822Z"
   },
   {
    "duration": 0,
    "start_time": "2022-08-07T16:34:07.823Z"
   },
   {
    "duration": 0,
    "start_time": "2022-08-07T16:34:07.825Z"
   },
   {
    "duration": 0,
    "start_time": "2022-08-07T16:34:07.825Z"
   },
   {
    "duration": 0,
    "start_time": "2022-08-07T16:34:07.826Z"
   },
   {
    "duration": 0,
    "start_time": "2022-08-07T16:34:07.827Z"
   },
   {
    "duration": 0,
    "start_time": "2022-08-07T16:34:07.828Z"
   },
   {
    "duration": 0,
    "start_time": "2022-08-07T16:34:07.829Z"
   },
   {
    "duration": 0,
    "start_time": "2022-08-07T16:34:07.830Z"
   },
   {
    "duration": 0,
    "start_time": "2022-08-07T16:34:07.831Z"
   },
   {
    "duration": 0,
    "start_time": "2022-08-07T16:34:07.832Z"
   },
   {
    "duration": 16,
    "start_time": "2022-08-07T16:35:55.771Z"
   },
   {
    "duration": 433,
    "start_time": "2022-08-07T16:38:43.040Z"
   },
   {
    "duration": 307,
    "start_time": "2022-08-07T16:38:43.474Z"
   },
   {
    "duration": 11,
    "start_time": "2022-08-07T16:38:43.783Z"
   },
   {
    "duration": 38,
    "start_time": "2022-08-07T16:38:43.796Z"
   },
   {
    "duration": 7,
    "start_time": "2022-08-07T16:38:43.836Z"
   },
   {
    "duration": 32,
    "start_time": "2022-08-07T16:38:43.845Z"
   },
   {
    "duration": 20,
    "start_time": "2022-08-07T16:38:43.879Z"
   },
   {
    "duration": 38,
    "start_time": "2022-08-07T16:38:43.900Z"
   },
   {
    "duration": 25,
    "start_time": "2022-08-07T16:38:43.939Z"
   },
   {
    "duration": 42,
    "start_time": "2022-08-07T16:38:43.967Z"
   },
   {
    "duration": 84,
    "start_time": "2022-08-07T16:38:44.010Z"
   },
   {
    "duration": 82,
    "start_time": "2022-08-07T16:38:44.096Z"
   },
   {
    "duration": 64,
    "start_time": "2022-08-07T16:38:44.179Z"
   },
   {
    "duration": 7,
    "start_time": "2022-08-07T16:38:44.245Z"
   },
   {
    "duration": 8,
    "start_time": "2022-08-07T16:38:44.268Z"
   },
   {
    "duration": 47,
    "start_time": "2022-08-07T16:38:44.278Z"
   },
   {
    "duration": 7,
    "start_time": "2022-08-07T16:38:44.326Z"
   },
   {
    "duration": 64,
    "start_time": "2022-08-07T16:38:44.335Z"
   },
   {
    "duration": 33,
    "start_time": "2022-08-07T16:38:44.401Z"
   },
   {
    "duration": 4,
    "start_time": "2022-08-07T16:38:44.435Z"
   },
   {
    "duration": 41,
    "start_time": "2022-08-07T16:38:44.440Z"
   },
   {
    "duration": 27,
    "start_time": "2022-08-07T16:38:44.482Z"
   },
   {
    "duration": 23,
    "start_time": "2022-08-07T16:38:44.511Z"
   },
   {
    "duration": 22,
    "start_time": "2022-08-07T16:38:44.536Z"
   },
   {
    "duration": 26,
    "start_time": "2022-08-07T16:38:44.560Z"
   },
   {
    "duration": 17,
    "start_time": "2022-08-07T16:38:44.588Z"
   },
   {
    "duration": 23,
    "start_time": "2022-08-07T16:38:44.606Z"
   },
   {
    "duration": 17,
    "start_time": "2022-08-07T16:38:44.632Z"
   },
   {
    "duration": 12,
    "start_time": "2022-08-07T16:38:44.650Z"
   },
   {
    "duration": 115,
    "start_time": "2022-08-07T16:38:44.664Z"
   },
   {
    "duration": 0,
    "start_time": "2022-08-07T16:38:44.780Z"
   },
   {
    "duration": 0,
    "start_time": "2022-08-07T16:38:44.781Z"
   },
   {
    "duration": 0,
    "start_time": "2022-08-07T16:38:44.782Z"
   },
   {
    "duration": 0,
    "start_time": "2022-08-07T16:38:44.783Z"
   },
   {
    "duration": 0,
    "start_time": "2022-08-07T16:38:44.785Z"
   },
   {
    "duration": 0,
    "start_time": "2022-08-07T16:38:44.786Z"
   },
   {
    "duration": 0,
    "start_time": "2022-08-07T16:38:44.787Z"
   },
   {
    "duration": 0,
    "start_time": "2022-08-07T16:38:44.788Z"
   },
   {
    "duration": 15,
    "start_time": "2022-08-07T18:17:50.663Z"
   },
   {
    "duration": 16,
    "start_time": "2022-08-07T18:18:04.932Z"
   },
   {
    "duration": 28,
    "start_time": "2022-08-07T18:19:37.223Z"
   },
   {
    "duration": 17,
    "start_time": "2022-08-07T18:20:14.923Z"
   },
   {
    "duration": 4,
    "start_time": "2022-08-07T18:20:54.996Z"
   },
   {
    "duration": 40,
    "start_time": "2022-08-07T18:21:25.738Z"
   },
   {
    "duration": 16,
    "start_time": "2022-08-07T18:22:08.212Z"
   },
   {
    "duration": 16,
    "start_time": "2022-08-07T18:34:10.109Z"
   },
   {
    "duration": 4,
    "start_time": "2022-08-07T18:35:04.691Z"
   },
   {
    "duration": 88,
    "start_time": "2022-08-07T18:35:22.846Z"
   },
   {
    "duration": 4,
    "start_time": "2022-08-07T18:35:43.333Z"
   },
   {
    "duration": 38,
    "start_time": "2022-08-07T18:35:44.997Z"
   },
   {
    "duration": 27,
    "start_time": "2022-08-07T18:35:59.625Z"
   },
   {
    "duration": 27,
    "start_time": "2022-08-07T18:36:13.515Z"
   },
   {
    "duration": 29,
    "start_time": "2022-08-07T19:17:40.306Z"
   },
   {
    "duration": 31,
    "start_time": "2022-08-07T19:18:11.846Z"
   },
   {
    "duration": 27,
    "start_time": "2022-08-07T19:18:17.625Z"
   },
   {
    "duration": 25,
    "start_time": "2022-08-07T19:18:33.680Z"
   },
   {
    "duration": 4,
    "start_time": "2022-08-07T19:19:24.533Z"
   },
   {
    "duration": 24,
    "start_time": "2022-08-07T19:19:30.146Z"
   },
   {
    "duration": 31,
    "start_time": "2022-08-07T19:19:42.444Z"
   },
   {
    "duration": 26,
    "start_time": "2022-08-07T19:19:44.381Z"
   },
   {
    "duration": 22,
    "start_time": "2022-08-07T19:19:46.212Z"
   },
   {
    "duration": 24,
    "start_time": "2022-08-07T19:19:47.132Z"
   },
   {
    "duration": 24,
    "start_time": "2022-08-07T19:19:48.180Z"
   },
   {
    "duration": 27,
    "start_time": "2022-08-07T19:19:51.433Z"
   },
   {
    "duration": 23,
    "start_time": "2022-08-07T19:19:53.360Z"
   },
   {
    "duration": 7,
    "start_time": "2022-08-07T19:20:08.856Z"
   },
   {
    "duration": 31,
    "start_time": "2022-08-07T19:20:11.533Z"
   },
   {
    "duration": 16,
    "start_time": "2022-08-07T19:20:31.307Z"
   },
   {
    "duration": 17,
    "start_time": "2022-08-07T19:21:03.669Z"
   },
   {
    "duration": 21,
    "start_time": "2022-08-07T19:21:30.886Z"
   },
   {
    "duration": 14,
    "start_time": "2022-08-07T19:21:32.281Z"
   },
   {
    "duration": 14,
    "start_time": "2022-08-07T19:21:33.414Z"
   },
   {
    "duration": 17,
    "start_time": "2022-08-07T19:21:34.009Z"
   },
   {
    "duration": 15,
    "start_time": "2022-08-07T19:21:35.317Z"
   },
   {
    "duration": 8,
    "start_time": "2022-08-07T19:23:01.430Z"
   },
   {
    "duration": 28,
    "start_time": "2022-08-07T19:23:28.947Z"
   },
   {
    "duration": 38,
    "start_time": "2022-08-07T19:23:35.318Z"
   },
   {
    "duration": 3,
    "start_time": "2022-08-07T19:23:51.055Z"
   },
   {
    "duration": 28,
    "start_time": "2022-08-07T19:24:19.606Z"
   },
   {
    "duration": 29,
    "start_time": "2022-08-07T19:24:21.725Z"
   },
   {
    "duration": 30,
    "start_time": "2022-08-07T19:24:24.378Z"
   },
   {
    "duration": 30,
    "start_time": "2022-08-07T19:24:51.976Z"
   },
   {
    "duration": 36,
    "start_time": "2022-08-07T19:25:01.936Z"
   },
   {
    "duration": 27,
    "start_time": "2022-08-07T19:25:31.133Z"
   },
   {
    "duration": 28,
    "start_time": "2022-08-07T19:25:32.409Z"
   },
   {
    "duration": 31,
    "start_time": "2022-08-07T19:25:32.825Z"
   },
   {
    "duration": 30,
    "start_time": "2022-08-07T19:25:33.221Z"
   },
   {
    "duration": 28,
    "start_time": "2022-08-07T19:25:33.566Z"
   },
   {
    "duration": 33,
    "start_time": "2022-08-07T19:25:34.140Z"
   },
   {
    "duration": 27,
    "start_time": "2022-08-07T19:25:34.983Z"
   },
   {
    "duration": 4,
    "start_time": "2022-08-07T19:25:37.934Z"
   },
   {
    "duration": 14,
    "start_time": "2022-08-07T19:25:46.044Z"
   },
   {
    "duration": 16,
    "start_time": "2022-08-07T19:26:52.903Z"
   },
   {
    "duration": 14,
    "start_time": "2022-08-07T19:26:53.248Z"
   },
   {
    "duration": 16,
    "start_time": "2022-08-07T19:26:53.614Z"
   },
   {
    "duration": 15,
    "start_time": "2022-08-07T19:26:53.946Z"
   },
   {
    "duration": 17,
    "start_time": "2022-08-07T19:26:54.335Z"
   },
   {
    "duration": 28,
    "start_time": "2022-08-07T19:26:58.448Z"
   },
   {
    "duration": 17,
    "start_time": "2022-08-07T19:27:53.202Z"
   },
   {
    "duration": 15,
    "start_time": "2022-08-07T19:28:20.336Z"
   },
   {
    "duration": 15,
    "start_time": "2022-08-07T19:28:39.738Z"
   },
   {
    "duration": 17,
    "start_time": "2022-08-07T19:28:51.492Z"
   },
   {
    "duration": 15,
    "start_time": "2022-08-07T19:29:04.299Z"
   },
   {
    "duration": 75,
    "start_time": "2022-08-07T19:29:15.472Z"
   },
   {
    "duration": 12,
    "start_time": "2022-08-07T19:29:18.706Z"
   },
   {
    "duration": 16,
    "start_time": "2022-08-07T19:29:32.540Z"
   },
   {
    "duration": 14,
    "start_time": "2022-08-07T19:29:44.562Z"
   },
   {
    "duration": 21,
    "start_time": "2022-08-07T19:30:14.399Z"
   },
   {
    "duration": 16,
    "start_time": "2022-08-07T19:30:19.163Z"
   },
   {
    "duration": 11,
    "start_time": "2022-08-07T19:33:24.855Z"
   },
   {
    "duration": 429,
    "start_time": "2022-08-07T19:40:35.874Z"
   },
   {
    "duration": 358,
    "start_time": "2022-08-07T19:40:36.305Z"
   },
   {
    "duration": 11,
    "start_time": "2022-08-07T19:40:36.667Z"
   },
   {
    "duration": 40,
    "start_time": "2022-08-07T19:40:36.681Z"
   },
   {
    "duration": 4,
    "start_time": "2022-08-07T19:40:36.723Z"
   },
   {
    "duration": 15,
    "start_time": "2022-08-07T19:40:36.728Z"
   },
   {
    "duration": 24,
    "start_time": "2022-08-07T19:40:36.745Z"
   },
   {
    "duration": 34,
    "start_time": "2022-08-07T19:40:36.771Z"
   },
   {
    "duration": 14,
    "start_time": "2022-08-07T19:40:36.807Z"
   },
   {
    "duration": 44,
    "start_time": "2022-08-07T19:40:36.824Z"
   },
   {
    "duration": 64,
    "start_time": "2022-08-07T19:40:36.870Z"
   },
   {
    "duration": 85,
    "start_time": "2022-08-07T19:40:36.936Z"
   },
   {
    "duration": 60,
    "start_time": "2022-08-07T19:40:37.022Z"
   },
   {
    "duration": 6,
    "start_time": "2022-08-07T19:40:37.084Z"
   },
   {
    "duration": 8,
    "start_time": "2022-08-07T19:40:37.092Z"
   },
   {
    "duration": 23,
    "start_time": "2022-08-07T19:40:37.102Z"
   },
   {
    "duration": 6,
    "start_time": "2022-08-07T19:40:37.127Z"
   },
   {
    "duration": 56,
    "start_time": "2022-08-07T19:40:37.135Z"
   },
   {
    "duration": 32,
    "start_time": "2022-08-07T19:40:37.193Z"
   },
   {
    "duration": 4,
    "start_time": "2022-08-07T19:40:37.227Z"
   },
   {
    "duration": 37,
    "start_time": "2022-08-07T19:40:37.233Z"
   },
   {
    "duration": 13,
    "start_time": "2022-08-07T19:40:37.272Z"
   },
   {
    "duration": 14,
    "start_time": "2022-08-07T19:40:37.287Z"
   },
   {
    "duration": 13,
    "start_time": "2022-08-07T19:40:37.303Z"
   },
   {
    "duration": 18,
    "start_time": "2022-08-07T19:40:37.318Z"
   },
   {
    "duration": 41,
    "start_time": "2022-08-07T19:40:37.338Z"
   },
   {
    "duration": 13,
    "start_time": "2022-08-07T19:40:37.381Z"
   },
   {
    "duration": 4,
    "start_time": "2022-08-07T19:40:37.397Z"
   },
   {
    "duration": 5,
    "start_time": "2022-08-07T19:40:37.402Z"
   },
   {
    "duration": 108,
    "start_time": "2022-08-07T19:40:37.409Z"
   },
   {
    "duration": 0,
    "start_time": "2022-08-07T19:40:37.518Z"
   },
   {
    "duration": 0,
    "start_time": "2022-08-07T19:40:37.520Z"
   },
   {
    "duration": 0,
    "start_time": "2022-08-07T19:40:37.521Z"
   },
   {
    "duration": 0,
    "start_time": "2022-08-07T19:40:37.522Z"
   },
   {
    "duration": 0,
    "start_time": "2022-08-07T19:40:37.524Z"
   },
   {
    "duration": 0,
    "start_time": "2022-08-07T19:40:37.525Z"
   },
   {
    "duration": 0,
    "start_time": "2022-08-07T19:40:37.526Z"
   },
   {
    "duration": 0,
    "start_time": "2022-08-07T19:40:37.528Z"
   },
   {
    "duration": 925,
    "start_time": "2022-08-07T19:45:39.373Z"
   },
   {
    "duration": 3,
    "start_time": "2022-08-07T19:45:48.088Z"
   },
   {
    "duration": 845,
    "start_time": "2022-08-07T19:46:56.943Z"
   },
   {
    "duration": 835,
    "start_time": "2022-08-07T19:47:17.631Z"
   },
   {
    "duration": 857,
    "start_time": "2022-08-07T19:47:19.056Z"
   },
   {
    "duration": 2,
    "start_time": "2022-08-07T19:47:45.573Z"
   },
   {
    "duration": 6,
    "start_time": "2022-08-07T19:50:27.915Z"
   },
   {
    "duration": 13,
    "start_time": "2022-08-07T19:52:06.009Z"
   },
   {
    "duration": 24,
    "start_time": "2022-08-07T19:52:13.268Z"
   },
   {
    "duration": 11,
    "start_time": "2022-08-07T19:52:17.448Z"
   },
   {
    "duration": 12,
    "start_time": "2022-08-07T19:52:30.895Z"
   },
   {
    "duration": 363,
    "start_time": "2022-08-08T11:44:47.966Z"
   },
   {
    "duration": 297,
    "start_time": "2022-08-08T11:44:48.331Z"
   },
   {
    "duration": 11,
    "start_time": "2022-08-08T11:44:48.629Z"
   },
   {
    "duration": 26,
    "start_time": "2022-08-08T11:44:48.641Z"
   },
   {
    "duration": 3,
    "start_time": "2022-08-08T11:44:48.668Z"
   },
   {
    "duration": 10,
    "start_time": "2022-08-08T11:44:48.672Z"
   },
   {
    "duration": 5,
    "start_time": "2022-08-08T11:44:48.683Z"
   },
   {
    "duration": 21,
    "start_time": "2022-08-08T11:44:48.689Z"
   },
   {
    "duration": 12,
    "start_time": "2022-08-08T11:44:48.737Z"
   },
   {
    "duration": 21,
    "start_time": "2022-08-08T11:44:48.751Z"
   },
   {
    "duration": 386,
    "start_time": "2022-08-08T11:44:59.628Z"
   },
   {
    "duration": 244,
    "start_time": "2022-08-08T11:45:00.016Z"
   },
   {
    "duration": 8,
    "start_time": "2022-08-08T11:45:00.262Z"
   },
   {
    "duration": 41,
    "start_time": "2022-08-08T11:45:00.272Z"
   },
   {
    "duration": 6,
    "start_time": "2022-08-08T11:45:00.315Z"
   },
   {
    "duration": 27,
    "start_time": "2022-08-08T11:45:00.323Z"
   },
   {
    "duration": 18,
    "start_time": "2022-08-08T11:45:00.351Z"
   },
   {
    "duration": 40,
    "start_time": "2022-08-08T11:45:00.371Z"
   },
   {
    "duration": 18,
    "start_time": "2022-08-08T11:45:00.412Z"
   },
   {
    "duration": 29,
    "start_time": "2022-08-08T11:45:00.432Z"
   },
   {
    "duration": 63,
    "start_time": "2022-08-08T11:45:00.462Z"
   },
   {
    "duration": 57,
    "start_time": "2022-08-08T11:45:00.527Z"
   },
   {
    "duration": 55,
    "start_time": "2022-08-08T11:45:00.586Z"
   },
   {
    "duration": 5,
    "start_time": "2022-08-08T11:45:00.643Z"
   },
   {
    "duration": 13,
    "start_time": "2022-08-08T11:45:00.650Z"
   },
   {
    "duration": 49,
    "start_time": "2022-08-08T11:45:00.664Z"
   },
   {
    "duration": 18,
    "start_time": "2022-08-08T11:45:00.714Z"
   },
   {
    "duration": 33,
    "start_time": "2022-08-08T11:45:00.733Z"
   },
   {
    "duration": 26,
    "start_time": "2022-08-08T11:45:00.767Z"
   },
   {
    "duration": 3,
    "start_time": "2022-08-08T11:45:00.794Z"
   },
   {
    "duration": 31,
    "start_time": "2022-08-08T11:45:00.799Z"
   },
   {
    "duration": 21,
    "start_time": "2022-08-08T11:45:00.832Z"
   },
   {
    "duration": 27,
    "start_time": "2022-08-08T11:45:00.854Z"
   },
   {
    "duration": 20,
    "start_time": "2022-08-08T11:45:00.882Z"
   },
   {
    "duration": 20,
    "start_time": "2022-08-08T11:45:00.903Z"
   },
   {
    "duration": 18,
    "start_time": "2022-08-08T11:45:00.925Z"
   },
   {
    "duration": 14,
    "start_time": "2022-08-08T11:45:00.944Z"
   },
   {
    "duration": 16,
    "start_time": "2022-08-08T11:45:00.959Z"
   },
   {
    "duration": 11,
    "start_time": "2022-08-08T11:45:00.976Z"
   },
   {
    "duration": 133,
    "start_time": "2022-08-08T11:45:00.989Z"
   },
   {
    "duration": 0,
    "start_time": "2022-08-08T11:45:01.124Z"
   },
   {
    "duration": 0,
    "start_time": "2022-08-08T11:45:01.125Z"
   },
   {
    "duration": 0,
    "start_time": "2022-08-08T11:45:01.127Z"
   },
   {
    "duration": 0,
    "start_time": "2022-08-08T11:45:01.128Z"
   },
   {
    "duration": 0,
    "start_time": "2022-08-08T11:45:01.129Z"
   },
   {
    "duration": 0,
    "start_time": "2022-08-08T11:45:01.130Z"
   },
   {
    "duration": 0,
    "start_time": "2022-08-08T11:45:01.132Z"
   },
   {
    "duration": 0,
    "start_time": "2022-08-08T11:45:01.133Z"
   },
   {
    "duration": 5,
    "start_time": "2022-08-08T11:47:19.215Z"
   },
   {
    "duration": 3,
    "start_time": "2022-08-08T11:48:39.168Z"
   },
   {
    "duration": 3,
    "start_time": "2022-08-08T11:49:06.733Z"
   },
   {
    "duration": 4,
    "start_time": "2022-08-08T11:57:11.849Z"
   },
   {
    "duration": 3,
    "start_time": "2022-08-08T11:57:43.776Z"
   },
   {
    "duration": 4,
    "start_time": "2022-08-08T11:58:06.718Z"
   },
   {
    "duration": 4,
    "start_time": "2022-08-08T16:39:28.415Z"
   },
   {
    "duration": 4,
    "start_time": "2022-08-08T16:39:34.722Z"
   },
   {
    "duration": 3,
    "start_time": "2022-08-08T16:39:37.200Z"
   },
   {
    "duration": 4,
    "start_time": "2022-08-08T16:39:40.100Z"
   },
   {
    "duration": 408,
    "start_time": "2022-08-08T16:39:45.616Z"
   },
   {
    "duration": 291,
    "start_time": "2022-08-08T16:39:46.026Z"
   },
   {
    "duration": 9,
    "start_time": "2022-08-08T16:39:46.319Z"
   },
   {
    "duration": 46,
    "start_time": "2022-08-08T16:39:46.330Z"
   },
   {
    "duration": 4,
    "start_time": "2022-08-08T16:39:46.378Z"
   },
   {
    "duration": 12,
    "start_time": "2022-08-08T16:39:46.384Z"
   },
   {
    "duration": 6,
    "start_time": "2022-08-08T16:39:46.397Z"
   },
   {
    "duration": 24,
    "start_time": "2022-08-08T16:39:46.405Z"
   },
   {
    "duration": 24,
    "start_time": "2022-08-08T16:39:46.431Z"
   },
   {
    "duration": 22,
    "start_time": "2022-08-08T16:39:46.457Z"
   },
   {
    "duration": 75,
    "start_time": "2022-08-08T16:39:46.481Z"
   },
   {
    "duration": 58,
    "start_time": "2022-08-08T16:39:46.558Z"
   },
   {
    "duration": 70,
    "start_time": "2022-08-08T16:39:46.617Z"
   },
   {
    "duration": 6,
    "start_time": "2022-08-08T16:39:46.689Z"
   },
   {
    "duration": 6,
    "start_time": "2022-08-08T16:39:46.696Z"
   },
   {
    "duration": 34,
    "start_time": "2022-08-08T16:39:46.704Z"
   },
   {
    "duration": 9,
    "start_time": "2022-08-08T16:39:46.740Z"
   },
   {
    "duration": 36,
    "start_time": "2022-08-08T16:39:46.750Z"
   },
   {
    "duration": 27,
    "start_time": "2022-08-08T16:39:46.787Z"
   },
   {
    "duration": 3,
    "start_time": "2022-08-08T16:39:46.816Z"
   },
   {
    "duration": 39,
    "start_time": "2022-08-08T16:39:46.820Z"
   },
   {
    "duration": 16,
    "start_time": "2022-08-08T16:39:46.861Z"
   },
   {
    "duration": 14,
    "start_time": "2022-08-08T16:39:46.878Z"
   },
   {
    "duration": 12,
    "start_time": "2022-08-08T16:39:46.893Z"
   },
   {
    "duration": 16,
    "start_time": "2022-08-08T16:39:46.906Z"
   },
   {
    "duration": 13,
    "start_time": "2022-08-08T16:39:46.938Z"
   },
   {
    "duration": 11,
    "start_time": "2022-08-08T16:39:46.952Z"
   },
   {
    "duration": 21,
    "start_time": "2022-08-08T16:39:46.964Z"
   },
   {
    "duration": 11,
    "start_time": "2022-08-08T16:39:46.986Z"
   },
   {
    "duration": 3,
    "start_time": "2022-08-08T16:39:46.999Z"
   },
   {
    "duration": 89,
    "start_time": "2022-08-08T16:39:47.004Z"
   },
   {
    "duration": 0,
    "start_time": "2022-08-08T16:39:47.094Z"
   },
   {
    "duration": 0,
    "start_time": "2022-08-08T16:39:47.095Z"
   },
   {
    "duration": 0,
    "start_time": "2022-08-08T16:39:47.096Z"
   },
   {
    "duration": 0,
    "start_time": "2022-08-08T16:39:47.097Z"
   },
   {
    "duration": 0,
    "start_time": "2022-08-08T16:39:47.098Z"
   },
   {
    "duration": 0,
    "start_time": "2022-08-08T16:39:47.099Z"
   },
   {
    "duration": 0,
    "start_time": "2022-08-08T16:39:47.100Z"
   },
   {
    "duration": 3,
    "start_time": "2022-08-08T21:58:13.081Z"
   },
   {
    "duration": 4,
    "start_time": "2022-08-08T22:01:53.043Z"
   },
   {
    "duration": 329,
    "start_time": "2022-08-08T22:01:57.896Z"
   },
   {
    "duration": 241,
    "start_time": "2022-08-08T22:01:58.227Z"
   },
   {
    "duration": 8,
    "start_time": "2022-08-08T22:01:58.470Z"
   },
   {
    "duration": 30,
    "start_time": "2022-08-08T22:01:58.480Z"
   },
   {
    "duration": 4,
    "start_time": "2022-08-08T22:01:58.511Z"
   },
   {
    "duration": 25,
    "start_time": "2022-08-08T22:01:58.516Z"
   },
   {
    "duration": 7,
    "start_time": "2022-08-08T22:01:58.542Z"
   },
   {
    "duration": 25,
    "start_time": "2022-08-08T22:01:58.550Z"
   },
   {
    "duration": 14,
    "start_time": "2022-08-08T22:01:58.577Z"
   },
   {
    "duration": 21,
    "start_time": "2022-08-08T22:01:58.593Z"
   },
   {
    "duration": 61,
    "start_time": "2022-08-08T22:01:58.616Z"
   },
   {
    "duration": 67,
    "start_time": "2022-08-08T22:01:58.678Z"
   },
   {
    "duration": 48,
    "start_time": "2022-08-08T22:01:58.747Z"
   },
   {
    "duration": 5,
    "start_time": "2022-08-08T22:01:58.796Z"
   },
   {
    "duration": 5,
    "start_time": "2022-08-08T22:01:58.803Z"
   },
   {
    "duration": 34,
    "start_time": "2022-08-08T22:01:58.809Z"
   },
   {
    "duration": 7,
    "start_time": "2022-08-08T22:01:58.845Z"
   },
   {
    "duration": 38,
    "start_time": "2022-08-08T22:01:58.854Z"
   },
   {
    "duration": 52,
    "start_time": "2022-08-08T22:01:58.894Z"
   },
   {
    "duration": 4,
    "start_time": "2022-08-08T22:01:58.948Z"
   },
   {
    "duration": 26,
    "start_time": "2022-08-08T22:01:58.954Z"
   },
   {
    "duration": 20,
    "start_time": "2022-08-08T22:01:58.981Z"
   },
   {
    "duration": 22,
    "start_time": "2022-08-08T22:01:59.003Z"
   },
   {
    "duration": 25,
    "start_time": "2022-08-08T22:01:59.026Z"
   },
   {
    "duration": 22,
    "start_time": "2022-08-08T22:01:59.053Z"
   },
   {
    "duration": 28,
    "start_time": "2022-08-08T22:01:59.077Z"
   },
   {
    "duration": 17,
    "start_time": "2022-08-08T22:01:59.106Z"
   },
   {
    "duration": 25,
    "start_time": "2022-08-08T22:01:59.125Z"
   },
   {
    "duration": 14,
    "start_time": "2022-08-08T22:01:59.151Z"
   },
   {
    "duration": 4,
    "start_time": "2022-08-08T22:01:59.166Z"
   },
   {
    "duration": 80,
    "start_time": "2022-08-08T22:01:59.172Z"
   },
   {
    "duration": 0,
    "start_time": "2022-08-08T22:01:59.254Z"
   },
   {
    "duration": 0,
    "start_time": "2022-08-08T22:01:59.256Z"
   },
   {
    "duration": 0,
    "start_time": "2022-08-08T22:01:59.257Z"
   },
   {
    "duration": 0,
    "start_time": "2022-08-08T22:01:59.258Z"
   },
   {
    "duration": 0,
    "start_time": "2022-08-08T22:01:59.259Z"
   },
   {
    "duration": 0,
    "start_time": "2022-08-08T22:01:59.261Z"
   },
   {
    "duration": 0,
    "start_time": "2022-08-08T22:01:59.262Z"
   },
   {
    "duration": 17,
    "start_time": "2022-08-08T22:18:15.320Z"
   },
   {
    "duration": 9,
    "start_time": "2022-08-08T23:55:13.777Z"
   },
   {
    "duration": 5,
    "start_time": "2022-08-08T23:55:31.696Z"
   },
   {
    "duration": 18,
    "start_time": "2022-08-08T23:55:39.758Z"
   },
   {
    "duration": 4,
    "start_time": "2022-08-09T00:21:50.551Z"
   },
   {
    "duration": 26,
    "start_time": "2022-08-09T00:21:58.367Z"
   },
   {
    "duration": 59,
    "start_time": "2022-08-09T00:24:26.269Z"
   },
   {
    "duration": 360,
    "start_time": "2022-08-09T07:53:41.936Z"
   },
   {
    "duration": 544,
    "start_time": "2022-08-09T07:53:42.297Z"
   },
   {
    "duration": 9,
    "start_time": "2022-08-09T07:53:42.843Z"
   },
   {
    "duration": 28,
    "start_time": "2022-08-09T07:53:42.854Z"
   },
   {
    "duration": 4,
    "start_time": "2022-08-09T07:53:42.883Z"
   },
   {
    "duration": 22,
    "start_time": "2022-08-09T07:53:42.888Z"
   },
   {
    "duration": 8,
    "start_time": "2022-08-09T07:53:42.912Z"
   },
   {
    "duration": 25,
    "start_time": "2022-08-09T07:53:42.921Z"
   },
   {
    "duration": 13,
    "start_time": "2022-08-09T07:53:42.948Z"
   },
   {
    "duration": 25,
    "start_time": "2022-08-09T07:53:42.963Z"
   },
   {
    "duration": 65,
    "start_time": "2022-08-09T07:53:42.989Z"
   },
   {
    "duration": 65,
    "start_time": "2022-08-09T07:53:43.055Z"
   },
   {
    "duration": 53,
    "start_time": "2022-08-09T07:53:43.121Z"
   },
   {
    "duration": 6,
    "start_time": "2022-08-09T07:53:43.176Z"
   },
   {
    "duration": 4,
    "start_time": "2022-08-09T07:53:43.183Z"
   },
   {
    "duration": 26,
    "start_time": "2022-08-09T07:53:43.206Z"
   },
   {
    "duration": 6,
    "start_time": "2022-08-09T07:53:43.233Z"
   },
   {
    "duration": 27,
    "start_time": "2022-08-09T07:53:43.240Z"
   },
   {
    "duration": 42,
    "start_time": "2022-08-09T07:53:43.269Z"
   },
   {
    "duration": 4,
    "start_time": "2022-08-09T07:53:43.312Z"
   },
   {
    "duration": 20,
    "start_time": "2022-08-09T07:53:43.317Z"
   },
   {
    "duration": 12,
    "start_time": "2022-08-09T07:53:43.338Z"
   },
   {
    "duration": 12,
    "start_time": "2022-08-09T07:53:43.351Z"
   },
   {
    "duration": 12,
    "start_time": "2022-08-09T07:53:43.364Z"
   },
   {
    "duration": 34,
    "start_time": "2022-08-09T07:53:43.378Z"
   },
   {
    "duration": 12,
    "start_time": "2022-08-09T07:53:43.414Z"
   },
   {
    "duration": 9,
    "start_time": "2022-08-09T07:53:43.427Z"
   },
   {
    "duration": 14,
    "start_time": "2022-08-09T07:53:43.439Z"
   },
   {
    "duration": 12,
    "start_time": "2022-08-09T07:53:43.455Z"
   },
   {
    "duration": 4,
    "start_time": "2022-08-09T07:53:43.468Z"
   },
   {
    "duration": 73,
    "start_time": "2022-08-09T07:53:43.473Z"
   },
   {
    "duration": 0,
    "start_time": "2022-08-09T07:53:43.547Z"
   },
   {
    "duration": 0,
    "start_time": "2022-08-09T07:53:43.548Z"
   },
   {
    "duration": 0,
    "start_time": "2022-08-09T07:53:43.549Z"
   },
   {
    "duration": 0,
    "start_time": "2022-08-09T07:53:43.550Z"
   },
   {
    "duration": 0,
    "start_time": "2022-08-09T07:53:43.551Z"
   },
   {
    "duration": 0,
    "start_time": "2022-08-09T07:53:43.552Z"
   },
   {
    "duration": 0,
    "start_time": "2022-08-09T07:53:43.553Z"
   },
   {
    "duration": 397,
    "start_time": "2022-08-09T07:53:59.532Z"
   },
   {
    "duration": 277,
    "start_time": "2022-08-09T07:53:59.931Z"
   },
   {
    "duration": 9,
    "start_time": "2022-08-09T07:54:00.210Z"
   },
   {
    "duration": 34,
    "start_time": "2022-08-09T07:54:00.221Z"
   },
   {
    "duration": 4,
    "start_time": "2022-08-09T07:54:00.257Z"
   },
   {
    "duration": 27,
    "start_time": "2022-08-09T07:54:00.262Z"
   },
   {
    "duration": 10,
    "start_time": "2022-08-09T07:54:00.291Z"
   },
   {
    "duration": 28,
    "start_time": "2022-08-09T07:54:00.302Z"
   },
   {
    "duration": 13,
    "start_time": "2022-08-09T07:54:00.331Z"
   },
   {
    "duration": 22,
    "start_time": "2022-08-09T07:54:00.346Z"
   },
   {
    "duration": 61,
    "start_time": "2022-08-09T07:54:00.370Z"
   },
   {
    "duration": 57,
    "start_time": "2022-08-09T07:54:00.433Z"
   },
   {
    "duration": 61,
    "start_time": "2022-08-09T07:54:00.492Z"
   },
   {
    "duration": 6,
    "start_time": "2022-08-09T07:54:00.555Z"
   },
   {
    "duration": 8,
    "start_time": "2022-08-09T07:54:00.562Z"
   },
   {
    "duration": 35,
    "start_time": "2022-08-09T07:54:00.571Z"
   },
   {
    "duration": 6,
    "start_time": "2022-08-09T07:54:00.608Z"
   },
   {
    "duration": 30,
    "start_time": "2022-08-09T07:54:00.615Z"
   },
   {
    "duration": 27,
    "start_time": "2022-08-09T07:54:00.647Z"
   },
   {
    "duration": 3,
    "start_time": "2022-08-09T07:54:00.676Z"
   },
   {
    "duration": 36,
    "start_time": "2022-08-09T07:54:00.681Z"
   },
   {
    "duration": 36,
    "start_time": "2022-08-09T07:54:00.719Z"
   },
   {
    "duration": 23,
    "start_time": "2022-08-09T07:54:00.757Z"
   },
   {
    "duration": 16,
    "start_time": "2022-08-09T07:54:00.781Z"
   },
   {
    "duration": 24,
    "start_time": "2022-08-09T07:54:00.798Z"
   },
   {
    "duration": 27,
    "start_time": "2022-08-09T07:54:00.823Z"
   },
   {
    "duration": 31,
    "start_time": "2022-08-09T07:54:00.852Z"
   },
   {
    "duration": 14,
    "start_time": "2022-08-09T07:54:00.885Z"
   },
   {
    "duration": 17,
    "start_time": "2022-08-09T07:54:00.900Z"
   },
   {
    "duration": 24,
    "start_time": "2022-08-09T07:54:00.919Z"
   },
   {
    "duration": 237,
    "start_time": "2022-08-09T07:54:00.945Z"
   },
   {
    "duration": 0,
    "start_time": "2022-08-09T07:54:01.183Z"
   },
   {
    "duration": 0,
    "start_time": "2022-08-09T07:54:01.184Z"
   },
   {
    "duration": 0,
    "start_time": "2022-08-09T07:54:01.185Z"
   },
   {
    "duration": 0,
    "start_time": "2022-08-09T07:54:01.186Z"
   },
   {
    "duration": 0,
    "start_time": "2022-08-09T07:54:01.187Z"
   },
   {
    "duration": 0,
    "start_time": "2022-08-09T07:54:01.188Z"
   },
   {
    "duration": 0,
    "start_time": "2022-08-09T07:54:01.189Z"
   },
   {
    "duration": 81,
    "start_time": "2022-08-09T07:56:23.179Z"
   },
   {
    "duration": 3,
    "start_time": "2022-08-09T08:00:05.592Z"
   },
   {
    "duration": 25,
    "start_time": "2022-08-09T08:00:12.574Z"
   },
   {
    "duration": 100,
    "start_time": "2022-08-09T08:13:54.571Z"
   },
   {
    "duration": 420,
    "start_time": "2022-08-09T08:14:00.385Z"
   },
   {
    "duration": 253,
    "start_time": "2022-08-09T08:14:00.808Z"
   },
   {
    "duration": 9,
    "start_time": "2022-08-09T08:14:01.063Z"
   },
   {
    "duration": 37,
    "start_time": "2022-08-09T08:14:01.073Z"
   },
   {
    "duration": 8,
    "start_time": "2022-08-09T08:14:01.111Z"
   },
   {
    "duration": 28,
    "start_time": "2022-08-09T08:14:01.120Z"
   },
   {
    "duration": 9,
    "start_time": "2022-08-09T08:14:01.150Z"
   },
   {
    "duration": 27,
    "start_time": "2022-08-09T08:14:01.160Z"
   },
   {
    "duration": 18,
    "start_time": "2022-08-09T08:14:01.188Z"
   },
   {
    "duration": 45,
    "start_time": "2022-08-09T08:14:01.208Z"
   },
   {
    "duration": 68,
    "start_time": "2022-08-09T08:14:01.255Z"
   },
   {
    "duration": 59,
    "start_time": "2022-08-09T08:14:01.324Z"
   },
   {
    "duration": 62,
    "start_time": "2022-08-09T08:14:01.385Z"
   },
   {
    "duration": 5,
    "start_time": "2022-08-09T08:14:01.449Z"
   },
   {
    "duration": 4,
    "start_time": "2022-08-09T08:14:01.456Z"
   },
   {
    "duration": 26,
    "start_time": "2022-08-09T08:14:01.461Z"
   },
   {
    "duration": 17,
    "start_time": "2022-08-09T08:14:01.489Z"
   },
   {
    "duration": 27,
    "start_time": "2022-08-09T08:14:01.508Z"
   },
   {
    "duration": 30,
    "start_time": "2022-08-09T08:14:01.536Z"
   },
   {
    "duration": 3,
    "start_time": "2022-08-09T08:14:01.567Z"
   },
   {
    "duration": 39,
    "start_time": "2022-08-09T08:14:01.572Z"
   },
   {
    "duration": 11,
    "start_time": "2022-08-09T08:14:01.613Z"
   },
   {
    "duration": 12,
    "start_time": "2022-08-09T08:14:01.625Z"
   },
   {
    "duration": 21,
    "start_time": "2022-08-09T08:14:01.639Z"
   },
   {
    "duration": 30,
    "start_time": "2022-08-09T08:14:01.662Z"
   },
   {
    "duration": 45,
    "start_time": "2022-08-09T08:14:01.694Z"
   },
   {
    "duration": 78,
    "start_time": "2022-08-09T08:14:01.740Z"
   },
   {
    "duration": 18,
    "start_time": "2022-08-09T08:14:01.822Z"
   },
   {
    "duration": 14,
    "start_time": "2022-08-09T08:14:01.842Z"
   },
   {
    "duration": 76,
    "start_time": "2022-08-09T08:14:01.858Z"
   },
   {
    "duration": 0,
    "start_time": "2022-08-09T08:14:01.936Z"
   },
   {
    "duration": 0,
    "start_time": "2022-08-09T08:14:01.937Z"
   },
   {
    "duration": 0,
    "start_time": "2022-08-09T08:14:01.938Z"
   },
   {
    "duration": 0,
    "start_time": "2022-08-09T08:14:01.939Z"
   },
   {
    "duration": 0,
    "start_time": "2022-08-09T08:14:01.940Z"
   },
   {
    "duration": 0,
    "start_time": "2022-08-09T08:14:01.940Z"
   },
   {
    "duration": 0,
    "start_time": "2022-08-09T08:14:01.941Z"
   },
   {
    "duration": 0,
    "start_time": "2022-08-09T08:14:01.942Z"
   },
   {
    "duration": 5,
    "start_time": "2022-08-09T08:14:08.677Z"
   },
   {
    "duration": 73,
    "start_time": "2022-08-09T08:14:12.532Z"
   },
   {
    "duration": 5,
    "start_time": "2022-08-09T08:14:29.792Z"
   },
   {
    "duration": 25,
    "start_time": "2022-08-09T08:14:31.436Z"
   },
   {
    "duration": 4,
    "start_time": "2022-08-09T08:14:37.405Z"
   },
   {
    "duration": 23,
    "start_time": "2022-08-09T08:14:39.004Z"
   },
   {
    "duration": 4,
    "start_time": "2022-08-09T08:15:11.622Z"
   },
   {
    "duration": 23,
    "start_time": "2022-08-09T08:15:12.760Z"
   },
   {
    "duration": 86,
    "start_time": "2022-08-09T08:21:09.557Z"
   },
   {
    "duration": 3,
    "start_time": "2022-08-09T08:24:10.842Z"
   },
   {
    "duration": 41,
    "start_time": "2022-08-09T08:24:13.443Z"
   },
   {
    "duration": 4,
    "start_time": "2022-08-09T08:26:15.673Z"
   },
   {
    "duration": 41,
    "start_time": "2022-08-09T08:26:17.835Z"
   },
   {
    "duration": 361,
    "start_time": "2022-08-09T08:35:37.445Z"
   },
   {
    "duration": 262,
    "start_time": "2022-08-09T08:35:37.808Z"
   },
   {
    "duration": 10,
    "start_time": "2022-08-09T08:35:38.071Z"
   },
   {
    "duration": 36,
    "start_time": "2022-08-09T08:35:38.083Z"
   },
   {
    "duration": 4,
    "start_time": "2022-08-09T08:35:38.121Z"
   },
   {
    "duration": 11,
    "start_time": "2022-08-09T08:35:38.127Z"
   },
   {
    "duration": 8,
    "start_time": "2022-08-09T08:35:38.140Z"
   },
   {
    "duration": 21,
    "start_time": "2022-08-09T08:35:38.149Z"
   },
   {
    "duration": 36,
    "start_time": "2022-08-09T08:35:38.171Z"
   },
   {
    "duration": 21,
    "start_time": "2022-08-09T08:35:38.209Z"
   },
   {
    "duration": 55,
    "start_time": "2022-08-09T08:35:38.231Z"
   },
   {
    "duration": 83,
    "start_time": "2022-08-09T08:35:38.288Z"
   },
   {
    "duration": 58,
    "start_time": "2022-08-09T08:35:38.372Z"
   },
   {
    "duration": 6,
    "start_time": "2022-08-09T08:35:38.432Z"
   },
   {
    "duration": 6,
    "start_time": "2022-08-09T08:35:38.439Z"
   },
   {
    "duration": 24,
    "start_time": "2022-08-09T08:35:38.447Z"
   },
   {
    "duration": 6,
    "start_time": "2022-08-09T08:35:38.473Z"
   },
   {
    "duration": 44,
    "start_time": "2022-08-09T08:35:38.481Z"
   },
   {
    "duration": 25,
    "start_time": "2022-08-09T08:35:38.527Z"
   },
   {
    "duration": 4,
    "start_time": "2022-08-09T08:35:38.554Z"
   },
   {
    "duration": 15,
    "start_time": "2022-08-09T08:35:38.559Z"
   },
   {
    "duration": 31,
    "start_time": "2022-08-09T08:35:38.575Z"
   },
   {
    "duration": 12,
    "start_time": "2022-08-09T08:35:38.607Z"
   },
   {
    "duration": 11,
    "start_time": "2022-08-09T08:35:38.621Z"
   },
   {
    "duration": 13,
    "start_time": "2022-08-09T08:35:38.634Z"
   },
   {
    "duration": 11,
    "start_time": "2022-08-09T08:35:38.649Z"
   },
   {
    "duration": 9,
    "start_time": "2022-08-09T08:35:38.661Z"
   },
   {
    "duration": 10,
    "start_time": "2022-08-09T08:35:38.706Z"
   },
   {
    "duration": 9,
    "start_time": "2022-08-09T08:35:38.718Z"
   },
   {
    "duration": 5,
    "start_time": "2022-08-09T08:35:38.729Z"
   },
   {
    "duration": 85,
    "start_time": "2022-08-09T08:35:38.736Z"
   },
   {
    "duration": 0,
    "start_time": "2022-08-09T08:35:38.822Z"
   },
   {
    "duration": 0,
    "start_time": "2022-08-09T08:35:38.824Z"
   },
   {
    "duration": 0,
    "start_time": "2022-08-09T08:35:38.824Z"
   },
   {
    "duration": 0,
    "start_time": "2022-08-09T08:35:38.826Z"
   },
   {
    "duration": 0,
    "start_time": "2022-08-09T08:35:38.826Z"
   },
   {
    "duration": 0,
    "start_time": "2022-08-09T08:35:38.827Z"
   },
   {
    "duration": 4,
    "start_time": "2022-08-09T08:46:10.727Z"
   },
   {
    "duration": 39,
    "start_time": "2022-08-09T08:46:13.060Z"
   },
   {
    "duration": 18,
    "start_time": "2022-08-09T08:46:28.566Z"
   },
   {
    "duration": 20,
    "start_time": "2022-08-09T08:47:20.144Z"
   },
   {
    "duration": 7,
    "start_time": "2022-08-09T08:47:21.684Z"
   },
   {
    "duration": 8,
    "start_time": "2022-08-09T08:47:30.479Z"
   },
   {
    "duration": 7,
    "start_time": "2022-08-09T08:47:33.727Z"
   },
   {
    "duration": 11,
    "start_time": "2022-08-09T08:47:34.948Z"
   },
   {
    "duration": 19,
    "start_time": "2022-08-09T08:47:40.729Z"
   },
   {
    "duration": 10,
    "start_time": "2022-08-09T08:47:43.825Z"
   },
   {
    "duration": 4,
    "start_time": "2022-08-09T08:51:24.840Z"
   },
   {
    "duration": 4,
    "start_time": "2022-08-09T08:52:05.528Z"
   },
   {
    "duration": 22,
    "start_time": "2022-08-09T08:52:07.171Z"
   },
   {
    "duration": 18,
    "start_time": "2022-08-09T08:52:12.690Z"
   },
   {
    "duration": 5,
    "start_time": "2022-08-09T08:57:22.847Z"
   },
   {
    "duration": 20,
    "start_time": "2022-08-09T08:57:24.500Z"
   },
   {
    "duration": 12,
    "start_time": "2022-08-09T08:57:37.134Z"
   },
   {
    "duration": 21,
    "start_time": "2022-08-09T08:57:54.225Z"
   },
   {
    "duration": 13,
    "start_time": "2022-08-09T08:57:54.964Z"
   },
   {
    "duration": 6,
    "start_time": "2022-08-09T08:58:10.161Z"
   },
   {
    "duration": 31,
    "start_time": "2022-08-09T08:58:11.028Z"
   },
   {
    "duration": 38,
    "start_time": "2022-08-09T08:58:15.993Z"
   },
   {
    "duration": 4,
    "start_time": "2022-08-09T09:08:33.460Z"
   },
   {
    "duration": 23,
    "start_time": "2022-08-09T09:08:37.786Z"
   },
   {
    "duration": 22,
    "start_time": "2022-08-09T09:08:45.620Z"
   },
   {
    "duration": 4,
    "start_time": "2022-08-09T09:08:57.362Z"
   },
   {
    "duration": 23,
    "start_time": "2022-08-09T09:08:59.665Z"
   },
   {
    "duration": 4,
    "start_time": "2022-08-09T09:10:28.021Z"
   },
   {
    "duration": 389,
    "start_time": "2022-08-09T09:10:53.777Z"
   },
   {
    "duration": 246,
    "start_time": "2022-08-09T09:10:54.168Z"
   },
   {
    "duration": 9,
    "start_time": "2022-08-09T09:10:54.416Z"
   },
   {
    "duration": 41,
    "start_time": "2022-08-09T09:10:54.427Z"
   },
   {
    "duration": 14,
    "start_time": "2022-08-09T09:10:54.469Z"
   },
   {
    "duration": 31,
    "start_time": "2022-08-09T09:10:54.485Z"
   },
   {
    "duration": 25,
    "start_time": "2022-08-09T09:10:54.517Z"
   },
   {
    "duration": 35,
    "start_time": "2022-08-09T09:10:54.544Z"
   },
   {
    "duration": 31,
    "start_time": "2022-08-09T09:10:54.581Z"
   },
   {
    "duration": 35,
    "start_time": "2022-08-09T09:10:54.615Z"
   },
   {
    "duration": 65,
    "start_time": "2022-08-09T09:10:54.652Z"
   },
   {
    "duration": 63,
    "start_time": "2022-08-09T09:10:54.719Z"
   },
   {
    "duration": 65,
    "start_time": "2022-08-09T09:10:54.783Z"
   },
   {
    "duration": 6,
    "start_time": "2022-08-09T09:10:54.849Z"
   },
   {
    "duration": 8,
    "start_time": "2022-08-09T09:10:54.857Z"
   },
   {
    "duration": 42,
    "start_time": "2022-08-09T09:10:54.866Z"
   },
   {
    "duration": 6,
    "start_time": "2022-08-09T09:10:54.910Z"
   },
   {
    "duration": 39,
    "start_time": "2022-08-09T09:10:54.917Z"
   },
   {
    "duration": 31,
    "start_time": "2022-08-09T09:10:54.958Z"
   },
   {
    "duration": 15,
    "start_time": "2022-08-09T09:10:54.991Z"
   },
   {
    "duration": 22,
    "start_time": "2022-08-09T09:10:55.008Z"
   },
   {
    "duration": 24,
    "start_time": "2022-08-09T09:10:55.032Z"
   },
   {
    "duration": 26,
    "start_time": "2022-08-09T09:10:55.058Z"
   },
   {
    "duration": 32,
    "start_time": "2022-08-09T09:10:55.085Z"
   },
   {
    "duration": 25,
    "start_time": "2022-08-09T09:10:55.119Z"
   },
   {
    "duration": 32,
    "start_time": "2022-08-09T09:10:55.147Z"
   },
   {
    "duration": 21,
    "start_time": "2022-08-09T09:10:55.182Z"
   },
   {
    "duration": 43,
    "start_time": "2022-08-09T09:10:55.208Z"
   },
   {
    "duration": 20,
    "start_time": "2022-08-09T09:10:55.253Z"
   },
   {
    "duration": 13,
    "start_time": "2022-08-09T09:10:55.276Z"
   },
   {
    "duration": 118,
    "start_time": "2022-08-09T09:10:55.291Z"
   },
   {
    "duration": 0,
    "start_time": "2022-08-09T09:10:55.410Z"
   },
   {
    "duration": 0,
    "start_time": "2022-08-09T09:10:55.412Z"
   },
   {
    "duration": 0,
    "start_time": "2022-08-09T09:10:55.413Z"
   },
   {
    "duration": 0,
    "start_time": "2022-08-09T09:10:55.414Z"
   },
   {
    "duration": 0,
    "start_time": "2022-08-09T09:10:55.415Z"
   },
   {
    "duration": 0,
    "start_time": "2022-08-09T09:10:55.416Z"
   },
   {
    "duration": 0,
    "start_time": "2022-08-09T09:10:55.417Z"
   },
   {
    "duration": 4,
    "start_time": "2022-08-09T09:11:20.219Z"
   },
   {
    "duration": 30,
    "start_time": "2022-08-09T09:11:30.276Z"
   },
   {
    "duration": 4,
    "start_time": "2022-08-09T09:12:53.978Z"
   },
   {
    "duration": 26,
    "start_time": "2022-08-09T09:12:55.928Z"
   },
   {
    "duration": 13,
    "start_time": "2022-08-09T09:13:32.018Z"
   },
   {
    "duration": 4,
    "start_time": "2022-08-09T09:18:36.793Z"
   },
   {
    "duration": 25,
    "start_time": "2022-08-09T09:18:37.909Z"
   },
   {
    "duration": 7,
    "start_time": "2022-08-09T09:26:13.807Z"
   },
   {
    "duration": 23,
    "start_time": "2022-08-09T09:26:16.612Z"
   },
   {
    "duration": 12,
    "start_time": "2022-08-09T09:30:40.101Z"
   },
   {
    "duration": 14,
    "start_time": "2022-08-09T09:30:40.909Z"
   },
   {
    "duration": 12,
    "start_time": "2022-08-09T09:30:41.804Z"
   },
   {
    "duration": 21,
    "start_time": "2022-08-09T09:30:45.053Z"
   },
   {
    "duration": 8,
    "start_time": "2022-08-09T09:30:47.571Z"
   },
   {
    "duration": 13,
    "start_time": "2022-08-09T09:30:48.748Z"
   },
   {
    "duration": 7,
    "start_time": "2022-08-09T09:30:50.153Z"
   },
   {
    "duration": 19,
    "start_time": "2022-08-09T09:31:07.152Z"
   },
   {
    "duration": 8,
    "start_time": "2022-08-09T09:31:08.448Z"
   },
   {
    "duration": 19,
    "start_time": "2022-08-09T09:31:15.212Z"
   },
   {
    "duration": 8,
    "start_time": "2022-08-09T09:31:16.315Z"
   },
   {
    "duration": 19,
    "start_time": "2022-08-09T09:31:21.068Z"
   },
   {
    "duration": 7,
    "start_time": "2022-08-09T09:31:22.405Z"
   },
   {
    "duration": 12,
    "start_time": "2022-08-09T09:31:27.782Z"
   },
   {
    "duration": 8,
    "start_time": "2022-08-09T09:31:28.820Z"
   },
   {
    "duration": 21,
    "start_time": "2022-08-09T09:31:43.079Z"
   },
   {
    "duration": 8,
    "start_time": "2022-08-09T09:31:43.824Z"
   },
   {
    "duration": 20,
    "start_time": "2022-08-09T09:31:51.921Z"
   },
   {
    "duration": 8,
    "start_time": "2022-08-09T09:31:52.705Z"
   },
   {
    "duration": 18,
    "start_time": "2022-08-09T09:31:56.220Z"
   },
   {
    "duration": 8,
    "start_time": "2022-08-09T09:31:58.188Z"
   },
   {
    "duration": 33,
    "start_time": "2022-08-09T09:32:56.207Z"
   },
   {
    "duration": 20,
    "start_time": "2022-08-09T09:33:17.611Z"
   },
   {
    "duration": 8,
    "start_time": "2022-08-09T09:33:18.733Z"
   },
   {
    "duration": 14,
    "start_time": "2022-08-09T09:41:54.849Z"
   },
   {
    "duration": 9,
    "start_time": "2022-08-09T09:41:57.881Z"
   },
   {
    "duration": 14,
    "start_time": "2022-08-09T10:29:38.213Z"
   },
   {
    "duration": 7,
    "start_time": "2022-08-09T10:29:39.376Z"
   },
   {
    "duration": 19,
    "start_time": "2022-08-09T10:30:00.558Z"
   },
   {
    "duration": 7,
    "start_time": "2022-08-09T10:30:02.134Z"
   },
   {
    "duration": 19,
    "start_time": "2022-08-09T10:31:03.513Z"
   },
   {
    "duration": 10,
    "start_time": "2022-08-09T10:31:11.677Z"
   },
   {
    "duration": 5,
    "start_time": "2022-08-09T10:31:27.701Z"
   },
   {
    "duration": 4,
    "start_time": "2022-08-09T10:31:34.909Z"
   },
   {
    "duration": 4,
    "start_time": "2022-08-09T10:31:43.023Z"
   },
   {
    "duration": 23,
    "start_time": "2022-08-09T10:31:46.664Z"
   },
   {
    "duration": 7,
    "start_time": "2022-08-09T10:32:21.687Z"
   },
   {
    "duration": 10,
    "start_time": "2022-08-09T10:32:28.525Z"
   },
   {
    "duration": 11,
    "start_time": "2022-08-09T10:33:10.402Z"
   },
   {
    "duration": 6,
    "start_time": "2022-08-09T10:33:30.129Z"
   },
   {
    "duration": 4,
    "start_time": "2022-08-09T10:33:31.586Z"
   },
   {
    "duration": 5,
    "start_time": "2022-08-09T10:33:39.324Z"
   },
   {
    "duration": 383,
    "start_time": "2022-08-09T10:34:57.468Z"
   },
   {
    "duration": 266,
    "start_time": "2022-08-09T10:34:57.852Z"
   },
   {
    "duration": 10,
    "start_time": "2022-08-09T10:34:58.120Z"
   },
   {
    "duration": 27,
    "start_time": "2022-08-09T10:34:58.132Z"
   },
   {
    "duration": 3,
    "start_time": "2022-08-09T10:34:58.161Z"
   },
   {
    "duration": 12,
    "start_time": "2022-08-09T10:34:58.166Z"
   },
   {
    "duration": 28,
    "start_time": "2022-08-09T10:34:58.179Z"
   },
   {
    "duration": 21,
    "start_time": "2022-08-09T10:34:58.208Z"
   },
   {
    "duration": 13,
    "start_time": "2022-08-09T10:34:58.230Z"
   },
   {
    "duration": 22,
    "start_time": "2022-08-09T10:34:58.246Z"
   },
   {
    "duration": 84,
    "start_time": "2022-08-09T10:34:58.270Z"
   },
   {
    "duration": 72,
    "start_time": "2022-08-09T10:34:58.356Z"
   },
   {
    "duration": 57,
    "start_time": "2022-08-09T10:34:58.430Z"
   },
   {
    "duration": 17,
    "start_time": "2022-08-09T10:34:58.489Z"
   },
   {
    "duration": 3,
    "start_time": "2022-08-09T10:34:58.508Z"
   },
   {
    "duration": 22,
    "start_time": "2022-08-09T10:34:58.513Z"
   },
   {
    "duration": 6,
    "start_time": "2022-08-09T10:34:58.537Z"
   },
   {
    "duration": 29,
    "start_time": "2022-08-09T10:34:58.545Z"
   },
   {
    "duration": 56,
    "start_time": "2022-08-09T10:34:58.576Z"
   },
   {
    "duration": 3,
    "start_time": "2022-08-09T10:34:58.634Z"
   },
   {
    "duration": 17,
    "start_time": "2022-08-09T10:34:58.639Z"
   },
   {
    "duration": 11,
    "start_time": "2022-08-09T10:34:58.658Z"
   },
   {
    "duration": 13,
    "start_time": "2022-08-09T10:34:58.671Z"
   },
   {
    "duration": 30,
    "start_time": "2022-08-09T10:34:58.686Z"
   },
   {
    "duration": 15,
    "start_time": "2022-08-09T10:34:58.718Z"
   },
   {
    "duration": 12,
    "start_time": "2022-08-09T10:34:58.734Z"
   },
   {
    "duration": 11,
    "start_time": "2022-08-09T10:34:58.748Z"
   },
   {
    "duration": 18,
    "start_time": "2022-08-09T10:34:58.762Z"
   },
   {
    "duration": 18,
    "start_time": "2022-08-09T10:34:58.782Z"
   },
   {
    "duration": 8,
    "start_time": "2022-08-09T10:34:58.802Z"
   },
   {
    "duration": 24,
    "start_time": "2022-08-09T10:34:58.811Z"
   },
   {
    "duration": 11,
    "start_time": "2022-08-09T10:34:58.836Z"
   },
   {
    "duration": 13,
    "start_time": "2022-08-09T10:34:58.848Z"
   },
   {
    "duration": 12,
    "start_time": "2022-08-09T10:34:58.863Z"
   },
   {
    "duration": 7,
    "start_time": "2022-08-09T10:34:58.876Z"
   },
   {
    "duration": 21,
    "start_time": "2022-08-09T10:34:58.885Z"
   },
   {
    "duration": 5,
    "start_time": "2022-08-09T10:34:58.907Z"
   },
   {
    "duration": 7,
    "start_time": "2022-08-09T10:34:58.913Z"
   },
   {
    "duration": 425,
    "start_time": "2022-08-10T09:16:03.365Z"
   },
   {
    "duration": 390,
    "start_time": "2022-08-10T09:16:03.792Z"
   },
   {
    "duration": 11,
    "start_time": "2022-08-10T09:16:04.184Z"
   },
   {
    "duration": 34,
    "start_time": "2022-08-10T09:16:04.197Z"
   },
   {
    "duration": 4,
    "start_time": "2022-08-10T09:16:04.233Z"
   },
   {
    "duration": 16,
    "start_time": "2022-08-10T09:16:04.238Z"
   },
   {
    "duration": 11,
    "start_time": "2022-08-10T09:16:04.255Z"
   },
   {
    "duration": 39,
    "start_time": "2022-08-10T09:16:04.268Z"
   },
   {
    "duration": 13,
    "start_time": "2022-08-10T09:16:04.310Z"
   },
   {
    "duration": 28,
    "start_time": "2022-08-10T09:16:04.326Z"
   },
   {
    "duration": 80,
    "start_time": "2022-08-10T09:16:04.356Z"
   },
   {
    "duration": 77,
    "start_time": "2022-08-10T09:16:04.438Z"
   },
   {
    "duration": 52,
    "start_time": "2022-08-10T09:16:04.517Z"
   },
   {
    "duration": 17,
    "start_time": "2022-08-10T09:16:04.570Z"
   },
   {
    "duration": 6,
    "start_time": "2022-08-10T09:16:04.589Z"
   },
   {
    "duration": 25,
    "start_time": "2022-08-10T09:16:04.597Z"
   },
   {
    "duration": 6,
    "start_time": "2022-08-10T09:16:04.624Z"
   },
   {
    "duration": 48,
    "start_time": "2022-08-10T09:16:04.632Z"
   },
   {
    "duration": 32,
    "start_time": "2022-08-10T09:16:04.682Z"
   },
   {
    "duration": 3,
    "start_time": "2022-08-10T09:16:04.715Z"
   },
   {
    "duration": 20,
    "start_time": "2022-08-10T09:16:04.720Z"
   },
   {
    "duration": 13,
    "start_time": "2022-08-10T09:16:04.742Z"
   },
   {
    "duration": 31,
    "start_time": "2022-08-10T09:16:04.756Z"
   },
   {
    "duration": 12,
    "start_time": "2022-08-10T09:16:04.789Z"
   },
   {
    "duration": 14,
    "start_time": "2022-08-10T09:16:04.803Z"
   },
   {
    "duration": 11,
    "start_time": "2022-08-10T09:16:04.819Z"
   },
   {
    "duration": 8,
    "start_time": "2022-08-10T09:16:04.832Z"
   },
   {
    "duration": 14,
    "start_time": "2022-08-10T09:16:04.842Z"
   },
   {
    "duration": 30,
    "start_time": "2022-08-10T09:16:04.857Z"
   },
   {
    "duration": 3,
    "start_time": "2022-08-10T09:16:04.889Z"
   },
   {
    "duration": 23,
    "start_time": "2022-08-10T09:16:04.894Z"
   },
   {
    "duration": 11,
    "start_time": "2022-08-10T09:16:04.919Z"
   },
   {
    "duration": 15,
    "start_time": "2022-08-10T09:16:04.931Z"
   },
   {
    "duration": 11,
    "start_time": "2022-08-10T09:16:04.947Z"
   },
   {
    "duration": 33,
    "start_time": "2022-08-10T09:16:04.959Z"
   },
   {
    "duration": 4,
    "start_time": "2022-08-10T09:16:04.993Z"
   },
   {
    "duration": 16,
    "start_time": "2022-08-10T09:16:04.999Z"
   },
   {
    "duration": 13,
    "start_time": "2022-08-10T09:16:05.017Z"
   },
   {
    "duration": 47,
    "start_time": "2022-08-10T18:06:10.695Z"
   },
   {
    "duration": 7,
    "start_time": "2022-08-10T18:06:11.325Z"
   },
   {
    "duration": 6,
    "start_time": "2022-08-10T18:10:25.202Z"
   },
   {
    "duration": 423,
    "start_time": "2022-08-10T18:10:30.288Z"
   },
   {
    "duration": 363,
    "start_time": "2022-08-10T18:10:30.713Z"
   },
   {
    "duration": 9,
    "start_time": "2022-08-10T18:10:31.078Z"
   },
   {
    "duration": 39,
    "start_time": "2022-08-10T18:10:31.089Z"
   },
   {
    "duration": 6,
    "start_time": "2022-08-10T18:10:31.130Z"
   },
   {
    "duration": 37,
    "start_time": "2022-08-10T18:10:31.137Z"
   },
   {
    "duration": 8,
    "start_time": "2022-08-10T18:10:31.175Z"
   },
   {
    "duration": 40,
    "start_time": "2022-08-10T18:10:31.185Z"
   },
   {
    "duration": 28,
    "start_time": "2022-08-10T18:10:31.226Z"
   },
   {
    "duration": 33,
    "start_time": "2022-08-10T18:10:31.257Z"
   },
   {
    "duration": 68,
    "start_time": "2022-08-10T18:10:31.291Z"
   },
   {
    "duration": 152,
    "start_time": "2022-08-10T18:10:31.361Z"
   },
   {
    "duration": 0,
    "start_time": "2022-08-10T18:10:31.515Z"
   },
   {
    "duration": 0,
    "start_time": "2022-08-10T18:10:31.517Z"
   },
   {
    "duration": 0,
    "start_time": "2022-08-10T18:10:31.518Z"
   },
   {
    "duration": 0,
    "start_time": "2022-08-10T18:10:31.519Z"
   },
   {
    "duration": 0,
    "start_time": "2022-08-10T18:10:31.521Z"
   },
   {
    "duration": 0,
    "start_time": "2022-08-10T18:10:31.521Z"
   },
   {
    "duration": 0,
    "start_time": "2022-08-10T18:10:31.523Z"
   },
   {
    "duration": 0,
    "start_time": "2022-08-10T18:10:31.523Z"
   },
   {
    "duration": 0,
    "start_time": "2022-08-10T18:10:31.524Z"
   },
   {
    "duration": 0,
    "start_time": "2022-08-10T18:10:31.525Z"
   },
   {
    "duration": 0,
    "start_time": "2022-08-10T18:10:31.527Z"
   },
   {
    "duration": 0,
    "start_time": "2022-08-10T18:10:31.528Z"
   },
   {
    "duration": 0,
    "start_time": "2022-08-10T18:10:31.529Z"
   },
   {
    "duration": 0,
    "start_time": "2022-08-10T18:10:31.530Z"
   },
   {
    "duration": 0,
    "start_time": "2022-08-10T18:10:31.531Z"
   },
   {
    "duration": 0,
    "start_time": "2022-08-10T18:10:31.532Z"
   },
   {
    "duration": 0,
    "start_time": "2022-08-10T18:10:31.533Z"
   },
   {
    "duration": 0,
    "start_time": "2022-08-10T18:10:31.534Z"
   },
   {
    "duration": 0,
    "start_time": "2022-08-10T18:10:31.535Z"
   },
   {
    "duration": 0,
    "start_time": "2022-08-10T18:10:31.536Z"
   },
   {
    "duration": 0,
    "start_time": "2022-08-10T18:10:31.537Z"
   },
   {
    "duration": 0,
    "start_time": "2022-08-10T18:10:31.538Z"
   },
   {
    "duration": 0,
    "start_time": "2022-08-10T18:10:31.539Z"
   },
   {
    "duration": 0,
    "start_time": "2022-08-10T18:10:31.540Z"
   },
   {
    "duration": 0,
    "start_time": "2022-08-10T18:10:31.543Z"
   },
   {
    "duration": 0,
    "start_time": "2022-08-10T18:10:31.544Z"
   },
   {
    "duration": 58,
    "start_time": "2022-08-10T18:16:15.422Z"
   },
   {
    "duration": 60,
    "start_time": "2022-08-10T18:16:25.080Z"
   },
   {
    "duration": 61,
    "start_time": "2022-08-10T18:18:27.432Z"
   },
   {
    "duration": 54,
    "start_time": "2022-08-10T18:19:42.420Z"
   },
   {
    "duration": 68,
    "start_time": "2022-08-10T18:20:31.111Z"
   },
   {
    "duration": 7,
    "start_time": "2022-08-10T18:20:55.141Z"
   },
   {
    "duration": 69,
    "start_time": "2022-08-10T18:21:09.669Z"
   },
   {
    "duration": 70,
    "start_time": "2022-08-10T18:21:15.889Z"
   },
   {
    "duration": 8,
    "start_time": "2022-08-10T18:27:18.335Z"
   },
   {
    "duration": 93,
    "start_time": "2022-08-10T18:28:01.452Z"
   },
   {
    "duration": 63,
    "start_time": "2022-08-10T18:28:07.348Z"
   },
   {
    "duration": 66,
    "start_time": "2022-08-10T18:28:14.210Z"
   },
   {
    "duration": 652,
    "start_time": "2022-08-10T19:17:34.884Z"
   },
   {
    "duration": 14,
    "start_time": "2022-08-10T19:44:46.299Z"
   },
   {
    "duration": 345,
    "start_time": "2022-08-10T19:44:57.359Z"
   },
   {
    "duration": 276,
    "start_time": "2022-08-10T19:44:57.706Z"
   },
   {
    "duration": 10,
    "start_time": "2022-08-10T19:44:57.984Z"
   },
   {
    "duration": 41,
    "start_time": "2022-08-10T19:44:57.996Z"
   },
   {
    "duration": 8,
    "start_time": "2022-08-10T19:44:58.039Z"
   },
   {
    "duration": 21,
    "start_time": "2022-08-10T19:44:58.048Z"
   },
   {
    "duration": 6,
    "start_time": "2022-08-10T19:44:58.071Z"
   },
   {
    "duration": 41,
    "start_time": "2022-08-10T19:44:58.078Z"
   },
   {
    "duration": 27,
    "start_time": "2022-08-10T19:44:58.120Z"
   },
   {
    "duration": 32,
    "start_time": "2022-08-10T19:44:58.149Z"
   },
   {
    "duration": 68,
    "start_time": "2022-08-10T19:44:58.183Z"
   },
   {
    "duration": 88,
    "start_time": "2022-08-10T19:44:58.252Z"
   },
   {
    "duration": 62,
    "start_time": "2022-08-10T19:44:58.342Z"
   },
   {
    "duration": 6,
    "start_time": "2022-08-10T19:44:58.406Z"
   },
   {
    "duration": 30,
    "start_time": "2022-08-10T19:44:58.413Z"
   },
   {
    "duration": 38,
    "start_time": "2022-08-10T19:44:58.445Z"
   },
   {
    "duration": 8,
    "start_time": "2022-08-10T19:44:58.485Z"
   },
   {
    "duration": 35,
    "start_time": "2022-08-10T19:44:58.495Z"
   },
   {
    "duration": 29,
    "start_time": "2022-08-10T19:44:58.532Z"
   },
   {
    "duration": 3,
    "start_time": "2022-08-10T19:44:58.562Z"
   },
   {
    "duration": 20,
    "start_time": "2022-08-10T19:44:58.567Z"
   },
   {
    "duration": 13,
    "start_time": "2022-08-10T19:44:58.599Z"
   },
   {
    "duration": 47,
    "start_time": "2022-08-10T19:44:58.614Z"
   },
   {
    "duration": 25,
    "start_time": "2022-08-10T19:44:58.663Z"
   },
   {
    "duration": 30,
    "start_time": "2022-08-10T19:44:58.690Z"
   },
   {
    "duration": 21,
    "start_time": "2022-08-10T19:44:58.722Z"
   },
   {
    "duration": 8,
    "start_time": "2022-08-10T19:44:58.744Z"
   },
   {
    "duration": 17,
    "start_time": "2022-08-10T19:44:58.754Z"
   },
   {
    "duration": 14,
    "start_time": "2022-08-10T19:44:58.773Z"
   },
   {
    "duration": 16,
    "start_time": "2022-08-10T19:44:58.788Z"
   },
   {
    "duration": 37,
    "start_time": "2022-08-10T19:44:58.805Z"
   },
   {
    "duration": 24,
    "start_time": "2022-08-10T19:44:58.843Z"
   },
   {
    "duration": 26,
    "start_time": "2022-08-10T19:44:58.869Z"
   },
   {
    "duration": 11,
    "start_time": "2022-08-10T19:44:58.897Z"
   },
   {
    "duration": 10,
    "start_time": "2022-08-10T19:44:58.910Z"
   },
   {
    "duration": 35,
    "start_time": "2022-08-10T19:44:58.922Z"
   },
   {
    "duration": 23,
    "start_time": "2022-08-10T19:44:58.959Z"
   },
   {
    "duration": 25,
    "start_time": "2022-08-10T19:44:58.984Z"
   },
   {
    "duration": 13,
    "start_time": "2022-08-10T19:47:00.308Z"
   },
   {
    "duration": 44,
    "start_time": "2022-08-10T19:47:16.360Z"
   },
   {
    "duration": 12,
    "start_time": "2022-08-10T19:47:29.439Z"
   },
   {
    "duration": 9,
    "start_time": "2022-08-10T19:47:55.853Z"
   },
   {
    "duration": 8,
    "start_time": "2022-08-10T19:48:44.787Z"
   },
   {
    "duration": 71,
    "start_time": "2022-08-10T19:49:12.667Z"
   },
   {
    "duration": 75,
    "start_time": "2022-08-10T19:49:22.147Z"
   },
   {
    "duration": 89,
    "start_time": "2022-08-10T19:49:41.492Z"
   },
   {
    "duration": 66,
    "start_time": "2022-08-10T19:49:49.450Z"
   },
   {
    "duration": 80,
    "start_time": "2022-08-10T19:50:00.000Z"
   },
   {
    "duration": 4,
    "start_time": "2022-08-10T20:11:18.785Z"
   },
   {
    "duration": 16,
    "start_time": "2022-08-10T20:25:50.103Z"
   },
   {
    "duration": 9,
    "start_time": "2022-08-10T20:26:44.770Z"
   },
   {
    "duration": 12,
    "start_time": "2022-08-10T20:27:32.495Z"
   },
   {
    "duration": 27,
    "start_time": "2022-08-10T20:27:38.498Z"
   },
   {
    "duration": 12,
    "start_time": "2022-08-10T20:27:49.321Z"
   },
   {
    "duration": 26,
    "start_time": "2022-08-10T20:27:55.091Z"
   },
   {
    "duration": 16,
    "start_time": "2022-08-10T20:28:00.087Z"
   },
   {
    "duration": 28,
    "start_time": "2022-08-10T20:28:07.359Z"
   },
   {
    "duration": 11,
    "start_time": "2022-08-10T20:28:14.740Z"
   },
   {
    "duration": 12,
    "start_time": "2022-08-10T20:28:17.228Z"
   }
  ],
  "colab": {
   "collapsed_sections": [
    "E0vqbgi9ay0H",
    "VUC88oWjTJw2",
    "atZAxtq4_Zcu"
   ],
   "name": "EmptyFinalProject.ipynb\"",
   "provenance": []
  },
  "kernelspec": {
   "display_name": "Python 3 (ipykernel)",
   "language": "python",
   "name": "python3"
  },
  "language_info": {
   "codemirror_mode": {
    "name": "ipython",
    "version": 3
   },
   "file_extension": ".py",
   "mimetype": "text/x-python",
   "name": "python",
   "nbconvert_exporter": "python",
   "pygments_lexer": "ipython3",
   "version": "3.9.5"
  },
  "toc": {
   "base_numbering": 1,
   "nav_menu": {},
   "number_sections": true,
   "sideBar": true,
   "skip_h1_title": true,
   "title_cell": "Table of Contents",
   "title_sidebar": "Contents",
   "toc_cell": false,
   "toc_position": {},
   "toc_section_display": true,
   "toc_window_display": true
  }
 },
 "nbformat": 4,
 "nbformat_minor": 4
}
